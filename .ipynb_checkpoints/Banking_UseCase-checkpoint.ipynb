{
 "cells": [
  {
   "cell_type": "code",
   "execution_count": 1,
   "metadata": {
    "execution": {
     "iopub.execute_input": "2023-03-06T05:51:01.902669Z",
     "iopub.status.busy": "2023-03-06T05:51:01.902669Z",
     "iopub.status.idle": "2023-03-06T05:51:02.856133Z",
     "shell.execute_reply": "2023-03-06T05:51:02.856133Z",
     "shell.execute_reply.started": "2023-03-06T05:51:01.902669Z"
    },
    "scrolled": true,
    "tags": []
   },
   "outputs": [
    {
     "data": {
      "text/plain": [
       "<module 'gsvm' from 'C:\\\\Users\\\\londh\\\\qc\\\\Automatic_design_of_quantum_feature_maps_Genetic_Auto-Generation-main\\\\Qkrishi---QSVM\\\\gsvm.py'>"
      ]
     },
     "execution_count": 1,
     "metadata": {},
     "output_type": "execute_result"
    }
   ],
   "source": [
    "# Math Part\n",
    "import pandas as pd\n",
    "import time\n",
    "import numpy as np\n",
    "\n",
    "# Graph\n",
    "import matplotlib.pyplot as plt\n",
    "\n",
    "import importlib\n",
    "import circuit\n",
    "import encoding\n",
    "import qsvm\n",
    "import fitness\n",
    "import gsvm\n",
    "importlib.reload(circuit)\n",
    "importlib.reload(encoding)\n",
    "importlib.reload(qsvm)\n",
    "importlib.reload(fitness)\n",
    "importlib.reload(gsvm)"
   ]
  },
  {
   "cell_type": "code",
   "execution_count": 6,
   "metadata": {},
   "outputs": [
    {
     "name": "stdout",
     "output_type": "stream",
     "text": [
      "multi\n",
      "String: 101000011110110110001101111010000110010110011010011100100110111001101001111111110111100100\n",
      " -> accuracy = 0.595, gates = 14.0,recall = 0.5549738219895288\n",
      "String: 100010111000101110110111001001000001111011100101110101101110011000000101010001110011111111\n",
      " -> accuracy = 0.5825, gates = 16.0,recall = 0.5863874345549738\n",
      "String: 001011110110011000000100111110100110011000100101111100111001111111011110100010010001010101\n",
      " -> accuracy = 0.5675, gates = 13.0,recall = 0.44502617801047123\n",
      "String: 010010100000110100100001100011010110000001100011011000000111011011100000001100110100000010\n",
      " -> accuracy = 0.575, gates = 15.0,recall = 0.5130890052356021\n",
      "String: 000001010000110101011001001000111000111111101000001110100100111100110111010000100010011101\n",
      " -> accuracy = 0.57, gates = 17.0,recall = 0.5078534031413613\n",
      "String: 011011101010001100110010101000010010100000111111111010010010000110110100000001100001010110\n",
      " -> accuracy = 0.595, gates = 15.0,recall = 0.5602094240837696\n",
      "String: 001110010000000011111110000111001111010010110110101100111101111110001110010100110101011100\n",
      " -> accuracy = 0.5975, gates = 17.0,recall = 0.5863874345549738\n",
      "String: 110000011011000101100111100000110100100111110001001000100010001100111111100100000001000010\n",
      " -> accuracy = 0.59, gates = 16.0,recall = 0.5497382198952879\n",
      "String: 001010100110110000010010000101100000100001100101110000001010101111100111011011000001000101\n",
      " -> accuracy = 0.575, gates = 14.0,recall = 0.518324607329843\n",
      "String: 000111011110110001011001010111010000111010001011000100000011110001000010000000010001100111\n",
      " -> accuracy = 0.5825, gates = 14.0,recall = 0.5602094240837696\n",
      "gen\tnevals\tmedia\tstd      \tmax   \tmin   \n",
      "0  \t10    \t0.583\t0.0104163\t0.5975\t0.5675\n",
      "String: 000111011110110110001101010111010000111010001011000100000011110001000010000000010001100111\n",
      " -> accuracy = 0.59, gates = 11.0,recall = 0.5445026178010471\n",
      "String: 011001111010101110011110000000110000100010110110111010010010100011110101000001100001011110\n",
      " -> accuracy = 0.6, gates = 11.0,recall = 0.581151832460733\n",
      "String: 010111010110110000001001011110000000001010001011000000001011110001010010010000010001101110\n",
      " -> accuracy = 0.5925, gates = 12.0,recall = 0.5706806282722513\n",
      "String: 001010100110110000010010000101100110000001100011011000000111011011100000001100110001000101\n",
      " -> accuracy = 0.575, gates = 20.0,recall = 0.518324607329843\n",
      "String: 001001110110101001110100101010101110111000000001111100001001111111111110100110101100010001\n",
      " -> accuracy = 0.5225, gates = 12.0,recall = 0.17801047120418848\n",
      "1  \t5     \t0.58175\t0.0220808\t0.6   \t0.5225\n",
      "String: 111100001110101111001100010011010000101000001011000100010001110001100101000010000011000111\n",
      " -> accuracy = 0.5875, gates = 11.0,recall = 0.5392670157068062\n",
      "String: 001010100110110000010010000111010000111010001011000100000011110001000010000000010001000101\n",
      " -> accuracy = 0.5675, gates = 17.0,recall = 0.5759162303664922\n",
      "String: 001111101010001100110010101000010010100000111111111010010010000110110100000001100101011100\n",
      " -> accuracy = 0.595, gates = 16.0,recall = 0.5602094240837696\n",
      "String: 010111010110110000001001011110000000001010001011000000001011110001010010010000010001101110\n",
      " -> accuracy = 0.5925, gates = 12.0,recall = 0.5706806282722513\n",
      "String: 010111010110110000001001011110000000001010001010111010010010100011110101000001100001101110\n",
      " -> accuracy = 0.6, gates = 13.0,recall = 0.5759162303664922\n",
      "2  \t5     \t0.5845 \t0.0224944\t0.6   \t0.5225\n",
      "String: 001011110110110000000100111110100110011000100101111100111001111111011110100010010001010101\n",
      " -> accuracy = 0.575, gates = 12.0,recall = 0.7015706806282722\n",
      "String: 000111011110110100001001011110010000111010001011000100000011110001000010000000010001100111\n",
      " -> accuracy = 0.5725, gates = 14.0,recall = 0.44502617801047123\n",
      "String: 111100001110100110001100010011010000101000001011000100010001110001100101000010000011000111\n",
      " -> accuracy = 0.615, gates = 10.0,recall = 0.675392670157068\n",
      "String: 011111110110010010001001011111001000001010011011000000101010101001010010010000110111001110\n",
      " -> accuracy = 0.6, gates = 15.0,recall = 0.581151832460733\n",
      "String: 101010011100100001001101111010000010010110011010011100101110011001111001010111010111000101\n",
      " -> accuracy = 0.6025, gates = 17.0,recall = 0.6178010471204188\n",
      "3  \t5     \t0.58775\t0.0239387\t0.615 \t0.5225\n",
      "String: 101010011100100001001101111010000000001010001010011100101110011001111001010111010111000101\n",
      " -> accuracy = 0.5875, gates = 16.0,recall = 0.5759162303664922\n",
      "String: 000110000111100000101001111110011010001010001110100010010010100011110101010000000001101110\n",
      " -> accuracy = 0.595, gates = 17.0,recall = 0.5549738219895288\n",
      "String: 010111010110110000001001011110000000001010001011000000010010100011110101000001100001101110\n",
      " -> accuracy = 0.5725, gates = 15.0,recall = 0.518324607329843\n",
      "String: 111100001110101001001101111010000010010110011010011100101110011001111001010111000011000111\n",
      " -> accuracy = 0.5725, gates = 16.0,recall = 0.5078534031413613\n",
      "String: 111100001110101111001100010011010000101000001011000100010001110001100101000010000011000111\n",
      " -> accuracy = 0.5875, gates = 11.0,recall = 0.5392670157068062\n",
      "4  \t5     \t0.58725\t0.0238865\t0.615 \t0.5225\n",
      "String: 111100001110101111001100010011010000101000001011000100010001110001100101000010000001000111\n",
      " -> accuracy = 0.5875, gates = 10.0,recall = 0.5392670157068062\n",
      "String: 001001111110101111001100010011010000101000001011111100001001111111111110100110101100010001\n",
      " -> accuracy = 0.595, gates = 10.0,recall = 0.5549738219895288\n",
      "String: 111100001110101101001101111010000010010110011010011100101110110001100101000010000011000111\n",
      " -> accuracy = 0.52, gates = 11.0,recall = 0.18848167539267016\n",
      "String: 000111011110110110001101010111000000001010001011000000001011110001000010000000010001100111\n",
      " -> accuracy = 0.5875, gates = 12.0,recall = 0.5392670157068062\n",
      "String: 011001111010101110011110000000110000111010001011000100000011110001000001000001100001011110\n",
      " -> accuracy = 0.5825, gates = 13.0,recall = 0.5392670157068062\n",
      "5  \t5     \t0.5885 \t0.0242951\t0.615 \t0.52  \n",
      "Simulation finished after 8.887707471847534 seconds\n",
      "\n",
      "Genetic-algorithm output (bank_testdata.csv)\n",
      "---------------------------------------------\n",
      "0,\"111100001110101111001100010011010000101000001011000100010001110001100101000010000001000111\",2.2419270833333336,0.5875\n",
      "1,\"001001111110101111001100010011010000101000001011111100001001111111111110100110101100010001\",2.2567083333333335,0.595\n",
      "2,\"111100001110100110001100010011010000101000001011000100010001110001100101000010000011000111\",2.297041666666667,0.615\n"
     ]
    }
   ],
   "source": [
    "def evol(output=\"bank_testdata.csv\"):\n",
    "    df = pd.read_csv('bank_cleaned.csv')\n",
    "    bank_data = df.sample(n=2000,random_state=3)\n",
    "    y = bank_data['y'].values\n",
    "    X = bank_data[['age','job','marital', 'education','default','balance','housing','loan','contact',\n",
    "                  'day','month','duration','campaign','pdays','previous','poutcome']].values\n",
    "    start = time.time()\n",
    "    pop, pareto, logbook = gsvm.gsvm(nqubits=6, depth=3, nparameters=2,\n",
    "                                     X=X, y=y, weights=[-1.0,1.0],\n",
    "                                     mu=10,lambda_=5, ngen=5)\n",
    "    print(f'Simulation finished after {time.time()-start} seconds')\n",
    "    print(f'\\nGenetic-algorithm output ({output})')\n",
    "    #print('generation, individual, gates/qubit, accuracy')\n",
    "    print('---------------------------------------------')\n",
    "    with open(output, \"w\") as f:\n",
    "        for ide, ind in enumerate(pareto):\n",
    "            genes=''.join(str(i) for i in list(ind))\n",
    "            gates, acc = ind.fitness.values\n",
    "            line = f'{ide},\"{genes}\",{gates},{acc}'\n",
    "            f.write(line)\n",
    "            f.write('\\n')\n",
    "            print(line)\n",
    "\n",
    "evol()"
   ]
  },
  {
   "cell_type": "code",
   "execution_count": 7,
   "metadata": {
    "scrolled": true,
    "tags": []
   },
   "outputs": [
    {
     "data": {
      "text/html": [
       "<div>\n",
       "<style scoped>\n",
       "    .dataframe tbody tr th:only-of-type {\n",
       "        vertical-align: middle;\n",
       "    }\n",
       "\n",
       "    .dataframe tbody tr th {\n",
       "        vertical-align: top;\n",
       "    }\n",
       "\n",
       "    .dataframe thead th {\n",
       "        text-align: right;\n",
       "    }\n",
       "</style>\n",
       "<table border=\"1\" class=\"dataframe\">\n",
       "  <thead>\n",
       "    <tr style=\"text-align: right;\">\n",
       "      <th></th>\n",
       "      <th>ind</th>\n",
       "      <th>circ</th>\n",
       "      <th>gates</th>\n",
       "      <th>acc</th>\n",
       "    </tr>\n",
       "  </thead>\n",
       "  <tbody>\n",
       "    <tr>\n",
       "      <th>0</th>\n",
       "      <td>2</td>\n",
       "      <td>1111000011101001100011000100110100001010000010...</td>\n",
       "      <td>2.297042</td>\n",
       "      <td>0.6150</td>\n",
       "    </tr>\n",
       "    <tr>\n",
       "      <th>1</th>\n",
       "      <td>1</td>\n",
       "      <td>0010011111101011110011000100110100001010000010...</td>\n",
       "      <td>2.256708</td>\n",
       "      <td>0.5950</td>\n",
       "    </tr>\n",
       "    <tr>\n",
       "      <th>2</th>\n",
       "      <td>0</td>\n",
       "      <td>1111000011101011110011000100110100001010000010...</td>\n",
       "      <td>2.241927</td>\n",
       "      <td>0.5875</td>\n",
       "    </tr>\n",
       "  </tbody>\n",
       "</table>\n",
       "</div>"
      ],
      "text/plain": [
       "   ind                                               circ     gates     acc\n",
       "0    2  1111000011101001100011000100110100001010000010...  2.297042  0.6150\n",
       "1    1  0010011111101011110011000100110100001010000010...  2.256708  0.5950\n",
       "2    0  1111000011101011110011000100110100001010000010...  2.241927  0.5875"
      ]
     },
     "execution_count": 7,
     "metadata": {},
     "output_type": "execute_result"
    }
   ],
   "source": [
    "import encoding2 as e2\n",
    "import random\n",
    "\n",
    "iot_result = pd.read_csv('bank_testdata.csv',header=None)\n",
    "\n",
    "def ordenar_salidas_pareto(dataframe):\n",
    "    dataframe.columns=['ind','circ','gates','acc']\n",
    "    dataframe.sort_values(['acc','gates'], ascending=[False,False],inplace=True)\n",
    "    dataframe.reset_index(inplace=True)\n",
    "    dataframe.pop('index')\n",
    "    return dataframe\n",
    "\n",
    "iot_salidas = ordenar_salidas_pareto(iot_result)\n",
    "iot_salidas # Queremos ver el primer circuito del dataframe yya ordenado por accuracy (mejor ind)"
   ]
  },
  {
   "cell_type": "code",
   "execution_count": 17,
   "metadata": {},
   "outputs": [
    {
     "name": "stdout",
     "output_type": "stream",
     "text": [
      "['11001', '10100', '01110', '11111', '01011', '11100', '01000', '11001', '01100', '10110', '10001', '01001', '01010', '00000', '10000', '01010', '11100', '11011']\n",
      "8.0\n"
     ]
    },
    {
     "data": {
      "image/png": "[encoded data removed]",
      "text/plain": [
       "<Figure size 267.197x385.28 with 1 Axes>"
      ]
     },
     "execution_count": 17,
     "metadata": {},
     "output_type": "execute_result"
    }
   ],
   "source": [
    "from qiskit.circuit import ParameterVector, QuantumCircuit, Parameter\n",
    "from qiskit import execute, Aer, IBMQ, QuantumRegister, ClassicalRegister, BasicAer\n",
    "#from qiskit.aqua import QuantumInstance\n",
    "def coding_bits(b):\n",
    "    c = [b[n:n+5] for n,i in enumerate(b) if n%5==0]\n",
    "    c_p=[]\n",
    "    coding_0=[]\n",
    "    for i in range(len(c)):\n",
    "        for j in c[i]:\n",
    "            c_p.append(str(j))\n",
    "    np.asarray(c_p)\n",
    "    c = [c_p[n:n+5] for n,i in enumerate(c_p) if n%5==0]\n",
    "    for i in c:\n",
    "        coding_0.append(''.join(i))\n",
    "    return coding_0\n",
    "\n",
    "class CircuitConversor:\n",
    "\n",
    "    def __init__(self, nqubits, nparameters):\n",
    "        gates = {}\n",
    "        for n, suffix in enumerate(['00','01','10','11']):\n",
    "            angle = np.pi / (2**n)\n",
    "            gates['000'+suffix] = (self.make_H(), 1.0)\n",
    "            gates['001'+suffix] = (self.make_cx(), 2.0)\n",
    "            gates['010'+suffix] = (self.make_id(), 0.0)\n",
    "            gates['011'+suffix] = (self.make_rx(angle), 1.0)\n",
    "            gates['100'+suffix] = (self.make_rz(angle), 1.0)\n",
    "            gates['101'+suffix] = (self.make_id(), 0.0)\n",
    "            gates['110'+suffix] = (self.make_id(), 0.0)\n",
    "            gates['111'+suffix] = (self.make_ry(angle), 1.0)\n",
    "        self.gates = gates\n",
    "        self.nqubits = nqubits\n",
    "        self.register = QuantumRegister(nqubits, 'q')\n",
    "        self.nparameters = nparameters\n",
    "        self.nqubits = nqubits\n",
    "        self.x = ParameterVector('x', nparameters)\n",
    "\n",
    "    def __call__(self, coding_0):\n",
    "        print(coding_0)\n",
    "        circuit = QuantumCircuit(self.register)\n",
    "        k = 0\n",
    "        cost = 0\n",
    "        for ndx, z in enumerate(coding_0):\n",
    "            qubit = ndx % self.nqubits\n",
    "            target = (ndx + 1) % self.nqubits\n",
    "            fn, weight = self.gates[z]\n",
    "            k = fn(circuit, k, qubit, target)\n",
    "            cost += weight\n",
    "        for i in range(k, self.nparameters):\n",
    "            circuit.rz(self.x[i]*0, self.register[0])\n",
    "        return circuit, cost\n",
    "\n",
    "    def make_id(self):\n",
    "        def operation(circuit, k, qubit, target):\n",
    "            return k\n",
    "        return operation\n",
    "\n",
    "    def make_H(self):\n",
    "        def operation(circuit, k, qubit, target):\n",
    "            circuit.h(self.register[qubit])\n",
    "            return k\n",
    "        return operation\n",
    "\n",
    "    def make_cx(self):\n",
    "        def operation(circuit, k, qubit, target):\n",
    "            circuit.cx(self.register[qubit], self.register[target])\n",
    "            return k\n",
    "        return operation\n",
    "\n",
    "    def make_rx(self, angle):\n",
    "        def operation(circuit, k, qubit, target):\n",
    "            circuit.rx(self.x[k%self.nparameters] * angle,\n",
    "                       self.register[qubit])\n",
    "            return k+1\n",
    "        return operation\n",
    "\n",
    "    def make_ry(self, angle):\n",
    "        def operation(circuit, k, qubit, target):\n",
    "            circuit.ry(self.x[k%self.nparameters] * angle,\n",
    "                       self.register[qubit])\n",
    "            return k+1\n",
    "        return operation\n",
    "\n",
    "    def make_rz(self, angle):\n",
    "        def operation(circuit, k, qubit, target):\n",
    "            circuit.rz(self.x[k%self.nparameters] * angle,\n",
    "                       self.register[qubit])\n",
    "            return k+1\n",
    "        return operation\n",
    "\n",
    "cc = CircuitConversor(nqubits=6, nparameters=3)\n",
    "fm, puertas = cc(coding_bits(iot_salidas.circ[0]))\n",
    "print(puertas)\n",
    "fm.draw(output='mpl')"
   ]
  },
  {
   "cell_type": "code",
   "execution_count": 6,
   "metadata": {},
   "outputs": [],
   "source": [
    "from sklearn.metrics import confusion_matrix, ConfusionMatrixDisplay, recall_score, accuracy_score\n",
    "import matplotlib.pyplot as plt"
   ]
  },
  {
   "cell_type": "code",
   "execution_count": 13,
   "metadata": {},
   "outputs": [],
   "source": [
    "def featuremap_performance(pop:str,nqubits:int,nparameters:int):\n",
    "    '''Returns the performance of a feature map on all of the dataset'''\n",
    "\n",
    "    bank_data = pd.read_csv('bank_cleaned.csv').iloc[11500:22000]\n",
    "\n",
    "    y = bank_data['y'].values\n",
    "    X = bank_data[['age','job','marital','education','default','balance',\n",
    "                'housing','loan','contact','day','month','duration','campaign','pdays','previous','poutcome']].values\n",
    "\n",
    "\n",
    "    fitness_obj = fitness.Fitness(nqubits,nparameters,X,y,debug=True)\n",
    "\n",
    "    training_features, training_labels, test_features, test_labels = fitness.Dataset(X,y)\n",
    "\n",
    "    model = qsvm.QSVM(lambda parameters: fitness_obj.cc(pop, parameters)[0],training_features,training_labels)#fitness_obj(pop)\n",
    "\n",
    "    y_pred = model.predict(test_features)\n",
    "\n",
    "    cm = confusion_matrix(test_labels, y_pred)\n",
    "\n",
    "    #cm_display = ConfusionMatrixDisplay(cm).plot()\n",
    "    ConfusionMatrixDisplay.from_predictions(test_labels, y_pred)\n",
    "    plt.show()\n",
    "    recall = recall_score(test_labels, y_pred)\n",
    "    acc  = accuracy_score(test_labels, y_pred)\n",
    "\n",
    "    print(f'String = {pop}, accuracy = {acc}, recall = {recall}')\n",
    "    return None"
   ]
  },
  {
   "cell_type": "code",
   "execution_count": 18,
   "metadata": {},
   "outputs": [
    {
     "data": {
      "image/png": "[encoded data removed]",
      "text/plain": [
       "<Figure size 432x288 with 2 Axes>"
      ]
     },
     "metadata": {
      "needs_background": "light"
     },
     "output_type": "display_data"
    },
    {
     "name": "stdout",
     "output_type": "stream",
     "text": [
      "String = 110011010001110111110101111100010001100101100101101000101001010100000010000010101110011011, accuracy = 0.9380952380952381, recall = 0.0\n"
     ]
    }
   ],
   "source": [
    "pred = featuremap_performance(iot_salidas.circ[0],6,3)"
   ]
  },
  {
   "cell_type": "code",
   "execution_count": null,
   "metadata": {},
   "outputs": [],
   "source": []
  }
 ],
 "metadata": {
  "kernelspec": {
   "display_name": "Python 3 (ipykernel)",
   "language": "python",
   "name": "python3"
  },
  "language_info": {
   "codemirror_mode": {
    "name": "ipython",
    "version": 3
   },
   "file_extension": ".py",
   "mimetype": "text/x-python",
   "name": "python",
   "nbconvert_exporter": "python",
   "pygments_lexer": "ipython3",
   "version": "3.9.7"
  },
  "vscode": {
   "interpreter": {
    "hash": "3dc53fd84ad5731d04d4fc36beb52296b89dd90b5123e6bc5399b8c2dcae883a"
   }
  }
 },
 "nbformat": 4,
 "nbformat_minor": 4
}
