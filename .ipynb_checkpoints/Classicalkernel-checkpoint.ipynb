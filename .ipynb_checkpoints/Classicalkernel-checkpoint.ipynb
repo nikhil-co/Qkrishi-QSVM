{
 "cells": [
  {
   "cell_type": "markdown",
   "id": "b503c889-8877-4db1-9e7d-d6dddcc3760e",
   "metadata": {},
   "source": [
    "# Testing Classical ML models "
   ]
  },
  {
   "cell_type": "code",
   "execution_count": 2,
   "id": "2a306afa-cd2e-47ae-8b22-082572691efa",
   "metadata": {
    "execution": {
     "iopub.execute_input": "2023-05-16T06:21:37.898994Z",
     "iopub.status.busy": "2023-05-16T06:21:37.898994Z",
     "iopub.status.idle": "2023-05-16T06:21:38.854969Z",
     "shell.execute_reply": "2023-05-16T06:21:38.854969Z",
     "shell.execute_reply.started": "2023-05-16T06:21:37.898994Z"
    },
    "tags": []
   },
   "outputs": [],
   "source": [
    "import time\n",
    "\n",
    "import numpy as np\n",
    "import pandas as pd\n",
    "import matplotlib.pyplot as plt\n",
    "\n",
    "from sklearn.model_selection import train_test_split\n",
    "from sklearn.preprocessing import StandardScaler\n",
    "from sklearn.pipeline import make_pipeline\n",
    "\n",
    "from sklearn.svm import SVC\n",
    "from sklearn.svm import NuSVC\n",
    "\n",
    "from sklearn import metrics\n",
    "from sklearn.metrics import roc_auc_score"
   ]
  },
  {
   "cell_type": "markdown",
   "id": "d9becdc5-6cf4-4285-985f-31985bdd3b8f",
   "metadata": {},
   "source": [
    "## Defining the classifiers"
   ]
  },
  {
   "cell_type": "code",
   "execution_count": 3,
   "id": "7e3c8ee8-a12b-420c-b396-41414419c60c",
   "metadata": {
    "execution": {
     "iopub.execute_input": "2023-05-16T06:21:38.855966Z",
     "iopub.status.busy": "2023-05-16T06:21:38.855966Z",
     "iopub.status.idle": "2023-05-16T06:21:38.870147Z",
     "shell.execute_reply": "2023-05-16T06:21:38.870147Z",
     "shell.execute_reply.started": "2023-05-16T06:21:38.855966Z"
    },
    "tags": []
   },
   "outputs": [],
   "source": [
    "names = [\n",
    "    \"Linear SVM\",\n",
    "    \"RBF SVM\",\n",
    "    \"Poly SVM\",\n",
    "    \"Sigmoid SVM\",\n",
    "    \"NuSVC\"\n",
    "]\n",
    "\n",
    "classifiers = [\n",
    "    SVC(kernel='linear'),\n",
    "    SVC(kernel='rbf'),\n",
    "    SVC(kernel='poly'),\n",
    "    SVC(kernel='sigmoid'),\n",
    "    NuSVC()\n",
    "]"
   ]
  },
  {
   "cell_type": "markdown",
   "id": "ce7a3775-e15c-4bcd-bb27-3858b9348d5c",
   "metadata": {},
   "source": [
    "## Loading the Dataset"
   ]
  },
  {
   "cell_type": "code",
   "execution_count": 4,
   "id": "9c0e78b5-8dcf-4e1d-8eda-07fbb28bc1fb",
   "metadata": {
    "execution": {
     "iopub.execute_input": "2023-05-16T06:21:38.871143Z",
     "iopub.status.busy": "2023-05-16T06:21:38.871143Z",
     "iopub.status.idle": "2023-05-16T06:21:38.948175Z",
     "shell.execute_reply": "2023-05-16T06:21:38.948175Z",
     "shell.execute_reply.started": "2023-05-16T06:21:38.871143Z"
    },
    "tags": []
   },
   "outputs": [],
   "source": [
    "bank_data = pd.read_csv('bank_cleaned.csv')\n",
    "bank_data = bank_data.sample(frac=.3,random_state=98)\n",
    "\n",
    "bank_data = bank_data.drop(columns='Unnamed: 0')"
   ]
  },
  {
   "cell_type": "markdown",
   "id": "fcecbe6c-7fb5-4b5f-a000-b1927d3aff14",
   "metadata": {},
   "source": [
    "## Dataset"
   ]
  },
  {
   "cell_type": "code",
   "execution_count": 5,
   "id": "9e85f2e0-3a60-4694-9135-20d04ee4a012",
   "metadata": {
    "execution": {
     "iopub.execute_input": "2023-05-16T06:21:38.949172Z",
     "iopub.status.busy": "2023-05-16T06:21:38.949172Z",
     "iopub.status.idle": "2023-05-16T06:21:38.963360Z",
     "shell.execute_reply": "2023-05-16T06:21:38.963360Z",
     "shell.execute_reply.started": "2023-05-16T06:21:38.949172Z"
    },
    "tags": []
   },
   "outputs": [
    {
     "name": "stdout",
     "output_type": "stream",
     "text": [
      "Shape of the Dataset: (23953, 17)\n",
      "\n"
     ]
    },
    {
     "data": {
      "text/html": [
       "<div>\n",
       "<style scoped>\n",
       "    .dataframe tbody tr th:only-of-type {\n",
       "        vertical-align: middle;\n",
       "    }\n",
       "\n",
       "    .dataframe tbody tr th {\n",
       "        vertical-align: top;\n",
       "    }\n",
       "\n",
       "    .dataframe thead th {\n",
       "        text-align: right;\n",
       "    }\n",
       "</style>\n",
       "<table border=\"1\" class=\"dataframe\">\n",
       "  <thead>\n",
       "    <tr style=\"text-align: right;\">\n",
       "      <th></th>\n",
       "      <th>age</th>\n",
       "      <th>job</th>\n",
       "      <th>marital</th>\n",
       "      <th>education</th>\n",
       "      <th>default</th>\n",
       "      <th>balance</th>\n",
       "      <th>housing</th>\n",
       "      <th>loan</th>\n",
       "      <th>contact</th>\n",
       "      <th>day</th>\n",
       "      <th>month</th>\n",
       "      <th>duration</th>\n",
       "      <th>campaign</th>\n",
       "      <th>pdays</th>\n",
       "      <th>previous</th>\n",
       "      <th>poutcome</th>\n",
       "      <th>y</th>\n",
       "    </tr>\n",
       "  </thead>\n",
       "  <tbody>\n",
       "    <tr>\n",
       "      <th>36025</th>\n",
       "      <td>9.000000</td>\n",
       "      <td>1.000000</td>\n",
       "      <td>2.0</td>\n",
       "      <td>0.000000</td>\n",
       "      <td>0.0</td>\n",
       "      <td>984.000000</td>\n",
       "      <td>1.000000</td>\n",
       "      <td>1.0</td>\n",
       "      <td>0.000000</td>\n",
       "      <td>10.000000</td>\n",
       "      <td>8.000000</td>\n",
       "      <td>50.000000</td>\n",
       "      <td>4.000000</td>\n",
       "      <td>0.0</td>\n",
       "      <td>0.0</td>\n",
       "      <td>0.0</td>\n",
       "      <td>0</td>\n",
       "    </tr>\n",
       "    <tr>\n",
       "      <th>29522</th>\n",
       "      <td>30.000000</td>\n",
       "      <td>9.000000</td>\n",
       "      <td>2.0</td>\n",
       "      <td>1.000000</td>\n",
       "      <td>0.0</td>\n",
       "      <td>824.000000</td>\n",
       "      <td>1.000000</td>\n",
       "      <td>0.0</td>\n",
       "      <td>0.000000</td>\n",
       "      <td>2.000000</td>\n",
       "      <td>3.000000</td>\n",
       "      <td>1317.000000</td>\n",
       "      <td>0.000000</td>\n",
       "      <td>0.0</td>\n",
       "      <td>0.0</td>\n",
       "      <td>0.0</td>\n",
       "      <td>1</td>\n",
       "    </tr>\n",
       "    <tr>\n",
       "      <th>17534</th>\n",
       "      <td>41.000000</td>\n",
       "      <td>4.000000</td>\n",
       "      <td>1.0</td>\n",
       "      <td>1.000000</td>\n",
       "      <td>0.0</td>\n",
       "      <td>74.000000</td>\n",
       "      <td>0.000000</td>\n",
       "      <td>0.0</td>\n",
       "      <td>1.000000</td>\n",
       "      <td>28.000000</td>\n",
       "      <td>5.000000</td>\n",
       "      <td>175.000000</td>\n",
       "      <td>1.000000</td>\n",
       "      <td>0.0</td>\n",
       "      <td>0.0</td>\n",
       "      <td>0.0</td>\n",
       "      <td>0</td>\n",
       "    </tr>\n",
       "    <tr>\n",
       "      <th>60001</th>\n",
       "      <td>27.239532</td>\n",
       "      <td>4.114620</td>\n",
       "      <td>2.0</td>\n",
       "      <td>1.588538</td>\n",
       "      <td>0.0</td>\n",
       "      <td>1304.650994</td>\n",
       "      <td>0.411462</td>\n",
       "      <td>0.0</td>\n",
       "      <td>0.588538</td>\n",
       "      <td>18.770761</td>\n",
       "      <td>5.645848</td>\n",
       "      <td>972.994853</td>\n",
       "      <td>1.000000</td>\n",
       "      <td>0.0</td>\n",
       "      <td>0.0</td>\n",
       "      <td>0.0</td>\n",
       "      <td>1</td>\n",
       "    </tr>\n",
       "    <tr>\n",
       "      <th>72413</th>\n",
       "      <td>25.443061</td>\n",
       "      <td>3.863583</td>\n",
       "      <td>1.0</td>\n",
       "      <td>1.357948</td>\n",
       "      <td>0.0</td>\n",
       "      <td>2242.420522</td>\n",
       "      <td>0.000000</td>\n",
       "      <td>0.0</td>\n",
       "      <td>0.000000</td>\n",
       "      <td>28.284104</td>\n",
       "      <td>0.000000</td>\n",
       "      <td>388.926156</td>\n",
       "      <td>0.357948</td>\n",
       "      <td>0.0</td>\n",
       "      <td>0.0</td>\n",
       "      <td>0.0</td>\n",
       "      <td>1</td>\n",
       "    </tr>\n",
       "  </tbody>\n",
       "</table>\n",
       "</div>"
      ],
      "text/plain": [
       "             age       job  marital  education  default      balance  \\\n",
       "36025   9.000000  1.000000      2.0   0.000000      0.0   984.000000   \n",
       "29522  30.000000  9.000000      2.0   1.000000      0.0   824.000000   \n",
       "17534  41.000000  4.000000      1.0   1.000000      0.0    74.000000   \n",
       "60001  27.239532  4.114620      2.0   1.588538      0.0  1304.650994   \n",
       "72413  25.443061  3.863583      1.0   1.357948      0.0  2242.420522   \n",
       "\n",
       "        housing  loan   contact        day     month     duration  campaign  \\\n",
       "36025  1.000000   1.0  0.000000  10.000000  8.000000    50.000000  4.000000   \n",
       "29522  1.000000   0.0  0.000000   2.000000  3.000000  1317.000000  0.000000   \n",
       "17534  0.000000   0.0  1.000000  28.000000  5.000000   175.000000  1.000000   \n",
       "60001  0.411462   0.0  0.588538  18.770761  5.645848   972.994853  1.000000   \n",
       "72413  0.000000   0.0  0.000000  28.284104  0.000000   388.926156  0.357948   \n",
       "\n",
       "       pdays  previous  poutcome  y  \n",
       "36025    0.0       0.0       0.0  0  \n",
       "29522    0.0       0.0       0.0  1  \n",
       "17534    0.0       0.0       0.0  0  \n",
       "60001    0.0       0.0       0.0  1  \n",
       "72413    0.0       0.0       0.0  1  "
      ]
     },
     "execution_count": 5,
     "metadata": {},
     "output_type": "execute_result"
    }
   ],
   "source": [
    "print(f'Shape of the Dataset: {bank_data.shape}\\n')\n",
    "\n",
    "bank_data.head()"
   ]
  },
  {
   "cell_type": "markdown",
   "id": "4fb2845d-5a86-45aa-a442-819204312b6b",
   "metadata": {},
   "source": [
    "## Selecting Features"
   ]
  },
  {
   "cell_type": "code",
   "execution_count": 6,
   "id": "4cf8d694-f5ed-4965-8c51-eaea4bd8a78e",
   "metadata": {
    "execution": {
     "iopub.execute_input": "2023-05-16T06:21:38.965500Z",
     "iopub.status.busy": "2023-05-16T06:21:38.965500Z",
     "iopub.status.idle": "2023-05-16T06:21:38.978975Z",
     "shell.execute_reply": "2023-05-16T06:21:38.978975Z",
     "shell.execute_reply.started": "2023-05-16T06:21:38.965500Z"
    },
    "tags": []
   },
   "outputs": [],
   "source": [
    "Y = bank_data['y'].values\n",
    "# X = bank_data[['age','job','marital','education','default','balance',\n",
    "#                'housing','loan','contact','day','month','duration',\n",
    "#                'campaign','pdays','previous','poutcome']].values\n",
    "X = bank_data[['age', 'job', 'marital', 'education', 'default', 'balance',\n",
    "               'housing', 'loan', 'contact', 'day', 'month', 'campaign', 'pdays', 'previous', 'poutcome']].values"
   ]
  },
  {
   "cell_type": "markdown",
   "id": "33326cf8-2536-42ae-9a20-e468f003405a",
   "metadata": {},
   "source": [
    "## Splitting into test and training data "
   ]
  },
  {
   "cell_type": "code",
   "execution_count": 7,
   "id": "63fdf647-3b2f-4387-b931-8ea22efb6254",
   "metadata": {
    "execution": {
     "iopub.execute_input": "2023-05-16T06:21:38.979972Z",
     "iopub.status.busy": "2023-05-16T06:21:38.979972Z",
     "iopub.status.idle": "2023-05-16T06:21:39.055007Z",
     "shell.execute_reply": "2023-05-16T06:21:39.055007Z",
     "shell.execute_reply.started": "2023-05-16T06:21:38.979972Z"
    },
    "tags": []
   },
   "outputs": [
    {
     "name": "stdout",
     "output_type": "stream",
     "text": [
      "\n",
      "Total balanced data points :  23953\n",
      "Features dimension :  15\n",
      "Total data points after including synthetic data :  23953\n",
      "The data is binary classified as 0 and 1\n",
      "Number of 0's in the dataset: 121\n",
      "Number of 1's in the dataset: 118\n",
      "Training data, Testing Data : 239 which is 1.0% percent of all the data points, 23714\n",
      "Ratio between 0's and 1's : 1.0254237288135593\n",
      "\n"
     ]
    },
    {
     "data": {
      "image/png": "[encoded data removed]",
      "text/plain": [
       "<Figure size 448x336 with 1 Axes>"
      ]
     },
     "metadata": {},
     "output_type": "display_data"
    }
   ],
   "source": [
    "# Scaling Data\n",
    "# ss = StandardScaler()\n",
    "# X = ss.fit_transform(X)\n",
    "\n",
    "train_size = 0.01\n",
    "\n",
    "X_train, X_test, Y_train, Y_test = train_test_split(X, Y, train_size=train_size, random_state=12,stratify=Y)\n",
    "\n",
    "# Printing Dataset Details\n",
    "print(\"\\nTotal balanced data points : \", len(X))\n",
    "print(\"Features dimension : \", np.shape(X)[1]) # including ID and label\n",
    "print(f\"Total data points after including synthetic data : \",len(X_train)+len(X_test))\n",
    "print(\"The data is binary classified as 0 and 1\")\n",
    "print(f\"Number of 0's in the dataset: {len(Y_train[Y_train==0])}\")\n",
    "print(f\"Number of 1's in the dataset: {len(Y_train[Y_train==1])}\")\n",
    "print(f\"Training data, Testing Data : {len(X_train)} which is {(train_size*100).__round__(3)}% percent of all the data points, {len(X_test)}\")\n",
    "print(f\"Ratio between 0's and 1's : {len(Y_train[Y_train==0])/ len(Y_train[Y_train==1])}\\n\")\n",
    "\n",
    "# Plotting no. of Class 0 vs 1 \n",
    "fig = plt.figure(dpi=70)\n",
    "plt.hist(Y_train, 3, facecolor='k')\n",
    "plt.xticks([0.15,0.85], [0,1])\n",
    "plt.xlabel('Class Labels')\n",
    "plt.ylabel('Number of Points')\n",
    "plt.show()"
   ]
  },
  {
   "cell_type": "code",
   "execution_count": 8,
   "id": "6b2c39d8-bb40-4950-9f81-63d9a6e89c88",
   "metadata": {
    "execution": {
     "iopub.execute_input": "2023-05-16T06:21:39.056004Z",
     "iopub.status.busy": "2023-05-16T06:21:39.056004Z",
     "iopub.status.idle": "2023-05-16T06:21:39.072001Z",
     "shell.execute_reply": "2023-05-16T06:21:39.071006Z",
     "shell.execute_reply.started": "2023-05-16T06:21:39.056004Z"
    },
    "tags": []
   },
   "outputs": [],
   "source": [
    "# iterate over classifiers\n",
    "# for name, clf in zip(names, classifiers):\n",
    "\n",
    "#     clf = make_pipeline(StandardScaler(), clf)\n",
    "#     clf.fit(X_train, Y_train)\n",
    "#     predictions = clf.predict(X_test)\n",
    "#     test_metrics = metrics.classification_report(y_true=Y_test, y_pred=predictions, zero_division=0)\n",
    "#     rocauc = round(roc_auc_score(y_test, predictions), 4)\n",
    "\n",
    "#     print(f'Testing Metrics for {name}\\n{test_metrics}')\n",
    "#     print(f'ROC AUC Score: {rocauc}\\n\\n')"
   ]
  },
  {
   "cell_type": "code",
   "execution_count": 9,
   "id": "269d28ee-1201-4927-bca6-0a43aa078a28",
   "metadata": {
    "execution": {
     "iopub.execute_input": "2023-05-16T06:21:39.072999Z",
     "iopub.status.busy": "2023-05-16T06:21:39.072001Z",
     "iopub.status.idle": "2023-05-16T06:21:39.086075Z",
     "shell.execute_reply": "2023-05-16T06:21:39.086075Z",
     "shell.execute_reply.started": "2023-05-16T06:21:39.072999Z"
    },
    "tags": []
   },
   "outputs": [],
   "source": [
    "def classification(name,clf):\n",
    "    \n",
    "    print(f'Classifying using {name}.\\n')\n",
    "    \n",
    "    start = time.time()\n",
    "    \n",
    "    clf.fit(X_train, Y_train)\n",
    "    predictions = clf.predict(X_test)\n",
    "    \n",
    "    end = time.time()\n",
    "    \n",
    "    print(f'Time Taken to Classify using {name}: {(end-start)/60} mins\\n')\n",
    "    \n",
    "    test_metrics = metrics.classification_report(y_true=Y_test, y_pred=predictions, zero_division=0)\n",
    "    rocauc = round(roc_auc_score(Y_test, predictions), 4)\n",
    "\n",
    "    print(f'Testing Metrics for {name}\\n{test_metrics}')\n",
    "    print(f'ROC AUC Score: {rocauc}\\n\\n')\n",
    "    \n",
    "    confusionMatrix = metrics.confusion_matrix(y_true=Y_test, y_pred=predictions)\n",
    "    disp = metrics.ConfusionMatrixDisplay(confusionMatrix)\n",
    "    disp.plot()\n",
    "    plt.title(f\"Confusion Matrix\")\n",
    "    plt.show()\n",
    "    \n",
    "    return None"
   ]
  },
  {
   "cell_type": "code",
   "execution_count": null,
   "id": "16f7819a-c25c-4f7e-a1b2-f40b53f7d51b",
   "metadata": {
    "execution": {
     "iopub.execute_input": "2023-05-16T06:21:52.232236Z",
     "iopub.status.busy": "2023-05-16T06:21:52.232236Z"
    },
    "tags": []
   },
   "outputs": [
    {
     "name": "stdout",
     "output_type": "stream",
     "text": [
      "Classifying using Linear SVM.\n",
      "\n"
     ]
    }
   ],
   "source": [
    "i = 0\n",
    "\n",
    "classification(names[i],classifiers[i])"
   ]
  },
  {
   "cell_type": "code",
   "execution_count": null,
   "id": "3b2f1ca7-424e-426f-a7ad-f5d284a1d775",
   "metadata": {},
   "outputs": [],
   "source": []
  }
 ],
 "metadata": {
  "kernelspec": {
   "display_name": "Python 3 (ipykernel)",
   "language": "python",
   "name": "python3"
  },
  "language_info": {
   "codemirror_mode": {
    "name": "ipython",
    "version": 3
   },
   "file_extension": ".py",
   "mimetype": "text/x-python",
   "name": "python",
   "nbconvert_exporter": "python",
   "pygments_lexer": "ipython3",
   "version": "3.9.16"
  }
 },
 "nbformat": 4,
 "nbformat_minor": 5
}
