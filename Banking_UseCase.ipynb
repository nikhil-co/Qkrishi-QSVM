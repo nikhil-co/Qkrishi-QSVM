{
 "cells": [
  {
   "cell_type": "code",
   "execution_count": 1,
   "metadata": {
    "scrolled": true,
    "tags": []
   },
   "outputs": [],
   "source": [
    "#Math Part\n",
    "import numpy as np\n",
    "import pandas as pd\n",
    "\n",
    "#Graph\n",
    "import matplotlib.pyplot as plt\n",
    "\n",
    "import importlib\n",
    "import circuit\n",
    "import encoding\n",
    "import qsvm\n",
    "import fitness\n",
    "import gsvm\n",
    "importlib.reload(circuit)\n",
    "importlib.reload(encoding)\n",
    "importlib.reload(qsvm)\n",
    "importlib.reload(fitness)\n",
    "importlib.reload(gsvm)\n",
    "\n",
    "import pandas as pd\n",
    "import time\n"
   ]
  },
  {
   "cell_type": "code",
   "execution_count": 3,
   "metadata": {},
   "outputs": [
    {
     "name": "stdout",
     "output_type": "stream",
     "text": [
      "multi\n"
     ]
    },
    {
     "name": "stderr",
     "output_type": "stream",
     "text": [
      "d:\\Anaconda\\envs\\qc\\lib\\site-packages\\deap\\creator.py:138: RuntimeWarning: A class named 'FitnessMulti' has already been created and it will be overwritten. Consider deleting previous creation of that class or rename it.\n",
      "  warnings.warn(\"A class named '{0}' has already been created and it \"\n",
      "d:\\Anaconda\\envs\\qc\\lib\\site-packages\\deap\\creator.py:138: RuntimeWarning: A class named 'Individual' has already been created and it will be overwritten. Consider deleting previous creation of that class or rename it.\n",
      "  warnings.warn(\"A class named '{0}' has already been created and it \"\n"
     ]
    },
    {
     "name": "stdout",
     "output_type": "stream",
     "text": [
      "String: 111111100101100110101010011000000000001101101001000011011110010000101011110111000001100110\n",
      " -> accuracy = 0.945, gates = 15.0,recall = 1.0\n",
      "String: 000001111101000111111110100001000010101111001100001110011110101101100110101110001001101111\n",
      " -> accuracy = 0.945, gates = 11.0,recall = 1.0\n",
      "String: 000011000010110111111000001011010111011010110100101100111100010110010010101010110000100000\n",
      " -> accuracy = 0.945, gates = 10.0,recall = 1.0\n",
      "String: 110000110001001010100110011010100101110011110100011010011111010100010000000101001000101111\n",
      " -> accuracy = 0.945, gates = 12.0,recall = 1.0\n",
      "String: 110100001001001011101111001010001111010001111011001111111010100001011011011110011100101111\n",
      " -> accuracy = 0.945, gates = 10.0,recall = 1.0\n",
      "String: 001110101110001101100110110000100101110001001111111101000110101011010010011011010011100001\n",
      " -> accuracy = 0.945, gates = 15.0,recall = 1.0\n",
      "String: 010001110000110101111010001001100110110011100011011111111010001101110111000101111101001110\n",
      " -> accuracy = 0.945, gates = 12.0,recall = 1.0\n",
      "String: 100010001000111111001110011110111100101101010101110110101101000011001000010100110111010010\n",
      " -> accuracy = 0.945, gates = 16.0,recall = 1.0\n",
      "String: 111001111000110011011011000110010010011011011101110101011011110100000101001010110001111101\n",
      " -> accuracy = 0.945, gates = 12.0,recall = 1.0\n",
      "String: 100111111001010000011100111010100101000111100000111001101100101011001011011000000001101100\n",
      " -> accuracy = 0.945, gates = 13.0,recall = 1.0\n",
      "gen\tnevals\tmedia\tstd\tmax  \tmin  \n",
      "0  \t10    \t0.945\t0  \t0.945\t0.945\n",
      "String: 110001100101100110101010011000000000001101101001000011011110010100010000000101001000101111\n",
      " -> accuracy = 0.945, gates = 14.0,recall = 1.0\n",
      "String: 101010000001010001001110011010011000001101010101111100101110000011011001010100011111010110\n",
      " -> accuracy = 0.945, gates = 10.0,recall = 1.0\n",
      "String: 101111111000110011011011000110000011111111001111110101001011110100000001001010110001111100\n",
      " -> accuracy = 0.945, gates = 12.0,recall = 1.0\n",
      "String: 110001110000110101111010011010100101110011110100011010011111010100010000000101001000101111\n",
      " -> accuracy = 0.945, gates = 13.0,recall = 1.0\n",
      "String: 100101111001001011011100101010100110101111101010110001011101101011001011011010010001101110\n",
      " -> accuracy = 0.945, gates = 10.0,recall = 1.0\n",
      "1  \t5     \t0.945\t0  \t0.945\t0.945\n",
      "String: 100111111001010000011100111010100101001111101010110001011101101011001011011000000001101100\n",
      " -> accuracy = 0.945, gates = 12.0,recall = 1.0\n",
      "String: 010000110001001010100110011010100101110011110100011010011111010100010000000101111101001110\n",
      " -> accuracy = 0.945, gates = 11.0,recall = 1.0\n",
      "String: 001101111101010010111110100101001100101110001100011111011110101101100110101110001001101101\n",
      " -> accuracy = 0.945, gates = 14.0,recall = 1.0\n",
      "String: 111001110101001000100110011010111100110000011100011110001110111100110000000101101000100111\n",
      " -> accuracy = 0.945, gates = 16.0,recall = 1.0\n",
      "String: 010001110000110101111010011010100101110011110100011010011111010100010000000101001000101110\n",
      " -> accuracy = 0.945, gates = 13.0,recall = 1.0\n",
      "2  \t5     \t0.945\t0  \t0.945\t0.945\n",
      "String: 000010000001001010000110010111100001110010110100010011111111010000010000100001001101111110\n",
      " -> accuracy = 0.945, gates = 16.0,recall = 1.0\n",
      "String: 000001111101001011111110100001000010101111001100001110011110101101100110101110001001101111\n",
      " -> accuracy = 0.945, gates = 11.0,recall = 1.0\n",
      "String: 110101001001001001111011100010001111010011100001001111111000110001011001001100011101100111\n",
      " -> accuracy = 0.945, gates = 13.0,recall = 1.0\n",
      "String: 100101111001001010100110011010100101110011110100011001011101101011001011011010010001101110\n",
      " -> accuracy = 0.945, gates = 12.0,recall = 1.0\n",
      "String: 110100001011001010101111101010001111010001101010101011001010100001010010011110011000101111\n",
      " -> accuracy = 0.945, gates = 9.0,recall = 1.0\n",
      "3  \t5     \t0.945\t0  \t0.945\t0.945\n",
      "String: 000001111101000111111110100001000010101111001010110001011101101011001010101110001001101111\n",
      " -> accuracy = 0.945, gates = 11.0,recall = 1.0\n",
      "String: 110000110001001010100110011010100101110011110100101100011111010100010000000101001000101111\n",
      " -> accuracy = 0.945, gates = 12.0,recall = 1.0\n",
      "String: 000011000010110111111000001011010111010001101010101011001010110110010010101010110000100000\n",
      " -> accuracy = 0.945, gates = 9.0,recall = 1.0\n",
      "String: 110100001001001011101111001010001111010001111010101111111010100001011011011110011100101111\n",
      " -> accuracy = 0.945, gates = 9.0,recall = 1.0\n",
      "String: 101010000001010001001110011010011000001101010101111100101110000011011001010100011100101110\n",
      " -> accuracy = 0.945, gates = 10.0,recall = 1.0\n",
      "4  \t5     \t0.945\t0  \t0.945\t0.945\n",
      "String: 100101111001001011011100101010100111011010110100101100111100010110010010101010010001101110\n",
      " -> accuracy = 0.945, gates = 10.0,recall = 1.0\n",
      "String: 110100001001001011101111001011010111010001101010101011001010110110010010101010110000101111\n",
      " -> accuracy = 0.945, gates = 8.0,recall = 1.0\n",
      "String: 000011000010110111111000001011010111010001101010101011001110101101100110101110010000100000\n",
      " -> accuracy = 0.945, gates = 8.0,recall = 1.0\n",
      "String: 000011000010110111111000001011010111010001101010101011001010110110010010101010110001100000\n",
      " -> accuracy = 0.945, gates = 9.0,recall = 1.0\n",
      "String: 000001111101000111111110001011010111011010110100101101011101101011001010101110001001101111\n",
      " -> accuracy = 0.945, gates = 9.0,recall = 1.0\n",
      "5  \t5     \t0.945\t0  \t0.945\t0.945\n",
      "Simulation finished after 8.680999040603638 seconds\n",
      "\n",
      "Genetic-algorithm output (bank_testdata.csv)\n",
      "---------------------------------------------\n",
      "0,\"000011000010110111111000001011010111010001101010101011001110101101100110101110010000100000\",2.524033333333333,0.945\n",
      "1,\"110100001001001011101111001011010111010001101010101011001010110110010010101010110000101111\",2.524033333333333,0.945\n"
     ]
    }
   ],
   "source": [
    "\n",
    "def evol(output=\"bank_testdata.csv\"):\n",
    "    iot_data = pd.read_csv('bank_cleaned.csv').iloc[45000:47000]\n",
    "    y = iot_data['y'].values\n",
    "    X = iot_data[['age','job','marital','education','default','balance','housing','loan','contact',\n",
    "                  'day','month','duration','campaign','pdays','previous','poutcome']].values\n",
    "    start = time.time()\n",
    "    pop, pareto, logbook = gsvm.gsvm(nqubits=6, depth=3, nparameters=2,\n",
    "                                     X=X, y=y, weights=[-1.0,1.0],\n",
    "                                     mu=10,lambda_=5, ngen=5)\n",
    "    print(f'Simulation finished after {time.time()-start} seconds')\n",
    "    print(f'\\nGenetic-algorithm output ({output})')\n",
    "    #print('generation, individual, gates/qubit, accuracy')\n",
    "    print('---------------------------------------------')\n",
    "    with open(output, \"w\") as f:\n",
    "        for ide, ind in enumerate(pareto):\n",
    "            genes=''.join(str(i) for i in list(ind))\n",
    "            gates, acc = ind.fitness.values\n",
    "            line = f'{ide},\"{genes}\",{gates},{acc}'\n",
    "            f.write(line)\n",
    "            f.write('\\n')\n",
    "            print(line)\n",
    "evol()"
   ]
  },
  {
   "cell_type": "code",
   "execution_count": 4,
   "metadata": {
    "scrolled": true,
    "tags": []
   },
   "outputs": [
    {
     "data": {
      "text/html": [
       "<div>\n",
       "<style scoped>\n",
       "    .dataframe tbody tr th:only-of-type {\n",
       "        vertical-align: middle;\n",
       "    }\n",
       "\n",
       "    .dataframe tbody tr th {\n",
       "        vertical-align: top;\n",
       "    }\n",
       "\n",
       "    .dataframe thead th {\n",
       "        text-align: right;\n",
       "    }\n",
       "</style>\n",
       "<table border=\"1\" class=\"dataframe\">\n",
       "  <thead>\n",
       "    <tr style=\"text-align: right;\">\n",
       "      <th></th>\n",
       "      <th>ind</th>\n",
       "      <th>circ</th>\n",
       "      <th>gates</th>\n",
       "      <th>acc</th>\n",
       "    </tr>\n",
       "  </thead>\n",
       "  <tbody>\n",
       "    <tr>\n",
       "      <th>0</th>\n",
       "      <td>0</td>\n",
       "      <td>0000110000101101111110000010110101110100011010...</td>\n",
       "      <td>2.524033</td>\n",
       "      <td>0.945</td>\n",
       "    </tr>\n",
       "    <tr>\n",
       "      <th>1</th>\n",
       "      <td>1</td>\n",
       "      <td>1101000010010010111011110010110101110100011010...</td>\n",
       "      <td>2.524033</td>\n",
       "      <td>0.945</td>\n",
       "    </tr>\n",
       "  </tbody>\n",
       "</table>\n",
       "</div>"
      ],
      "text/plain": [
       "   ind                                               circ     gates    acc\n",
       "0    0  0000110000101101111110000010110101110100011010...  2.524033  0.945\n",
       "1    1  1101000010010010111011110010110101110100011010...  2.524033  0.945"
      ]
     },
     "execution_count": 4,
     "metadata": {},
     "output_type": "execute_result"
    }
   ],
   "source": [
    "import encoding2 as e2\n",
    "import random\n",
    "\n",
    "iot_result = pd.read_csv('bank_testdata.csv',header=None)\n",
    "\n",
    "def ordenar_salidas_pareto(dataframe):\n",
    "    dataframe.columns=['ind','circ','gates','acc']\n",
    "    dataframe.sort_values(['acc','gates'], ascending=[False,False],inplace=True)\n",
    "    dataframe.reset_index(inplace=True)\n",
    "    dataframe.pop('index')\n",
    "    return dataframe\n",
    "\n",
    "iot_salidas = ordenar_salidas_pareto(iot_result)\n",
    "iot_salidas # Queremos ver el primer circuito del dataframe yya ordenado por accuracy (mejor ind)"
   ]
  },
  {
   "cell_type": "code",
   "execution_count": 5,
   "metadata": {},
   "outputs": [
    {
     "name": "stdout",
     "output_type": "stream",
     "text": [
      "['00001', '10000', '10110', '11111', '10000', '01011', '01011', '10100', '01101', '01010', '10110', '01110', '10110', '11001', '10101', '11001', '00001', '00000']\n",
      "8.0\n"
     ]
    },
    {
     "data": {
      "image/png": "[encoded data removed]",
      "text/plain": [
       "<Figure size 206.997x385.28 with 1 Axes>"
      ]
     },
     "execution_count": 5,
     "metadata": {},
     "output_type": "execute_result"
    }
   ],
   "source": [
    "from qiskit.circuit import ParameterVector, QuantumCircuit, Parameter\n",
    "from qiskit import execute, Aer, IBMQ, QuantumRegister, ClassicalRegister, BasicAer\n",
    "#from qiskit.aqua import QuantumInstance\n",
    "def coding_bits(b):\n",
    "    c = [b[n:n+5] for n,i in enumerate(b) if n%5==0]\n",
    "    c_p=[]\n",
    "    coding_0=[]\n",
    "    for i in range(len(c)):\n",
    "        for j in c[i]:\n",
    "            c_p.append(str(j))\n",
    "    np.asarray(c_p)\n",
    "    c = [c_p[n:n+5] for n,i in enumerate(c_p) if n%5==0]\n",
    "    for i in c:\n",
    "        coding_0.append(''.join(i))\n",
    "    return coding_0\n",
    "\n",
    "class CircuitConversor:\n",
    "\n",
    "    def __init__(self, nqubits, nparameters):\n",
    "        gates = {}\n",
    "        for n, suffix in enumerate(['00','01','10','11']):\n",
    "            angle = np.pi / (2**n)\n",
    "            gates['000'+suffix] = (self.make_H(), 1.0)\n",
    "            gates['001'+suffix] = (self.make_cx(), 2.0)\n",
    "            gates['010'+suffix] = (self.make_id(), 0.0)\n",
    "            gates['011'+suffix] = (self.make_rx(angle), 1.0)\n",
    "            gates['100'+suffix] = (self.make_rz(angle), 1.0)\n",
    "            gates['101'+suffix] = (self.make_id(), 0.0)\n",
    "            gates['110'+suffix] = (self.make_id(), 0.0)\n",
    "            gates['111'+suffix] = (self.make_ry(angle), 1.0)\n",
    "        self.gates = gates\n",
    "        self.nqubits = nqubits\n",
    "        self.register = QuantumRegister(nqubits, 'q')\n",
    "        self.nparameters = nparameters\n",
    "        self.nqubits = nqubits\n",
    "        self.x = ParameterVector('x', nparameters)\n",
    "\n",
    "    def __call__(self, coding_0):\n",
    "        print(coding_0)\n",
    "        circuit = QuantumCircuit(self.register)\n",
    "        k = 0\n",
    "        cost = 0\n",
    "        for ndx, z in enumerate(coding_0):\n",
    "            qubit = ndx % self.nqubits\n",
    "            target = (ndx + 1) % self.nqubits\n",
    "            fn, weight = self.gates[z]\n",
    "            k = fn(circuit, k, qubit, target)\n",
    "            cost += weight\n",
    "        for i in range(k, self.nparameters):\n",
    "            circuit.rz(self.x[i]*0, self.register[0])\n",
    "        return circuit, cost\n",
    "\n",
    "    def make_id(self):\n",
    "        def operation(circuit, k, qubit, target):\n",
    "            return k\n",
    "        return operation\n",
    "\n",
    "    def make_H(self):\n",
    "        def operation(circuit, k, qubit, target):\n",
    "            circuit.h(self.register[qubit])\n",
    "            return k\n",
    "        return operation\n",
    "\n",
    "    def make_cx(self):\n",
    "        def operation(circuit, k, qubit, target):\n",
    "            circuit.cx(self.register[qubit], self.register[target])\n",
    "            return k\n",
    "        return operation\n",
    "\n",
    "    def make_rx(self, angle):\n",
    "        def operation(circuit, k, qubit, target):\n",
    "            circuit.rx(self.x[k%self.nparameters] * angle,\n",
    "                       self.register[qubit])\n",
    "            return k+1\n",
    "        return operation\n",
    "\n",
    "    def make_ry(self, angle):\n",
    "        def operation(circuit, k, qubit, target):\n",
    "            circuit.ry(self.x[k%self.nparameters] * angle,\n",
    "                       self.register[qubit])\n",
    "            return k+1\n",
    "        return operation\n",
    "\n",
    "    def make_rz(self, angle):\n",
    "        def operation(circuit, k, qubit, target):\n",
    "            circuit.rz(self.x[k%self.nparameters] * angle,\n",
    "                       self.register[qubit])\n",
    "            return k+1\n",
    "        return operation\n",
    "\n",
    "cc = CircuitConversor(nqubits=6, nparameters=3)\n",
    "fm, puertas = cc(coding_bits(iot_salidas.circ[0]))\n",
    "print(puertas)\n",
    "fm.draw(output='mpl')"
   ]
  },
  {
   "cell_type": "code",
   "execution_count": 6,
   "metadata": {},
   "outputs": [],
   "source": [
    "from sklearn.metrics import confusion_matrix, ConfusionMatrixDisplay, recall_score, accuracy_score\n",
    "import matplotlib.pyplot as plt"
   ]
  },
  {
   "cell_type": "code",
   "execution_count": 13,
   "metadata": {},
   "outputs": [],
   "source": [
    "def featuremap_performance(pop:str,nqubits:int,nparameters:int):\n",
    "    '''Returns the performance of a feature map on all of the dataset'''\n",
    "\n",
    "    bank_data = pd.read_csv('bank_cleaned.csv').iloc[11500:22000]\n",
    "\n",
    "    y = bank_data['y'].values\n",
    "    X = bank_data[['age','job','marital','education','default','balance',\n",
    "                'housing','loan','contact','day','month','duration','campaign','pdays','previous','poutcome']].values\n",
    "\n",
    "\n",
    "    fitness_obj = fitness.Fitness(nqubits,nparameters,X,y,debug=True)\n",
    "\n",
    "    training_features, training_labels, test_features, test_labels = fitness.Dataset(X,y)\n",
    "\n",
    "    model = qsvm.QSVM(lambda parameters: fitness_obj.cc(pop, parameters)[0],training_features,training_labels)#fitness_obj(pop)\n",
    "\n",
    "    y_pred = model.predict(test_features)\n",
    "\n",
    "    cm = confusion_matrix(test_labels, y_pred)\n",
    "\n",
    "    #cm_display = ConfusionMatrixDisplay(cm).plot()\n",
    "    ConfusionMatrixDisplay.from_predictions(test_labels, y_pred)\n",
    "    plt.show()\n",
    "    recall = recall_score(test_labels, y_pred)\n",
    "    acc  = accuracy_score(test_labels, y_pred)\n",
    "\n",
    "    print(f'String = {pop}, accuracy = {acc}, recall = {recall}')\n",
    "    return None"
   ]
  },
  {
   "cell_type": "code",
   "execution_count": 14,
   "metadata": {},
   "outputs": [
    {
     "data": {
      "image/png": "[encoded data removed]",
      "text/plain": [
       "<Figure size 432x288 with 2 Axes>"
      ]
     },
     "metadata": {
      "needs_background": "light"
     },
     "output_type": "display_data"
    },
    {
     "name": "stdout",
     "output_type": "stream",
     "text": [
      "String = 000011000010110111111000001011010111010001101010101011001110101101100110101110010000100000, accuracy = 0.9380952380952381, recall = 0.0\n"
     ]
    }
   ],
   "source": [
    "pred = featuremap_performance(iot_salidas.circ[0],6,3)"
   ]
  },
  {
   "cell_type": "code",
   "execution_count": null,
   "metadata": {},
   "outputs": [],
   "source": []
  }
 ],
 "metadata": {
  "kernelspec": {
   "display_name": "Python 3 (ipykernel)",
   "language": "python",
   "name": "python3"
  },
  "language_info": {
   "codemirror_mode": {
    "name": "ipython",
    "version": 3
   },
   "file_extension": ".py",
   "mimetype": "text/x-python",
   "name": "python",
   "nbconvert_exporter": "python",
   "pygments_lexer": "ipython3",
   "version": "3.9.7"
  },
  "vscode": {
   "interpreter": {
    "hash": "3dc53fd84ad5731d04d4fc36beb52296b89dd90b5123e6bc5399b8c2dcae883a"
   }
  }
 },
 "nbformat": 4,
 "nbformat_minor": 4
}
