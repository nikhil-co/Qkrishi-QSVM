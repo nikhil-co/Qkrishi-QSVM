{
 "cells": [
  {
   "cell_type": "code",
   "execution_count": null,
   "metadata": {
    "scrolled": true,
    "tags": []
   },
   "outputs": [],
   "source": [
    "#Math Part\n",
    "import numpy as np\n",
    "import pandas as pd\n",
    "\n",
    "#Graph\n",
    "import matplotlib.pyplot as plt\n",
    "\n",
    "import importlib\n",
    "import circuit\n",
    "import encoding\n",
    "import qsvm\n",
    "import fitness\n",
    "import gsvm\n",
    "importlib.reload(circuit)\n",
    "importlib.reload(encoding)\n",
    "importlib.reload(qsvm)\n",
    "importlib.reload(fitness)\n",
    "importlib.reload(gsvm)\n",
    "\n",
    "import pandas as pd\n",
    "import time\n",
    "\n",
    "def evol(output=\"bank_testdata.csv\"):\n",
    "    iot_data = pd.read_csv('bank_cleaned_pretest.csv').iloc[50:100]\n",
    "    y = iot_data['y'].values\n",
    "    X = iot_data[['age','job','marital','education','default','balance','housing','loan','contact','day','month','duration','campaign','pdays','previous','poutcome']].values\n",
    "    start = time.time()\n",
    "    pop, pareto, logbook = gsvm.gsvm(nqubits=4, depth=3, nparameters=1,\n",
    "                                     X=X, y=y, weights=[-1.0,1.0],\n",
    "                                     mu=50,lambda_=10, ngen=500)\n",
    "    print(f'Simulation finished after {time.time()-start} seconds')\n",
    "    print(f'\\nGenetic-algorithm output ({output})')\n",
    "    #print('generation, individual, gates/qubit, accuracy')\n",
    "    print('---------------------------------------------')\n",
    "    with open(output, \"w\") as f:\n",
    "        for ide, ind in enumerate(pareto):\n",
    "            genes=''.join(str(i) for i in list(ind))\n",
    "            gates, acc = ind.fitness.values\n",
    "            line = f'{ide},\"{genes}\",{gates},{acc}'\n",
    "            f.write(line)\n",
    "            f.write('\\n')\n",
    "            print(line)\n",
    "evol()"
   ]
  },
  {
   "cell_type": "code",
   "execution_count": null,
   "metadata": {
    "scrolled": true,
    "tags": []
   },
   "outputs": [],
   "source": [
    "import encoding2 as e2\n",
    "import random\n",
    "\n",
    "iot_result = pd.read_csv('bank_testdata.csv',header=None)\n",
    "\n",
    "def ordenar_salidas_pareto(dataframe):\n",
    "    dataframe.columns=['ind','circ','gates','acc']\n",
    "    dataframe.sort_values(['acc','gates'], ascending=[False,False],inplace=True)\n",
    "    dataframe.reset_index(inplace=True)\n",
    "    dataframe.pop('index')\n",
    "    return dataframe\n",
    "\n",
    "iot_salidas = ordenar_salidas_pareto(iot_result)\n",
    "iot_salidas # Queremos ver el primer circuito del dataframe yya ordenado por accuracy (mejor ind)"
   ]
  },
  {
   "cell_type": "code",
   "execution_count": null,
   "metadata": {},
   "outputs": [],
   "source": [
    "from qiskit.circuit import ParameterVector, QuantumCircuit, Parameter\n",
    "from qiskit import execute, Aer, IBMQ, QuantumRegister, ClassicalRegister, BasicAer\n",
    "#from qiskit.aqua import QuantumInstance\n",
    "def coding_bits(b):\n",
    "    c = [b[n:n+5] for n,i in enumerate(b) if n%5==0]\n",
    "    c_p=[]\n",
    "    coding_0=[]\n",
    "    for i in range(len(c)):\n",
    "        for j in c[i]:\n",
    "            c_p.append(str(j))\n",
    "    np.asarray(c_p)\n",
    "    c = [c_p[n:n+5] for n,i in enumerate(c_p) if n%5==0]\n",
    "    for i in c:\n",
    "        coding_0.append(''.join(i))\n",
    "    return coding_0\n",
    "\n",
    "class CircuitConversor:\n",
    "\n",
    "    def __init__(self, nqubits, nparameters):\n",
    "        gates = {}\n",
    "        for n, suffix in enumerate(['00','01','10','11']):\n",
    "            angle = np.pi / (2**n)\n",
    "            gates['000'+suffix] = (self.make_H(), 1.0)\n",
    "            gates['001'+suffix] = (self.make_cx(), 2.0)\n",
    "            gates['010'+suffix] = (self.make_id(), 0.0)\n",
    "            gates['011'+suffix] = (self.make_rx(angle), 1.0)\n",
    "            gates['100'+suffix] = (self.make_rz(angle), 1.0)\n",
    "            gates['101'+suffix] = (self.make_id(), 0.0)\n",
    "            gates['110'+suffix] = (self.make_id(), 0.0)\n",
    "            gates['111'+suffix] = (self.make_ry(angle), 1.0)\n",
    "        self.gates = gates\n",
    "        self.nqubits = nqubits\n",
    "        self.register = QuantumRegister(nqubits, 'q')\n",
    "        self.nparameters = nparameters\n",
    "        self.nqubits = nqubits\n",
    "        self.x = ParameterVector('x', nparameters)\n",
    "\n",
    "    def __call__(self, coding_0):\n",
    "        print(coding_0)\n",
    "        circuit = QuantumCircuit(self.register)\n",
    "        k = 0\n",
    "        cost = 0\n",
    "        for ndx, z in enumerate(coding_0):\n",
    "            qubit = ndx % self.nqubits\n",
    "            target = (ndx + 1) % self.nqubits\n",
    "            fn, weight = self.gates[z]\n",
    "            k = fn(circuit, k, qubit, target)\n",
    "            cost += weight\n",
    "        for i in range(k, self.nparameters):\n",
    "            circuit.rz(self.x[i]*0, self.register[0])\n",
    "        return circuit, cost\n",
    "\n",
    "    def make_id(self):\n",
    "        def operation(circuit, k, qubit, target):\n",
    "            return k\n",
    "        return operation\n",
    "\n",
    "    def make_H(self):\n",
    "        def operation(circuit, k, qubit, target):\n",
    "            circuit.h(self.register[qubit])\n",
    "            return k\n",
    "        return operation\n",
    "\n",
    "    def make_cx(self):\n",
    "        def operation(circuit, k, qubit, target):\n",
    "            circuit.cx(self.register[qubit], self.register[target])\n",
    "            return k\n",
    "        return operation\n",
    "\n",
    "    def make_rx(self, angle):\n",
    "        def operation(circuit, k, qubit, target):\n",
    "            circuit.rx(self.x[k%self.nparameters] * angle,\n",
    "                       self.register[qubit])\n",
    "            return k+1\n",
    "        return operation\n",
    "\n",
    "    def make_ry(self, angle):\n",
    "        def operation(circuit, k, qubit, target):\n",
    "            circuit.ry(self.x[k%self.nparameters] * angle,\n",
    "                       self.register[qubit])\n",
    "            return k+1\n",
    "        return operation\n",
    "\n",
    "    def make_rz(self, angle):\n",
    "        def operation(circuit, k, qubit, target):\n",
    "            circuit.rz(self.x[k%self.nparameters] * angle,\n",
    "                       self.register[qubit])\n",
    "            return k+1\n",
    "        return operation\n",
    "\n",
    "import os\n",
    "import psutil\n",
    "\n",
    "class Fitness:\n",
    "\n",
    "    def __init__(self, nqubits, nparameters, X, y, quantum_instance):\n",
    "        self.nqubits = nqubits\n",
    "        self.nparameters = nparameters\n",
    "        self.cc = CircuitConversor(nqubits, nparameters)\n",
    "        self.instance = quantum_instance\n",
    "        self.X = X\n",
    "        self.y = y\n",
    "\n",
    "    def __call__(self, POP):\n",
    "        try:\n",
    "            return self.fitness(POP)\n",
    "        except Exception as e:\n",
    "            print(f'Exception happened during fitness():\\n  {e}')\n",
    "            process = psutil.Process(os.getpid())\n",
    "            print(f'  RUSAGE_SELF: {process.memory_info()}')\n",
    "        return 1000, 100000.0\n",
    "\n",
    "    def fitness(self, POP):\n",
    "        print('Invoked fitness')\n",
    "        #Convertimos el individuo en el fenotipo (ansatz)\n",
    "        fm, puertas = self.cc(coding_bits(POP))\n",
    "        \n",
    "cc = CircuitConversor(nqubits=4, nparameters=1)\n",
    "fm, puertas = cc(coding_bits(iot_salidas.circ[0]))\n",
    "print(puertas)\n",
    "fm.draw(output='mpl')"
   ]
  },
  {
   "cell_type": "code",
   "execution_count": null,
   "metadata": {},
   "outputs": [],
   "source": [
    "iot_data = pd.read_csv('bank_cleaned_pretest.csv')\n",
    "\n",
    "y = iot_data['y'].values\n",
    "X = iot_data[['age','job','marital','education','default','balance','housing','loan','contact','day','month','duration','campaign','pdays','previous','poutcome']].values\n"
   ]
  },
  {
   "cell_type": "code",
   "execution_count": null,
   "metadata": {},
   "outputs": [],
   "source": [
    "\n",
    "train_sample, train_label, test_sample, test_label = fitness.Dataset(X,y)\n"
   ]
  },
  {
   "cell_type": "code",
   "execution_count": null,
   "metadata": {},
   "outputs": [],
   "source": [
    "cc_0 = encoding.CircuitConversor(nqubits=4, nparameters=1)\n",
    "fm1, puertas1 = cc_0(iot_salidas.circ[0],np.array([0,1]))\n",
    "model = qsvm.QSVM(fm,train_sample,train_label)"
   ]
  },
  {
   "cell_type": "code",
   "execution_count": null,
   "metadata": {},
   "outputs": [],
   "source": [
    "puertas1"
   ]
  },
  {
   "cell_type": "code",
   "execution_count": null,
   "metadata": {},
   "outputs": [],
   "source": [
    "banking_data= pd.read_csv('bank_cleaned.csv')\n",
    "y = banking_data['y'].values\n",
    "X = banking_data[['age','job','marital','education','default','balance','housing','loan','contact','day','month','duration','campaign','pdays','previous','poutcome']].values"
   ]
  },
  {
   "cell_type": "code",
   "execution_count": null,
   "metadata": {},
   "outputs": [],
   "source": [
    "def ones(y):\n",
    "\n",
    "    ones = 0\n",
    "    for i,j in enumerate(y):\n",
    "        if j == 1 :\n",
    "            ones+=1\n",
    "            print(i)\n",
    "    print(ones/len(y))"
   ]
  },
  {
   "cell_type": "code",
   "execution_count": null,
   "metadata": {},
   "outputs": [],
   "source": [
    "ones(y[:500])"
   ]
  },
  {
   "cell_type": "code",
   "execution_count": null,
   "metadata": {},
   "outputs": [],
   "source": [
    "zeros"
   ]
  },
  {
   "cell_type": "code",
   "execution_count": null,
   "metadata": {},
   "outputs": [],
   "source": [
    "len(y)"
   ]
  },
  {
   "cell_type": "code",
   "execution_count": null,
   "metadata": {},
   "outputs": [],
   "source": []
  }
 ],
 "metadata": {
  "kernelspec": {
   "display_name": "Python 3 (ipykernel)",
   "language": "python",
   "name": "python3"
  },
  "language_info": {
   "codemirror_mode": {
    "name": "ipython",
    "version": 3
   },
   "file_extension": ".py",
   "mimetype": "text/x-python",
   "name": "python",
   "nbconvert_exporter": "python",
   "pygments_lexer": "ipython3",
   "version": "3.9.7"
  },
  "vscode": {
   "interpreter": {
    "hash": "3dc53fd84ad5731d04d4fc36beb52296b89dd90b5123e6bc5399b8c2dcae883a"
   }
  }
 },
 "nbformat": 4,
 "nbformat_minor": 4
}
