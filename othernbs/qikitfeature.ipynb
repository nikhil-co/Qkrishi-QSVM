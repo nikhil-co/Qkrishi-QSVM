{
 "cells": [
  {
   "attachments": {},
   "cell_type": "markdown",
   "metadata": {},
   "source": [
    "### Using Qiskit's feature maps to test out banking dataset "
   ]
  },
  {
   "cell_type": "code",
   "execution_count": 8,
   "metadata": {},
   "outputs": [],
   "source": [
    "import numpy as np\n",
    "import matplotlib.pyplot as plt\n",
    "\n",
    "from sklearn.svm import SVC                             # Library to implementing SVM\n",
    "from sklearn.inspection import DecisionBoundaryDisplay  # Library to visualize the boundary\n",
    "\n",
    "# Qiskit Libraries for Feature Maps and the Quantum Kernel\n",
    "from qiskit import BasicAer\n",
    "from qiskit.circuit.library import ZZFeatureMap\n",
    "from qiskit.utils import QuantumInstance, algorithm_globals\n",
    "from qiskit_machine_learning.kernels import QuantumKernel\n",
    "\n",
    "import pandas as pd\n",
    "\n",
    "from sklearn.model_selection import train_test_split\n",
    "from sklearn.metrics import accuracy_score, precision_score, recall_score, ConfusionMatrixDisplay, f1_score\n",
    "from sklearn.preprocessing import StandardScaler\n",
    "\n",
    "seed = 23743                                               \n",
    "algorithm_globals.random_seed = seed"
   ]
  },
  {
   "cell_type": "code",
   "execution_count": 14,
   "metadata": {},
   "outputs": [],
   "source": [
    "df = pd.read_csv('bank_cleaned.csv')\n",
    "\n",
    "bank_data = df.sample(n=20)\n",
    "\n",
    "y = bank_data['y'].values\n",
    "X = bank_data[['age','job','marital','education','default','balance',\n",
    "               'housing','loan','contact','day','month','duration',\n",
    "               'campaign','pdays','previous','poutcome']].values"
   ]
  },
  {
   "cell_type": "code",
   "execution_count": 15,
   "metadata": {},
   "outputs": [],
   "source": [
    "X_train, X_test, y_train, y_test = train_test_split(X, y , test_size=0.1, random_state=12)\n",
    "ss_train = StandardScaler()\n",
    "X_train = ss_train.fit_transform(X_train)\n",
    "\n",
    "ss_test = StandardScaler()\n",
    "X_test = ss_test.fit_transform(X_test)\n"
   ]
  },
  {
   "cell_type": "code",
   "execution_count": 26,
   "metadata": {},
   "outputs": [],
   "source": [
    "# Defining our quantum feature map\n",
    "feature_map = ZZFeatureMap(feature_dimension=16, reps=2) \n",
    "\n",
    "# Defining the backend we are going to use for our kernel\n",
    "backend = QuantumInstance(BasicAer.get_backend(\"qasm_simulator\"), \n",
    "                          shots=1, seed_simulator=seed, seed_transpiler=seed) "
   ]
  },
  {
   "cell_type": "code",
   "execution_count": 27,
   "metadata": {},
   "outputs": [
    {
     "name": "stdout",
     "output_type": "stream",
     "text": [
      "Classification test score: 0.5\n"
     ]
    }
   ],
   "source": [
    "# Definig QuantumKernel\n",
    "kernel = QuantumKernel(feature_map=feature_map, quantum_instance=backend)\n",
    "\n",
    "# Using SVC from sklearn \n",
    "svc = SVC(kernel=kernel.evaluate)\n",
    "svc.fit(X_train, y_train)\n",
    "\n",
    "# Testing our model with a inbuilt score method\n",
    "score = svc.score(X_test,y_test)\n",
    "\n",
    "print(f\"Classification test score: {score}\")"
   ]
  },
  {
   "cell_type": "code",
   "execution_count": 28,
   "metadata": {},
   "outputs": [
    {
     "data": {
      "text/plain": [
       "array([0, 0], dtype=int64)"
      ]
     },
     "execution_count": 28,
     "metadata": {},
     "output_type": "execute_result"
    }
   ],
   "source": [
    "svc.predict(X_test)"
   ]
  },
  {
   "cell_type": "code",
   "execution_count": null,
   "metadata": {},
   "outputs": [],
   "source": []
  }
 ],
 "metadata": {
  "kernelspec": {
   "display_name": "qc",
   "language": "python",
   "name": "python3"
  },
  "language_info": {
   "codemirror_mode": {
    "name": "ipython",
    "version": 3
   },
   "file_extension": ".py",
   "mimetype": "text/x-python",
   "name": "python",
   "nbconvert_exporter": "python",
   "pygments_lexer": "ipython3",
   "version": "3.9.7"
  },
  "orig_nbformat": 4
 },
 "nbformat": 4,
 "nbformat_minor": 2
}
