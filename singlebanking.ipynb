{
  "cells": [
    {
      "cell_type": "code",
      "execution_count": 1,
      "metadata": {
        "id": "pb3tonW1arsh",
        "scrolled": true,
        "tags": []
      },
      "outputs": [],
      "source": [
        "import numpy as np\n",
        "import pandas as pd\n",
        "import time\n",
        "import matplotlib.pyplot as plt"
      ]
    },
    {
      "cell_type": "code",
      "execution_count": 2,
      "metadata": {
        "id": "0xV6joNSuqG-"
      },
      "outputs": [],
      "source": [
        "class Circuit: \n",
        "    '''\n",
        "\n",
        "    Class for that generates N-dimensional gates acting of arbitatry qubit.\n",
        "    Gates - Pauli Rotation, H, X, RY, RX, RZ and CNOT.\n",
        "    Also generates the zero N-dimensional state.\n",
        "\n",
        "    '''\n",
        "\n",
        "    def __init__(self, nqubits):\n",
        "        self.nqubits = nqubits\n",
        "        self.σx = np.array([[0.0,1.0],[1.0,0.0]]);\n",
        "        self.σz = np.array([[1.0,0.0],[0.0,-1.0]]);\n",
        "        self.σy = np.array([[0.0,-1j],[1.j,0.0]]);\n",
        "        self.σ = np.array([np.eye(2), self.σx, self.σy, self.σz]);\n",
        "        self.d = 2**nqubits\n",
        "        self.H = np.array([[1,1],[1,-1]])/np.sqrt(2.0)\n",
        "\n",
        "    def zero_state(self):\n",
        "        ψ = np.zeros((self.d,))\n",
        "        ψ[0] = 1.0\n",
        "        return ψ\n",
        "\n",
        "    def pauli_rotation(self, state, σ, θ, qubit):\n",
        "        θ = np.asarray(θ).reshape(-1,1,1)/2.0\n",
        "        M = θ.shape[0]\n",
        "        U = np.cos(θ) * np.eye(2) - 1j * np.sin(θ) * σ\n",
        "        Usame = U[:,[0,1],[0,1]].reshape(-1,2)\n",
        "        Uoppo = U[:,[0,1],[1,0]].reshape(-1,2)\n",
        "        di = 2**qubit\n",
        "        dj = 2**(self.nqubits - qubit - 1)\n",
        "        state = state.reshape(-1, dj, 2, di)\n",
        "        state = Usame.reshape(M, 1, 2, 1) * state \\\n",
        "              + Uoppo.reshape(M, 1, 2, 1) * state[:, :, [1,0], :]\n",
        "        if state.shape[0] == 1:\n",
        "            return state.flatten()\n",
        "        else:\n",
        "            return state.reshape(-1, self.d)\n",
        "\n",
        "    def h(self, state, qubit):\n",
        "        di = 2**qubit\n",
        "        s = state.shape\n",
        "        state = state.reshape(-1, 2, di)\n",
        "        return np.einsum('mjl,ji->mil', state, self.H).reshape(s)\n",
        "\n",
        "    def x(self, state, qubit):\n",
        "        di = 2**qubit\n",
        "        s = state.shape\n",
        "        state = state.reshape(-1, 2, di)\n",
        "        return state[:,[1,0],:].reshape(s)\n",
        "\n",
        "    def ry(self, state, θ, qubit):\n",
        "        return self.pauli_rotation(state, self.σy, θ, qubit)\n",
        "\n",
        "    def rx(self, state, θ, qubit):\n",
        "        return self.pauli_rotation(state, self.σx, θ, qubit)\n",
        "\n",
        "    def rz(self, state, θ, qubit):\n",
        "        return self.pauli_rotation(state, self.σz, θ, qubit)\n",
        "\n",
        "    def cx(self, state, qubit, target):\n",
        "        assert self.nqubits >= 2\n",
        "        assert 0 <= qubit <= self.nqubits\n",
        "        assert 0 <= target <= self.nqubits\n",
        "        assert target != qubit\n",
        "        i = min(qubit, target)\n",
        "        j = max(qubit, target)\n",
        "        di = 2**i\n",
        "        dj = 2**(j-i-1)\n",
        "        dk = 2**(self.nqubits - j - 1)\n",
        "        s = state.shape\n",
        "        state = state.reshape(-1, 2, dj, 2, di).copy()\n",
        "        if qubit > target:\n",
        "            state[:,1,:,[1,0],:] = state[:,1,:,[0,1],:]\n",
        "        else:\n",
        "            state[:,[1,0],:,1,:] = state[:,[0,1],:,1,:]\n",
        "        return state.reshape(s)\n"
      ]
    },
    {
      "cell_type": "code",
      "execution_count": 3,
      "metadata": {
        "id": "ZXLCwP-ruu34"
      },
      "outputs": [],
      "source": [
        "from numpy import pi as π\n",
        "def coding_bits(b):\n",
        "    c = [b[n:n+5] for n,i in enumerate(b) if n%5==0]\n",
        "    c_p=[]\n",
        "    coding_0=[]\n",
        "    for i in range(len(c)):\n",
        "        for j in c[i]:\n",
        "            c_p.append(str(j))\n",
        "    np.asarray(c_p)\n",
        "    c = [c_p[n:n+5] for n,i in enumerate(c_p) if n%5==0]\n",
        "    for i in c:\n",
        "        coding_0.append(''.join(i))\n",
        "    return coding_0\n",
        "\n",
        "class CircuitConversor:\n",
        "    \n",
        "    '''\n",
        "    ## Decodes strings of bits into a an array representating the state.\n",
        "    __call__ function takes in a string of bits and returns the state and the cost to apply operations.\n",
        "    '''\n",
        "\n",
        "    def __init__(self, nqubits, nparameters):\n",
        "        self.gates = gates = {}\n",
        "        for n, suffix in enumerate(['00','01','10','11']):\n",
        "            angle = π / (2**n)\n",
        "            gates['000'+suffix] = (self.make_h(), 1.0)\n",
        "            gates['001'+suffix] = (self.make_cx(), 2.0)\n",
        "            gates['010'+suffix] = (self.make_id(), 0.0)\n",
        "            gates['011'+suffix] = (self.make_rx(angle), 1.0)\n",
        "            gates['100'+suffix] = (self.make_rz(angle), 1.0)\n",
        "            gates['101'+suffix] = (self.make_id(), 0.0)\n",
        "            gates['110'+suffix] = (self.make_id(), 0.0)\n",
        "            gates['111'+suffix] = (self.make_ry(angle), 1.0)\n",
        "        self.nqubits = nqubits\n",
        "        self.nparameters = nparameters\n",
        "        self.circuit = Circuit(nqubits)\n",
        "\n",
        "    def __call__(self, coding_0, parameters):\n",
        "        k = 0\n",
        "        cost = 0\n",
        "        state = self.circuit.zero_state()\n",
        "        for ndx, z in enumerate(coding_bits(coding_0)):\n",
        "            qubit = ndx % self.nqubits\n",
        "            target = (ndx + 1) % self.nqubits\n",
        "            fn, weight = self.gates[z]\n",
        "            state, k = fn(state, parameters, k, qubit, target)\n",
        "            cost += weight\n",
        "        if k == 0 and parameters.ndim == 2:\n",
        "            state = np.ones((parameters.shape[1],1)) * state.reshape(1,-1)\n",
        "        return state, cost\n",
        "\n",
        "    def make_id(self):\n",
        "        def operation(state, parameters, k, qubit, target):\n",
        "            return state, k\n",
        "        return operation\n",
        "\n",
        "    def make_h(self):\n",
        "        def operation(state, parameters, k, qubit, target):\n",
        "            return self.circuit.h(state, qubit), k\n",
        "        return operation\n",
        "\n",
        "    def make_cx(self):\n",
        "        def operation(state, parameters, k, qubit, target):\n",
        "            return self.circuit.cx(state, qubit, target), k\n",
        "        return operation\n",
        "\n",
        "    def make_rx(self, angle):\n",
        "        def operation(state, parameters, k, qubit, target):\n",
        "            ndx = k % self.nparameters\n",
        "            return self.circuit.rx(state, parameters[ndx,:]*angle, qubit), k+1\n",
        "        return operation\n",
        "\n",
        "    def make_ry(self, angle):\n",
        "        def operation(state, parameters, k, qubit, target):\n",
        "            ndx = k % self.nparameters\n",
        "            return self.circuit.ry(state, parameters[ndx,:]*angle, qubit), k+1\n",
        "        return operation\n",
        "\n",
        "    def make_rz(self, angle):\n",
        "        def operation(state, parameters, k, qubit, target):\n",
        "            ndx = k % self.nparameters\n",
        "            return self.circuit.rz(state, parameters[ndx,:]*angle, qubit), k+1\n",
        "        return operation\n"
      ]
    },
    {
      "cell_type": "code",
      "execution_count": 8,
      "metadata": {
        "id": "D9AJVX0Ju2U8"
      },
      "outputs": [],
      "source": [
        "from sklearn.svm import SVC\n",
        "\n",
        "class QSVM:\n",
        "    '''\n",
        "    Takes in the feature map we generated and outputs a classifier model and its fit.\n",
        "    '''\n",
        "    def __init__(self, feature_map, train_features, train_label):\n",
        "        def kernel(x1, x2):\n",
        "            ψ1 = feature_map(x1.T)\n",
        "            ψ2 = feature_map(x2.T)\n",
        "            gram = ψ1.real @ ψ2.real.T + ψ1.imag @ ψ2.imag.T\n",
        "            # print(f'psi1 shape = {ψ1.shape}')\n",
        "            # print(f'psi2 shape = {ψ2.shape}')\n",
        "            # print(f'psi1 = {ψ1[1,1]}')\n",
        "            # print(f'psi2 = {ψ2[1,1]}')\n",
        "            # print(f'gram matrix shape of element = {gram.shape}')\n",
        "            # print(gram)\n",
        "            return gram\n",
        "        self.svc = SVC(kernel=kernel,cache_size=5000)\n",
        "        self.svc.fit(train_features, train_label)\n",
        "\n",
        "    def run(self):\n",
        "        pass\n",
        "\n",
        "    def predict(self, dataset_features):\n",
        "        return self.svc.predict(dataset_features)\n"
      ]
    },
    {
      "cell_type": "code",
      "execution_count": 5,
      "metadata": {
        "id": "LTDTYmfLu-89"
      },
      "outputs": [],
      "source": [
        "import os\n",
        "import psutil\n",
        "from sklearn.model_selection import train_test_split\n",
        "from sklearn.preprocessing import StandardScaler, MinMaxScaler\n",
        "from sklearn.metrics import accuracy_score\n",
        "\n",
        "def metricas_modelos(y_true, y_pred): \n",
        "    from sklearn.metrics import accuracy_score\n",
        "    accuracy = accuracy_score(y_true, y_pred)\n",
        "    return(accuracy)\n",
        "\n",
        "def reca(y_true, y_pred):\n",
        "    from sklearn.metrics import recall_score\n",
        "    recall = recall_score(y_true,y_pred,average='binary')\n",
        "    return(recall)\n",
        "\n",
        "def Dataset(X, y, test_size_split=0.2):\n",
        "    class_labels = [r'0', r'1']\n",
        "\n",
        "    n_samples = np.shape(X)[0]\n",
        "    training_size = int(n_samples-(n_samples*test_size_split))\n",
        "    test_size =int(n_samples-training_size)\n",
        "    train_sample, test_sample, train_label, test_label = \\\n",
        "        train_test_split(X, y, stratify=y, test_size=test_size_split, random_state=12)\n",
        "\n",
        "    std_scale = StandardScaler().fit(train_sample)\n",
        "    train_sample = std_scale.transform(train_sample)\n",
        "    test_sample = std_scale.transform(test_sample)\n",
        "\n",
        "    samples = np.append(train_sample, test_sample, axis=0)\n",
        "    minmax_scale = MinMaxScaler((-1, 1)).fit(samples)\n",
        "    train_sample = minmax_scale.transform(train_sample)\n",
        "    test_sample = minmax_scale.transform(test_sample)\n",
        "\n",
        "    return train_sample, train_label, test_sample, test_label\n",
        "\n",
        "class Fitness:\n",
        "    '''\n",
        "    This class calculates the fitness of a single bit string and return its cost and accuracy \n",
        "    '''\n",
        "\n",
        "    def __init__(self, nqubits, nparameters, X, y, debug=False):\n",
        "        self.nqubits = nqubits\n",
        "        self.nparameters = nparameters\n",
        "        self.cc = CircuitConversor(nqubits, nparameters)\n",
        "        self.X = X\n",
        "        self.y = y\n",
        "        self.debug = debug\n",
        "\n",
        "    def __call__(self, POP):\n",
        "        return self.fitness(POP)\n",
        "\n",
        "    def fitness(self, POP):\n",
        "        #Convertimos el individuo en el fenotipo (ansatz)\n",
        "        training_features, training_labels, test_features, test_labels = \\\n",
        "            Dataset(self.X, self.y)\n",
        "        \n",
        "        model = QSVM(lambda parameters: self.cc(POP, parameters)[0],\n",
        "                          training_features, training_labels)\n",
        "        y_pred = model.predict(test_features) # 22% del computo (ver abajo line-profiler)\n",
        "        acc = metricas_modelos(test_labels, y_pred) # sklearn\n",
        "        rec = reca(test_labels,y_pred)\n",
        "        POP=''.join(str(i) for i in POP)\n",
        "        _, gates = self.cc(POP, training_features[:,[0,1]])\n",
        "        if self.debug:\n",
        "            print(f'String: {POP}\\n -> accuracy = {acc}, gates = {gates},recall = {rec}')\n",
        "        gate = gates/self.nqubits\n",
        "        wc = gate + (gate*(acc**2))\n",
        "        return wc, acc\n"
      ]
    },
    {
      "cell_type": "code",
      "execution_count": 6,
      "metadata": {
        "id": "HB9RrEqJvHpd"
      },
      "outputs": [],
      "source": [
        "from deap import base, creator, tools, algorithms\n",
        "import random\n",
        "def gsvm(nqubits, depth, nparameters, X, y,\n",
        "         mu=100, lambda_=150, cxpb=0.7, mutpb=0.3, ngen=2000,\n",
        "         use_pareto=True, verbose=True, weights=[-1.0,1.0],\n",
        "         debug=True):\n",
        "    bits_puerta = 5\n",
        "    long_cadena = depth * nqubits * bits_puerta\n",
        "    creator.create(\"FitnessMulti\", base.Fitness, weights=weights)\n",
        "    creator.create(\"Individual\", list, fitness = creator.FitnessMulti, statistics=dict)\n",
        "\n",
        "    toolbox = base.Toolbox()\n",
        "    toolbox.register(\"attr_bool\", random.randint, 0, 1)\n",
        "    toolbox.register(\"Individual\", tools.initRepeat, creator.Individual,\n",
        "                     toolbox.attr_bool, long_cadena)\n",
        "    toolbox.register(\"Population\", tools.initRepeat, list, toolbox.Individual)\n",
        "    toolbox.register('mate', tools.cxTwoPoint)\n",
        "    toolbox.register('mutate', tools.mutFlipBit, indpb=0.2)\n",
        "    toolbox.register('select', tools.selNSGA2)\n",
        "    toolbox.register(\"evaluate\", Fitness(nqubits, nparameters, X, y, debug=debug))\n",
        "\n",
        "    pop = toolbox.Population(n=mu)\n",
        "\n",
        "    stats_wc = tools.Statistics(key=lambda ind: ind.fitness.values[0])\n",
        "    stats_wc.register('media',np.mean)\n",
        "    stats_wc.register('std',np.std)\n",
        "    stats_wc.register('max',np.max)\n",
        "    stats_wc.register('min',np.min)\n",
        "    stats_acc = tools.Statistics(key=lambda ind: ind.fitness.values[1])\n",
        "    stats_acc.register('media',np.mean)\n",
        "    stats_acc.register('std',np.std)\n",
        "    stats_acc.register('max',np.max)\n",
        "    stats_acc.register('min',np.min)\n",
        "    mstats = tools.MultiStatistics(wc=stats_wc, acc=stats_acc)\n",
        "\n",
        "    logbook = tools.Logbook()\n",
        "    pareto = tools.ParetoFront(similar = np.array_equal)\n",
        "    pop, logbook = algorithms.eaMuPlusLambda(pop, toolbox,\n",
        "                                             mu, lambda_, cxpb, mutpb, ngen,\n",
        "                                             stats=mstats,\n",
        "                                             halloffame=pareto, verbose=verbose)\n",
        "    pareto.update(pop)\n",
        "    return pop, pareto, logbook\n"
      ]
    },
    {
      "cell_type": "code",
      "execution_count": 27,
      "metadata": {
        "id": "q4J669fRP1Q1"
      },
      "outputs": [],
      "source": [
        "output=\"bank_testdata.csv\"\n",
        "df = pd.read_csv('bank_cleaned.csv')  \n",
        "\n",
        "bank_data = df.sample(n=2000)"
      ]
    },
    {
      "cell_type": "code",
      "execution_count": 42,
      "metadata": {
        "colab": {
          "base_uri": "https://localhost:8080/"
        },
        "id": "CogQReNdarsi",
        "outputId": "7356e663-4856-44df-f297-b5740cbe50ed"
      },
      "outputs": [
        {
          "name": "stderr",
          "output_type": "stream",
          "text": [
            "d:\\Anaconda\\envs\\qc\\lib\\site-packages\\deap\\creator.py:138: RuntimeWarning: A class named 'FitnessMulti' has already been created and it will be overwritten. Consider deleting previous creation of that class or rename it.\n",
            "  warnings.warn(\"A class named '{0}' has already been created and it \"\n",
            "d:\\Anaconda\\envs\\qc\\lib\\site-packages\\deap\\creator.py:138: RuntimeWarning: A class named 'Individual' has already been created and it will be overwritten. Consider deleting previous creation of that class or rename it.\n",
            "  warnings.warn(\"A class named '{0}' has already been created and it \"\n"
          ]
        },
        {
          "name": "stdout",
          "output_type": "stream",
          "text": [
            "   \t      \t                      acc                       \t                       wc                      \n",
            "   \t      \t------------------------------------------------\t-----------------------------------------------\n",
            "gen\tnevals\tgen\tmax  \tmedia\tmin   \tnevals\tstd     \tgen\tmax    \tmedia  \tmin    \tnevals\tstd    \n",
            "0  \t40    \t0  \t0.685\t0.614\t0.5325\t40    \t0.039827\t0  \t9.24625\t7.30004\t5.40708\t40    \t1.02445\n",
            "1  \t15    \t1  \t0.705\t0.621375\t0.5375\t15    \t0.0378482\t1  \t9.24625\t7.1541 \t5.40708\t15    \t1.07143\n",
            "2  \t15    \t2  \t0.705\t0.62625 \t0.5375\t15    \t0.0366998\t2  \t9.24625\t7.20746\t5.40708\t15    \t1.07882\n",
            "3  \t15    \t3  \t0.705\t0.626625\t0.5375\t15    \t0.0385663\t3  \t9.16928\t7.00145\t5.40708\t15    \t1.01313\n",
            "4  \t15    \t4  \t0.705\t0.629875\t0.545 \t15    \t0.0394808\t4  \t9.16928\t6.8933 \t4.74952\t15    \t1.11813\n",
            "5  \t15    \t5  \t0.705\t0.627812\t0.545 \t15    \t0.0398755\t5  \t9.16928\t6.69179\t4.74952\t15    \t1.03951\n",
            "6  \t15    \t6  \t0.7225\t0.627063\t0.545 \t15    \t0.042694 \t6  \t9.16928\t6.54952\t4.74952\t15    \t1.03038\n",
            "7  \t15    \t7  \t0.7225\t0.634437\t0.545 \t15    \t0.0418236\t7  \t9.16928\t6.60256\t4.74952\t15    \t1.0883 \n",
            "8  \t15    \t8  \t0.7225\t0.637187\t0.545 \t15    \t0.0430813\t8  \t9.16928\t6.51539\t4.74952\t15    \t1.10607\n",
            "9  \t15    \t9  \t0.7225\t0.641563\t0.55  \t15    \t0.0427993\t9  \t9.16928\t6.547  \t4.74952\t15    \t1.1513 \n",
            "10 \t15    \t10 \t0.725 \t0.644125\t0.55  \t15    \t0.0445903\t10 \t9.16928\t6.5661 \t4.74952\t15    \t1.20906\n",
            "Simulation finished after 282.8337905406952 seconds\n"
          ]
        }
      ],
      "source": [
        "nqubits = 8\n",
        "depth = 7\n",
        "y = bank_data['y'].values\n",
        "# X = bank_data[['age','job','marital','education','default','balance','housing','loan','contact',\n",
        "                # 'day','month','duration','campaign','pdays','previous','poutcome']].values\n",
        "\n",
        "X = bank_data[['age','job','marital','education','default','balance','housing','loan','contact',\n",
        "                'day','month','campaign','pdays','previous','poutcome']].values\n",
        "\n",
        "\n",
        "start = time.time()\n",
        "\n",
        "pop, pareto, logbook = gsvm(nqubits=nqubits, depth=depth, nparameters=15,\n",
        "                                    X=X, y=y, weights=[-1.0,1.0],\n",
        "                                    mu=40,lambda_=15,ngen=10,mutpb=.7,cxpb=.3,debug=0)\n",
        "\n",
        "print(f'Simulation finished after {time.time()-start} seconds')\n",
        "\n",
        "with open(output, \"w\") as f:\n",
        "    for ide, ind in enumerate(pareto):\n",
        "        genes=''.join(str(i) for i in list(ind))\n",
        "        gates, acc = ind.fitness.values\n",
        "        line = f'{ide},\"{genes}\",{gates},{acc}'\n",
        "        f.write(line)\n",
        "        f.write('\\n')"
      ]
    },
    {
      "cell_type": "code",
      "execution_count": 43,
      "metadata": {
        "colab": {
          "base_uri": "https://localhost:8080/",
          "height": 363
        },
        "id": "AuDdp2NQarsk",
        "outputId": "200a387e-0257-4f92-ec42-6554faef16fa",
        "scrolled": true,
        "tags": []
      },
      "outputs": [
        {
          "data": {
            "text/html": [
              "<div>\n",
              "<style scoped>\n",
              "    .dataframe tbody tr th:only-of-type {\n",
              "        vertical-align: middle;\n",
              "    }\n",
              "\n",
              "    .dataframe tbody tr th {\n",
              "        vertical-align: top;\n",
              "    }\n",
              "\n",
              "    .dataframe thead th {\n",
              "        text-align: right;\n",
              "    }\n",
              "</style>\n",
              "<table border=\"1\" class=\"dataframe\">\n",
              "  <thead>\n",
              "    <tr style=\"text-align: right;\">\n",
              "      <th></th>\n",
              "      <th>ind</th>\n",
              "      <th>circ</th>\n",
              "      <th>gates</th>\n",
              "      <th>accuracy</th>\n",
              "    </tr>\n",
              "  </thead>\n",
              "  <tbody>\n",
              "    <tr>\n",
              "      <th>0</th>\n",
              "      <td>7</td>\n",
              "      <td>1000001010100100110110100001010001011010001111...</td>\n",
              "      <td>8.581641</td>\n",
              "      <td>0.7250</td>\n",
              "    </tr>\n",
              "    <tr>\n",
              "      <th>1</th>\n",
              "      <td>6</td>\n",
              "      <td>1000101100011110011000100000110111010111011001...</td>\n",
              "      <td>7.229530</td>\n",
              "      <td>0.7225</td>\n",
              "    </tr>\n",
              "    <tr>\n",
              "      <th>2</th>\n",
              "      <td>5</td>\n",
              "      <td>1000100001111100111000011110100100101000111001...</td>\n",
              "      <td>7.162472</td>\n",
              "      <td>0.6850</td>\n",
              "    </tr>\n",
              "    <tr>\n",
              "      <th>3</th>\n",
              "      <td>4</td>\n",
              "      <td>1110000010000110110011001000111001101001001111...</td>\n",
              "      <td>7.112655</td>\n",
              "      <td>0.6775</td>\n",
              "    </tr>\n",
              "    <tr>\n",
              "      <th>4</th>\n",
              "      <td>3</td>\n",
              "      <td>1010000010110110101000010010101110010111010110...</td>\n",
              "      <td>5.575762</td>\n",
              "      <td>0.6625</td>\n",
              "    </tr>\n",
              "    <tr>\n",
              "      <th>5</th>\n",
              "      <td>2</td>\n",
              "      <td>1100001010100110110010000010111001101010001111...</td>\n",
              "      <td>5.274023</td>\n",
              "      <td>0.6375</td>\n",
              "    </tr>\n",
              "    <tr>\n",
              "      <th>6</th>\n",
              "      <td>1</td>\n",
              "      <td>1010000010110110101000010010101110010111010110...</td>\n",
              "      <td>5.214844</td>\n",
              "      <td>0.6250</td>\n",
              "    </tr>\n",
              "    <tr>\n",
              "      <th>7</th>\n",
              "      <td>0</td>\n",
              "      <td>1100010111101111101110110101000100111111101101...</td>\n",
              "      <td>4.749522</td>\n",
              "      <td>0.5975</td>\n",
              "    </tr>\n",
              "  </tbody>\n",
              "</table>\n",
              "</div>"
            ],
            "text/plain": [
              "   ind                                               circ     gates  accuracy\n",
              "0    7  1000001010100100110110100001010001011010001111...  8.581641    0.7250\n",
              "1    6  1000101100011110011000100000110111010111011001...  7.229530    0.7225\n",
              "2    5  1000100001111100111000011110100100101000111001...  7.162472    0.6850\n",
              "3    4  1110000010000110110011001000111001101001001111...  7.112655    0.6775\n",
              "4    3  1010000010110110101000010010101110010111010110...  5.575762    0.6625\n",
              "5    2  1100001010100110110010000010111001101010001111...  5.274023    0.6375\n",
              "6    1  1010000010110110101000010010101110010111010110...  5.214844    0.6250\n",
              "7    0  1100010111101111101110110101000100111111101101...  4.749522    0.5975"
            ]
          },
          "execution_count": 43,
          "metadata": {},
          "output_type": "execute_result"
        }
      ],
      "source": [
        "iot_result = pd.read_csv('bank_testdata.csv',header=None)\n",
        "\n",
        "def ordenar_salidas_pareto(dataframe):\n",
        "    dataframe.columns=['ind','circ','gates','accuracy']\n",
        "    dataframe.sort_values(['gates','accuracy'], ascending=[False,False],inplace=True)\n",
        "    dataframe.reset_index(inplace=True)\n",
        "    dataframe.pop('index')\n",
        "    return dataframe\n",
        "\n",
        "iot_salidas = ordenar_salidas_pareto(iot_result)\n",
        "iot_salidas # Queremos ver el primer circuito del dataframe yya ordenado por accuracy (mejor ind)"
      ]
    },
    {
      "cell_type": "code",
      "execution_count": 44,
      "metadata": {},
      "outputs": [
        {
          "name": "stdout",
          "output_type": "stream",
          "text": [
            "['10000', '01010', '10010', '01101', '10100', '00101', '00010', '11010', '00111', '10000', '11100', '01011', '11110', '10010', '10101', '00101', '01100', '11010', '01111', '01110', '00101', '11101', '11011', '00111', '01011', '01001', '10110', '00110', '11011', '10010', '10111', '00000', '10010', '01011', '01101', '11010', '11110', '01000', '01011', '00101', '01000', '11110', '10101', '10111', '11111', '00110', '11110', '11100', '00110', '10000', '00100', '00010', '11110', '00011', '10100', '10111']\n",
            "45.0\n"
          ]
        },
        {
          "data": {
            "image/png": "[encoded data removed]",
            "text/plain": [
              "<Figure size 748.797x505.68 with 1 Axes>"
            ]
          },
          "execution_count": 44,
          "metadata": {},
          "output_type": "execute_result"
        }
      ],
      "source": [
        "from qiskit.circuit import ParameterVector, QuantumCircuit\n",
        "from qiskit import QuantumRegister\n",
        "\n",
        "class CircuitConversor2:\n",
        "\n",
        "    def __init__(self, nqubits, nparameters):\n",
        "        gates = {}\n",
        "        for n, suffix in enumerate(['00','01','10','11']):\n",
        "            angle = np.pi / (2**n)\n",
        "            gates['000'+suffix] = (self.make_H(), 1.0)\n",
        "            gates['001'+suffix] = (self.make_cx(), 2.0)\n",
        "            gates['010'+suffix] = (self.make_id(), 0.0)\n",
        "            gates['011'+suffix] = (self.make_rx(angle), 1.0)\n",
        "            gates['100'+suffix] = (self.make_rz(angle), 1.0)\n",
        "            gates['101'+suffix] = (self.make_id(), 0.0)\n",
        "            gates['110'+suffix] = (self.make_id(), 0.0)\n",
        "            gates['111'+suffix] = (self.make_ry(angle), 1.0)\n",
        "        self.gates = gates\n",
        "        self.nqubits = nqubits\n",
        "        self.register = QuantumRegister(nqubits, 'q')\n",
        "        self.nparameters = nparameters\n",
        "        self.nqubits = nqubits\n",
        "        self.x = ParameterVector('x', nparameters)\n",
        "\n",
        "    def __call__(self, coding_0):\n",
        "        print(coding_0)\n",
        "        circuit = QuantumCircuit(self.register)\n",
        "        k = 0\n",
        "        cost = 0\n",
        "        for ndx, z in enumerate(coding_0):\n",
        "            qubit = ndx % self.nqubits\n",
        "            target = (ndx + 1) % self.nqubits\n",
        "            fn, weight = self.gates[z]\n",
        "            k = fn(circuit, k, qubit, target)\n",
        "            cost += weight\n",
        "        for i in range(k, self.nparameters):\n",
        "            circuit.rz(self.x[i]*0, self.register[0])\n",
        "        return circuit, cost\n",
        "\n",
        "    def make_id(self):\n",
        "        def operation(circuit, k, qubit, target):\n",
        "            return k\n",
        "        return operation\n",
        "\n",
        "    def make_H(self):\n",
        "        def operation(circuit, k, qubit, target):\n",
        "            circuit.h(self.register[qubit])\n",
        "            return k\n",
        "        return operation\n",
        "\n",
        "    def make_cx(self):\n",
        "        def operation(circuit, k, qubit, target):\n",
        "            circuit.cx(self.register[qubit], self.register[target])\n",
        "            return k\n",
        "        return operation\n",
        "\n",
        "    def make_rx(self, angle):\n",
        "        def operation(circuit, k, qubit, target):\n",
        "            circuit.rx(self.x[k%self.nparameters] * angle,\n",
        "                       self.register[qubit])\n",
        "            return k+1\n",
        "        return operation\n",
        "\n",
        "    def make_ry(self, angle):\n",
        "        def operation(circuit, k, qubit, target):\n",
        "            circuit.ry(self.x[k%self.nparameters] * angle,\n",
        "                       self.register[qubit])\n",
        "            return k+1\n",
        "        return operation\n",
        "\n",
        "    def make_rz(self, angle):\n",
        "        def operation(circuit, k, qubit, target):\n",
        "            circuit.rz(self.x[k%self.nparameters] * angle,\n",
        "                       self.register[qubit])\n",
        "            return k+1\n",
        "        return operation\n",
        "\n",
        "cc = CircuitConversor2(nqubits=nqubits, nparameters=16)\n",
        "fm, puertas = cc(coding_bits(iot_salidas.circ[0]))\n",
        "print(puertas)\n",
        "fm.draw(output='mpl')"
      ]
    },
    {
      "cell_type": "code",
      "execution_count": 37,
      "metadata": {
        "id": "vaiq4YQnarsm"
      },
      "outputs": [],
      "source": [
        "from sklearn.metrics import confusion_matrix, ConfusionMatrixDisplay, recall_score, accuracy_score\n",
        "import matplotlib.pyplot as plt"
      ]
    },
    {
      "cell_type": "code",
      "execution_count": 40,
      "metadata": {
        "id": "x7g9HThQarsm"
      },
      "outputs": [],
      "source": [
        "def featuremap_performance(pop:str,nqubits:int) -> None:\n",
        "    '''Returns the performance of a feature map on all of the dataset'''\n",
        "    df_1 = df.sample(frac=1)\n",
        "\n",
        "    for i in range(8):\n",
        "        if i == 7:\n",
        "            bank_data = df_1.iloc[60000:79844]\n",
        "        bank_data = df_1.iloc[i*10000:i*10000+10000]\n",
        "\n",
        "        y = bank_data['y'].values\n",
        "        # X = bank_data[['age','job','marital','education','default','balance',\n",
        "                    # 'housing','loan','contact','day','month','duration','campaign','pdays','previous','poutcome']].values\n",
        "        X = bank_data[['age','job','marital','education','default','balance','housing','loan','contact',\n",
        "                'day','month','campaign','pdays','previous','poutcome']].values\n",
        "\n",
        "\n",
        "        fitness_obj = Fitness(nqubits,15,X,y,debug=True)\n",
        "\n",
        "        training_features, training_labels, test_features, test_labels = Dataset(X,y)\n",
        "\n",
        "        model = QSVM(lambda parameters: fitness_obj.cc(pop, parameters)[0],training_features,training_labels)#fitness_obj(pop)\n",
        "\n",
        "        y_pred = model.predict(test_features)\n",
        "\n",
        "        cm = confusion_matrix(test_labels, y_pred)\n",
        "\n",
        "        #cm_display = ConfusionMatrixDisplay(cm).plot()\n",
        "        ConfusionMatrixDisplay.from_predictions(test_labels, y_pred)\n",
        "        plt.show()\n",
        "        recall = recall_score(test_labels, y_pred)\n",
        "        acc  = accuracy_score(test_labels, y_pred)\n",
        "\n",
        "        print(f'String = {pop},\\n accuracy = {acc}, recall = {recall} for {i+1}th section of the data')\n",
        "        \n",
        "    return None\n"
      ]
    },
    {
      "cell_type": "code",
      "execution_count": 45,
      "metadata": {
        "colab": {
          "base_uri": "https://localhost:8080/",
          "height": 1000
        },
        "id": "PEitTdxlarsn",
        "outputId": "4fdcd6ac-2071-4ef1-d83a-ca6ceac99199"
      },
      "outputs": [
        {
          "data": {
            "image/png": "[encoded data removed]",
            "text/plain": [
              "<Figure size 432x288 with 2 Axes>"
            ]
          },
          "metadata": {
            "needs_background": "light"
          },
          "output_type": "display_data"
        },
        {
          "name": "stdout",
          "output_type": "stream",
          "text": [
            "String = 1000001010100100110110100001010001011010001111000011100010111111010010101010010101100110100111101110001011110111011001110101101001101100011011011100101011100000100100101101101110101111001000010110010101000111101010110111111110011011110111000011010000001000001011110000111010010111,\n",
            " accuracy = 0.6935, recall = 0.6107249255213505 for 1th section of the data\n"
          ]
        },
        {
          "data": {
            "image/png": "[encoded data removed]",
            "text/plain": [
              "<Figure size 432x288 with 2 Axes>"
            ]
          },
          "metadata": {
            "needs_background": "light"
          },
          "output_type": "display_data"
        },
        {
          "name": "stdout",
          "output_type": "stream",
          "text": [
            "String = 1000001010100100110110100001010001011010001111000011100010111111010010101010010101100110100111101110001011110111011001110101101001101100011011011100101011100000100100101101101110101111001000010110010101000111101010110111111110011011110111000011010000001000001011110000111010010111,\n",
            " accuracy = 0.7035, recall = 0.6156126482213439 for 2th section of the data\n"
          ]
        },
        {
          "data": {
            "image/png": "[encoded data removed]",
            "text/plain": [
              "<Figure size 432x288 with 2 Axes>"
            ]
          },
          "metadata": {
            "needs_background": "light"
          },
          "output_type": "display_data"
        },
        {
          "name": "stdout",
          "output_type": "stream",
          "text": [
            "String = 1000001010100100110110100001010001011010001111000011100010111111010010101010010101100110100111101110001011110111011001110101101001101100011011011100101011100000100100101101101110101111001000010110010101000111101010110111111110011011110111000011010000001000001011110000111010010111,\n",
            " accuracy = 0.7235, recall = 0.6221105527638191 for 3th section of the data\n"
          ]
        },
        {
          "data": {
            "image/png": "[encoded data removed]",
            "text/plain": [
              "<Figure size 432x288 with 2 Axes>"
            ]
          },
          "metadata": {
            "needs_background": "light"
          },
          "output_type": "display_data"
        },
        {
          "name": "stdout",
          "output_type": "stream",
          "text": [
            "String = 1000001010100100110110100001010001011010001111000011100010111111010010101010010101100110100111101110001011110111011001110101101001101100011011011100101011100000100100101101101110101111001000010110010101000111101010110111111110011011110111000011010000001000001011110000111010010111,\n",
            " accuracy = 0.709, recall = 0.595166163141994 for 4th section of the data\n"
          ]
        },
        {
          "data": {
            "image/png": "[encoded data removed]",
            "text/plain": [
              "<Figure size 432x288 with 2 Axes>"
            ]
          },
          "metadata": {
            "needs_background": "light"
          },
          "output_type": "display_data"
        },
        {
          "name": "stdout",
          "output_type": "stream",
          "text": [
            "String = 1000001010100100110110100001010001011010001111000011100010111111010010101010010101100110100111101110001011110111011001110101101001101100011011011100101011100000100100101101101110101111001000010110010101000111101010110111111110011011110111000011010000001000001011110000111010010111,\n",
            " accuracy = 0.715, recall = 0.6184738955823293 for 5th section of the data\n"
          ]
        },
        {
          "data": {
            "image/png": "[encoded data removed]",
            "text/plain": [
              "<Figure size 432x288 with 2 Axes>"
            ]
          },
          "metadata": {
            "needs_background": "light"
          },
          "output_type": "display_data"
        },
        {
          "name": "stdout",
          "output_type": "stream",
          "text": [
            "String = 1000001010100100110110100001010001011010001111000011100010111111010010101010010101100110100111101110001011110111011001110101101001101100011011011100101011100000100100101101101110101111001000010110010101000111101010110111111110011011110111000011010000001000001011110000111010010111,\n",
            " accuracy = 0.7135, recall = 0.6326326326326326 for 6th section of the data\n"
          ]
        },
        {
          "data": {
            "image/png": "[encoded data removed]",
            "text/plain": [
              "<Figure size 432x288 with 2 Axes>"
            ]
          },
          "metadata": {
            "needs_background": "light"
          },
          "output_type": "display_data"
        },
        {
          "name": "stdout",
          "output_type": "stream",
          "text": [
            "String = 1000001010100100110110100001010001011010001111000011100010111111010010101010010101100110100111101110001011110111011001110101101001101100011011011100101011100000100100101101101110101111001000010110010101000111101010110111111110011011110111000011010000001000001011110000111010010111,\n",
            " accuracy = 0.7185, recall = 0.6283716283716284 for 7th section of the data\n"
          ]
        },
        {
          "data": {
            "image/png": "[encoded data removed]",
            "text/plain": [
              "<Figure size 432x288 with 2 Axes>"
            ]
          },
          "metadata": {
            "needs_background": "light"
          },
          "output_type": "display_data"
        },
        {
          "name": "stdout",
          "output_type": "stream",
          "text": [
            "String = 1000001010100100110110100001010001011010001111000011100010111111010010101010010101100110100111101110001011110111011001110101101001101100011011011100101011100000100100101101101110101111001000010110010101000111101010110111111110011011110111000011010000001000001011110000111010010111,\n",
            " accuracy = 0.7216861350939563, recall = 0.6422018348623854 for 8th section of the data\n"
          ]
        }
      ],
      "source": [
        "featuremap_performance(iot_salidas.circ[0],nqubits)"
      ]
    },
    {
      "cell_type": "code",
      "execution_count": 32,
      "metadata": {
        "colab": {
          "base_uri": "https://localhost:8080/",
          "height": 297
        },
        "id": "1yEEN_udarsn",
        "outputId": "be5c161d-22e0-45c9-e0fc-bb7b8cd6c727"
      },
      "outputs": [
        {
          "data": {
            "image/png": "[encoded data removed]",
            "text/plain": [
              "<Figure size 432x288 with 2 Axes>"
            ]
          },
          "metadata": {
            "needs_background": "light"
          },
          "output_type": "display_data"
        },
        {
          "data": {
            "text/plain": [
              "<Figure size 600x400 with 0 Axes>"
            ]
          },
          "metadata": {},
          "output_type": "display_data"
        }
      ],
      "source": [
        "gen = logbook.select(\"gen\")\n",
        "wc = logbook.chapters[\"wc\"].select(\"media\")\n",
        "acc = logbook.chapters[\"acc\"].select(\"media\")\n",
        "\n",
        "import matplotlib.pyplot as plt\n",
        "\n",
        "fig, ax1 = plt.subplots()\n",
        "plt.figure(dpi = 100)\n",
        "line1 = ax1.plot(gen, wc ,\"b-\", label=\"Average Weight Control\")\n",
        "ax1.set_xlabel(\"Generation\")\n",
        "ax1.set_ylabel(\"Weight Control\", color=\"b\")\n",
        "for tl in ax1.get_yticklabels():\n",
        "    tl.set_color(\"b\")\n",
        "\n",
        "ax2 = ax1.twinx()\n",
        "line2 = ax2.plot(gen, acc, \"r-\", label=\"Average Accuracy\")\n",
        "ax2.set_ylabel(\"Accuracy\", color=\"r\")\n",
        "for tl in ax2.get_yticklabels():\n",
        "    tl.set_color(\"r\")\n",
        "\n",
        "lns = line1 + line2\n",
        "labs = [l.get_label() for l in lns]\n",
        "ax1.legend(lns, labs, loc=\"best\")\n",
        "\n",
        "plt.show()"
      ]
    }
  ],
  "metadata": {
    "accelerator": "GPU",
    "colab": {
      "provenance": []
    },
    "gpuClass": "standard",
    "kernelspec": {
      "display_name": "Python 3 (ipykernel)",
      "language": "python",
      "name": "python3"
    },
    "language_info": {
      "codemirror_mode": {
        "name": "ipython",
        "version": 3
      },
      "file_extension": ".py",
      "mimetype": "text/x-python",
      "name": "python",
      "nbconvert_exporter": "python",
      "pygments_lexer": "ipython3",
      "version": "3.9.7"
    },
    "vscode": {
      "interpreter": {
        "hash": "3dc53fd84ad5731d04d4fc36beb52296b89dd90b5123e6bc5399b8c2dcae883a"
      }
    }
  },
  "nbformat": 4,
  "nbformat_minor": 0
}
