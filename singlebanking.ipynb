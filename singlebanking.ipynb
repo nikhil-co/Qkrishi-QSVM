{
  "cells": [
    {
      "cell_type": "code",
      "execution_count": 3,
      "metadata": {
        "id": "pb3tonW1arsh",
        "scrolled": true,
        "tags": []
      },
      "outputs": [],
      "source": [
        "import numpy as np\n",
        "import pandas as pd\n",
        "import time\n",
        "import matplotlib.pyplot as plt"
      ]
    },
    {
      "cell_type": "code",
      "execution_count": 4,
      "metadata": {
        "id": "0xV6joNSuqG-"
      },
      "outputs": [],
      "source": [
        "class Circuit: \n",
        "    '''\n",
        "\n",
        "    Class for that generates N-dimensional gates acting of arbitatry qubit.\n",
        "    Gates - Pauli Rotation, H, X, RY, RX, RZ and CNOT.\n",
        "    Also generates the zero N-dimensional state.\n",
        "\n",
        "    '''\n",
        "\n",
        "    def __init__(self, nqubits):\n",
        "        self.nqubits = nqubits\n",
        "        self.σx = np.array([[0.0,1.0],[1.0,0.0]]);\n",
        "        self.σz = np.array([[1.0,0.0],[0.0,-1.0]]);\n",
        "        self.σy = np.array([[0.0,-1j],[1.j,0.0]]);\n",
        "        self.σ = np.array([np.eye(2), self.σx, self.σy, self.σz]);\n",
        "        self.d = 2**nqubits\n",
        "        self.H = np.array([[1,1],[1,-1]])/np.sqrt(2.0)\n",
        "\n",
        "    def zero_state(self):\n",
        "        ψ = np.zeros((self.d,))\n",
        "        ψ[0] = 1.0\n",
        "        return ψ\n",
        "\n",
        "    def pauli_rotation(self, state, σ, θ, qubit):\n",
        "        θ = np.asarray(θ).reshape(-1,1,1)/2.0\n",
        "        M = θ.shape[0]\n",
        "        U = np.cos(θ) * np.eye(2) - 1j * np.sin(θ) * σ\n",
        "        Usame = U[:,[0,1],[0,1]].reshape(-1,2)\n",
        "        Uoppo = U[:,[0,1],[1,0]].reshape(-1,2)\n",
        "        di = 2**qubit\n",
        "        dj = 2**(self.nqubits - qubit - 1)\n",
        "        state = state.reshape(-1, dj, 2, di)\n",
        "        state = Usame.reshape(M, 1, 2, 1) * state \\\n",
        "              + Uoppo.reshape(M, 1, 2, 1) * state[:, :, [1,0], :]\n",
        "        if state.shape[0] == 1:\n",
        "            return state.flatten()\n",
        "        else:\n",
        "            return state.reshape(-1, self.d)\n",
        "\n",
        "    def h(self, state, qubit):\n",
        "        di = 2**qubit\n",
        "        s = state.shape\n",
        "        state = state.reshape(-1, 2, di)\n",
        "        return np.einsum('mjl,ji->mil', state, self.H).reshape(s)\n",
        "\n",
        "    def x(self, state, qubit):\n",
        "        di = 2**qubit\n",
        "        s = state.shape\n",
        "        state = state.reshape(-1, 2, di)\n",
        "        return state[:,[1,0],:].reshape(s)\n",
        "\n",
        "    def ry(self, state, θ, qubit):\n",
        "        return self.pauli_rotation(state, self.σy, θ, qubit)\n",
        "\n",
        "    def rx(self, state, θ, qubit):\n",
        "        return self.pauli_rotation(state, self.σx, θ, qubit)\n",
        "\n",
        "    def rz(self, state, θ, qubit):\n",
        "        return self.pauli_rotation(state, self.σz, θ, qubit)\n",
        "\n",
        "    def cx(self, state, qubit, target):\n",
        "        assert self.nqubits >= 2\n",
        "        assert 0 <= qubit <= self.nqubits\n",
        "        assert 0 <= target <= self.nqubits\n",
        "        assert target != qubit\n",
        "        i = min(qubit, target)\n",
        "        j = max(qubit, target)\n",
        "        di = 2**i\n",
        "        dj = 2**(j-i-1)\n",
        "        dk = 2**(self.nqubits - j - 1)\n",
        "        s = state.shape\n",
        "        state = state.reshape(-1, 2, dj, 2, di).copy()\n",
        "        if qubit > target:\n",
        "            state[:,1,:,[1,0],:] = state[:,1,:,[0,1],:]\n",
        "        else:\n",
        "            state[:,[1,0],:,1,:] = state[:,[0,1],:,1,:]\n",
        "        return state.reshape(s)\n"
      ]
    },
    {
      "cell_type": "code",
      "execution_count": 5,
      "metadata": {
        "id": "ZXLCwP-ruu34"
      },
      "outputs": [],
      "source": [
        "from numpy import pi as π\n",
        "def coding_bits(b):\n",
        "    c = [b[n:n+5] for n,i in enumerate(b) if n%5==0]\n",
        "    c_p=[]\n",
        "    coding_0=[]\n",
        "    for i in range(len(c)):\n",
        "        for j in c[i]:\n",
        "            c_p.append(str(j))\n",
        "    np.asarray(c_p)\n",
        "    c = [c_p[n:n+5] for n,i in enumerate(c_p) if n%5==0]\n",
        "    for i in c:\n",
        "        coding_0.append(''.join(i))\n",
        "    return coding_0\n",
        "\n",
        "class CircuitConversor:\n",
        "    \n",
        "    '''\n",
        "    ## Decodes strings of bits into a an array representating the state.\n",
        "    __call__ function takes in a string of bits and returns the state and the cost to apply operations.\n",
        "    '''\n",
        "\n",
        "    def __init__(self, nqubits, nparameters):\n",
        "        self.gates = gates = {}\n",
        "        for n, suffix in enumerate(['00','01','10','11']):\n",
        "            angle = π / (2**n)\n",
        "            gates['000'+suffix] = (self.make_h(), 1.0)\n",
        "            gates['001'+suffix] = (self.make_cx(), 2.0)\n",
        "            gates['010'+suffix] = (self.make_id(), 0.0)\n",
        "            gates['011'+suffix] = (self.make_rx(angle), 1.0)\n",
        "            gates['100'+suffix] = (self.make_rz(angle), 1.0)\n",
        "            gates['101'+suffix] = (self.make_id(), 0.0)\n",
        "            gates['110'+suffix] = (self.make_id(), 0.0)\n",
        "            gates['111'+suffix] = (self.make_ry(angle), 1.0)\n",
        "        self.nqubits = nqubits\n",
        "        self.nparameters = nparameters\n",
        "        self.circuit = Circuit(nqubits)\n",
        "\n",
        "    def __call__(self, coding_0, parameters):\n",
        "        k = 0\n",
        "        cost = 0\n",
        "        state = self.circuit.zero_state()\n",
        "        for ndx, z in enumerate(coding_bits(coding_0)):\n",
        "            qubit = ndx % self.nqubits\n",
        "            target = (ndx + 1) % self.nqubits\n",
        "            fn, weight = self.gates[z]\n",
        "            state, k = fn(state, parameters, k, qubit, target)\n",
        "            cost += weight\n",
        "        if k == 0 and parameters.ndim == 2:\n",
        "            state = np.ones((parameters.shape[1],1)) * state.reshape(1,-1)\n",
        "        return state, cost\n",
        "\n",
        "    def make_id(self):\n",
        "        def operation(state, parameters, k, qubit, target):\n",
        "            return state, k\n",
        "        return operation\n",
        "\n",
        "    def make_h(self):\n",
        "        def operation(state, parameters, k, qubit, target):\n",
        "            return self.circuit.h(state, qubit), k\n",
        "        return operation\n",
        "\n",
        "    def make_cx(self):\n",
        "        def operation(state, parameters, k, qubit, target):\n",
        "            return self.circuit.cx(state, qubit, target), k\n",
        "        return operation\n",
        "\n",
        "    def make_rx(self, angle):\n",
        "        def operation(state, parameters, k, qubit, target):\n",
        "            ndx = k % self.nparameters\n",
        "            return self.circuit.rx(state, parameters[ndx,:]*angle, qubit), k+1\n",
        "        return operation\n",
        "\n",
        "    def make_ry(self, angle):\n",
        "        def operation(state, parameters, k, qubit, target):\n",
        "            ndx = k % self.nparameters\n",
        "            return self.circuit.ry(state, parameters[ndx,:]*angle, qubit), k+1\n",
        "        return operation\n",
        "\n",
        "    def make_rz(self, angle):\n",
        "        def operation(state, parameters, k, qubit, target):\n",
        "            ndx = k % self.nparameters\n",
        "            return self.circuit.rz(state, parameters[ndx,:]*angle, qubit), k+1\n",
        "        return operation\n"
      ]
    },
    {
      "cell_type": "code",
      "execution_count": 28,
      "metadata": {
        "id": "D9AJVX0Ju2U8"
      },
      "outputs": [],
      "source": [
        "from sklearn.svm import SVC\n",
        "\n",
        "class QSVM:\n",
        "    '''\n",
        "    Takes in the feature map we generated and outputs a classifier model and its fit.\n",
        "    '''\n",
        "    def __init__(self, feature_map, train_features, train_label):\n",
        "        def kernel(x1, x2):\n",
        "            ψ1 = feature_map(x1.T)\n",
        "            ψ2 = feature_map(x2.T)\n",
        "            gram = ψ1.real @ ψ2.real.T + ψ1.imag @ ψ2.imag.T\n",
        "            print(f'psi1 shape = {ψ1.shape}')\n",
        "            print(f'psi2 shape = {ψ2.shape}')\n",
        "            print(f'psi1 = {ψ1[1,1]}')\n",
        "            print(f'psi2 = {ψ2[1,1]}')\n",
        "            print(f'gram matrix shape of element = {gram.shape}')\n",
        "            print(gram)\n",
        "            return gram\n",
        "        self.svc = SVC(kernel=kernel,cache_size=5000)\n",
        "        self.svc.fit(train_features, train_label)\n",
        "\n",
        "    def run(self):\n",
        "        pass\n",
        "\n",
        "    def predict(self, dataset_features):\n",
        "        return self.svc.predict(dataset_features)\n"
      ]
    },
    {
      "cell_type": "code",
      "execution_count": 12,
      "metadata": {
        "id": "LTDTYmfLu-89"
      },
      "outputs": [],
      "source": [
        "import os\n",
        "import psutil\n",
        "from sklearn.model_selection import train_test_split\n",
        "from sklearn.preprocessing import StandardScaler, MinMaxScaler\n",
        "from sklearn.metrics import accuracy_score\n",
        "\n",
        "def metricas_modelos(y_true, y_pred): \n",
        "    from sklearn.metrics import accuracy_score\n",
        "    accuracy = accuracy_score(y_true, y_pred)\n",
        "    return(accuracy)\n",
        "\n",
        "def reca(y_true, y_pred):\n",
        "    from sklearn.metrics import recall_score\n",
        "    recall = recall_score(y_true,y_pred,average='binary')\n",
        "    return(recall)\n",
        "\n",
        "def Dataset(X, y, test_size_split=0.2):\n",
        "    class_labels = [r'0', r'1']\n",
        "\n",
        "    n_samples = np.shape(X)[0]\n",
        "    training_size = int(n_samples-(n_samples*test_size_split))\n",
        "    test_size =int(n_samples-training_size)\n",
        "    train_sample, test_sample, train_label, test_label = \\\n",
        "        train_test_split(X, y, stratify=y, test_size=test_size_split, random_state=12)\n",
        "\n",
        "    std_scale = StandardScaler().fit(train_sample)\n",
        "    train_sample = std_scale.transform(train_sample)\n",
        "    test_sample = std_scale.transform(test_sample)\n",
        "\n",
        "    samples = np.append(train_sample, test_sample, axis=0)\n",
        "    minmax_scale = MinMaxScaler((-1, 1)).fit(samples)\n",
        "    train_sample = minmax_scale.transform(train_sample)\n",
        "    test_sample = minmax_scale.transform(test_sample)\n",
        "\n",
        "    return train_sample, train_label, test_sample, test_label\n",
        "\n",
        "class Fitness:\n",
        "    '''\n",
        "    This class calculates the fitness of a single bit string and return its cost and accuracy \n",
        "    '''\n",
        "\n",
        "    def __init__(self, nqubits, nparameters, X, y, debug=False):\n",
        "        self.nqubits = nqubits\n",
        "        self.nparameters = nparameters\n",
        "        self.cc = CircuitConversor(nqubits, nparameters)\n",
        "        self.X = X\n",
        "        self.y = y\n",
        "        self.debug = debug\n",
        "\n",
        "    def __call__(self, POP):\n",
        "        return self.fitness(POP)\n",
        "\n",
        "    def fitness(self, POP):\n",
        "        #Convertimos el individuo en el fenotipo (ansatz)\n",
        "        training_features, training_labels, test_features, test_labels = \\\n",
        "            Dataset(self.X, self.y)\n",
        "        \n",
        "        model = QSVM(lambda parameters: self.cc(POP, parameters)[0],\n",
        "                          training_features, training_labels)\n",
        "        y_pred = model.predict(test_features) # 22% del computo (ver abajo line-profiler)\n",
        "        acc = metricas_modelos(test_labels, y_pred) # sklearn\n",
        "        rec = reca(test_labels,y_pred)\n",
        "        POP=''.join(str(i) for i in POP)\n",
        "        _, gates = self.cc(POP, training_features[:,[0,1]])\n",
        "        if self.debug:\n",
        "            print(f'String: {POP}\\n -> accuracy = {acc}, gates = {gates},recall = {rec}')\n",
        "        gate = gates/self.nqubits\n",
        "        wc = gate + (gate*(acc**2))\n",
        "        return wc, acc\n"
      ]
    },
    {
      "cell_type": "code",
      "execution_count": 13,
      "metadata": {
        "id": "HB9RrEqJvHpd"
      },
      "outputs": [],
      "source": [
        "from deap import base, creator, tools, algorithms\n",
        "import random\n",
        "def gsvm(nqubits, depth, nparameters, X, y,\n",
        "         mu=100, lambda_=150, cxpb=0.7, mutpb=0.3, ngen=2000,\n",
        "         use_pareto=True, verbose=True, weights=[-1.0,1.0],\n",
        "         debug=True):\n",
        "    bits_puerta = 5\n",
        "    long_cadena = depth * nqubits * bits_puerta\n",
        "    creator.create(\"FitnessMulti\", base.Fitness, weights=weights)\n",
        "    creator.create(\"Individual\", list, fitness = creator.FitnessMulti, statistics=dict)\n",
        "\n",
        "    toolbox = base.Toolbox()\n",
        "    toolbox.register(\"attr_bool\", random.randint, 0, 1)\n",
        "    toolbox.register(\"Individual\", tools.initRepeat, creator.Individual,\n",
        "                     toolbox.attr_bool, long_cadena)\n",
        "    toolbox.register(\"Population\", tools.initRepeat, list, toolbox.Individual)\n",
        "    toolbox.register('mate', tools.cxTwoPoint)\n",
        "    toolbox.register('mutate', tools.mutFlipBit, indpb=0.2)\n",
        "    toolbox.register('select', tools.selNSGA2)\n",
        "    toolbox.register(\"evaluate\", Fitness(nqubits, nparameters, X, y, debug=debug))\n",
        "\n",
        "    pop = toolbox.Population(n=mu)\n",
        "\n",
        "    stats_wc = tools.Statistics(key=lambda ind: ind.fitness.values[0])\n",
        "    stats_wc.register('media',np.mean)\n",
        "    stats_wc.register('std',np.std)\n",
        "    stats_wc.register('max',np.max)\n",
        "    stats_wc.register('min',np.min)\n",
        "    stats_acc = tools.Statistics(key=lambda ind: ind.fitness.values[1])\n",
        "    stats_acc.register('media',np.mean)\n",
        "    stats_acc.register('std',np.std)\n",
        "    stats_acc.register('max',np.max)\n",
        "    stats_acc.register('min',np.min)\n",
        "    mstats = tools.MultiStatistics(wc=stats_wc, acc=stats_acc)\n",
        "\n",
        "    logbook = tools.Logbook()\n",
        "    pareto = tools.ParetoFront(similar = np.array_equal)\n",
        "    pop, logbook = algorithms.eaMuPlusLambda(pop, toolbox,\n",
        "                                             mu, lambda_, cxpb, mutpb, ngen,\n",
        "                                             stats=mstats,\n",
        "                                             halloffame=pareto, verbose=verbose)\n",
        "    pareto.update(pop)\n",
        "    return pop, pareto, logbook\n"
      ]
    },
    {
      "cell_type": "code",
      "execution_count": 30,
      "metadata": {
        "id": "q4J669fRP1Q1"
      },
      "outputs": [],
      "source": [
        "output=\"bank_testdata.csv\"\n",
        "df = pd.read_csv('bank_cleaned.csv')  \n",
        "\n",
        "bank_data = df.sample(n=1000)"
      ]
    },
    {
      "cell_type": "code",
      "execution_count": 31,
      "metadata": {
        "colab": {
          "base_uri": "https://localhost:8080/"
        },
        "id": "CogQReNdarsi",
        "outputId": "7356e663-4856-44df-f297-b5740cbe50ed"
      },
      "outputs": [
        {
          "name": "stdout",
          "output_type": "stream",
          "text": [
            "psi1 shape = (800, 16)\n",
            "psi2 shape = (800, 16)\n",
            "psi1 = (-0.1298028816828563-0.34401079772687027j)\n",
            "psi2 = (-0.1298028816828563-0.34401079772687027j)\n",
            "gram matrix shape of element = (800, 800)\n",
            "[[ 1.         -0.00706579  0.39248304 ... -0.13722754  0.28499216\n",
            "   0.02960796]\n",
            " [-0.00706579  1.         -0.44297039 ...  0.32456629  0.17530003\n",
            "   0.27769141]\n",
            " [ 0.39248304 -0.44297039  1.         ... -0.07915627  0.40223232\n",
            "  -0.10073635]\n",
            " ...\n",
            " [-0.13722754  0.32456629 -0.07915627 ...  1.         -0.11858628\n",
            "   0.08554714]\n",
            " [ 0.28499216  0.17530003  0.40223232 ... -0.11858628  1.\n",
            "   0.068402  ]\n",
            " [ 0.02960796  0.27769141 -0.10073635 ...  0.08554714  0.068402\n",
            "   1.        ]]\n",
            "psi1 shape = (200, 16)\n",
            "psi2 shape = (800, 16)\n",
            "psi1 = (-0.2608437669509173-0.09953402848066598j)\n",
            "psi2 = (-0.1298028816828563-0.34401079772687027j)\n",
            "gram matrix shape of element = (200, 800)\n",
            "[[ 5.21722704e-02  8.40433373e-02 -3.46944695e-17 ... -5.55111512e-17\n",
            "   2.70533380e-02 -3.28441526e-01]\n",
            " [-1.53965460e-01 -1.58068957e-01 -2.42618648e-02 ... -6.55339595e-01\n",
            "  -8.04593461e-02  2.57017525e-01]\n",
            " [ 2.21910642e-02  7.90259966e-01 -3.08295253e-01 ...  1.92538105e-01\n",
            "   1.52133385e-01  6.40411468e-01]\n",
            " ...\n",
            " [-4.48950470e-01  9.72162521e-02 -5.47229680e-02 ... -2.58916280e-01\n",
            "   1.75582448e-02  4.80147590e-01]\n",
            " [-6.20562165e-02  6.35191322e-01 -9.46513354e-02 ...  2.81520987e-01\n",
            "   4.48935285e-02  6.51577402e-01]\n",
            " [ 8.43261168e-02 -1.47039819e-01  0.00000000e+00 ... -6.93889390e-17\n",
            "   1.70529210e-01  2.99913070e-01]]\n",
            "String: 11001100001000101001110011110110111110111011010001000000000000000010111111100101001111100111011100001000101101011011110111010111001111010010\n",
            " -> accuracy = 0.65, gates = 20.0,recall = 0.5876288659793815\n",
            "psi1 shape = (800, 16)\n",
            "psi2 shape = (800, 16)\n",
            "psi1 = (-0.0017402305739693065+0.34614824443012476j)\n",
            "psi2 = (-0.0017402305739693065+0.34614824443012476j)\n",
            "gram matrix shape of element = (800, 800)\n",
            "[[1.         0.96842689 0.97544093 ... 0.9555112  0.96820292 0.93430743]\n",
            " [0.96842689 1.         0.98721909 ... 0.96745779 0.87979435 0.85921309]\n",
            " [0.97544093 0.98721909 1.         ... 0.99406407 0.91551876 0.91824166]\n",
            " ...\n",
            " [0.9555112  0.96745779 0.99406407 ... 1.         0.9026009  0.92359091]\n",
            " [0.96820292 0.87979435 0.91551876 ... 0.9026009  1.         0.97411798]\n",
            " [0.93430743 0.85921309 0.91824166 ... 0.92359091 0.97411798 1.        ]]\n",
            "psi1 shape = (200, 16)\n",
            "psi2 shape = (800, 16)\n",
            "psi1 = (-0.06901293841528121+0.3916846501844909j)\n",
            "psi2 = (-0.0017402305739693065+0.34614824443012476j)\n",
            "gram matrix shape of element = (200, 800)\n",
            "[[0.98653196 0.98743854 0.97149771 ... 0.94406352 0.91622955 0.86935639]\n",
            " [0.95878262 0.98042594 0.99156539 ... 0.98210433 0.89713352 0.91012546]\n",
            " [0.97594748 0.98354304 0.99833707 ... 0.99503783 0.91773356 0.91790754]\n",
            " ...\n",
            " [0.95655344 0.96534386 0.99225877 ... 0.99918576 0.90438238 0.92192178]\n",
            " [0.99503714 0.97370594 0.98962747 ... 0.97746718 0.96193763 0.9494253 ]\n",
            " [0.94390286 0.96951695 0.98419517 ... 0.97686011 0.88384483 0.90643268]]\n",
            "String: 11011110101010111010100110010011111111101001111001010011011001010010111000000011001001010000000101000101101000110110101000011010110011011011\n",
            " -> accuracy = 0.575, gates = 14.0,recall = 0.6907216494845361\n",
            "   \t      \t                     acc                      \t                       wc                      \n",
            "   \t      \t----------------------------------------------\t-----------------------------------------------\n",
            "gen\tnevals\tgen\tmax \tmedia \tmin  \tnevals\tstd   \tgen\tmax   \tmedia  \tmin    \tnevals\tstd    \n",
            "0  \t2     \t0  \t0.65\t0.6125\t0.575\t2     \t0.0375\t0  \t7.1125\t5.88484\t4.65719\t2     \t1.22766\n",
            "psi1 shape = (800, 16)\n",
            "psi2 shape = (800, 16)\n",
            "psi1 = (0.02629873838366368+0.1801783598496382j)\n",
            "psi2 = (0.02629873838366368+0.1801783598496382j)\n",
            "gram matrix shape of element = (800, 800)\n",
            "[[ 1.          0.63953782  0.4046417  ...  0.          0.89486489\n",
            "   0.91715299]\n",
            " [ 0.63953782  1.          0.75033741 ...  0.35220071  0.29378195\n",
            "   0.84574689]\n",
            " [ 0.4046417   0.75033741  1.         ...  0.         -0.03298618\n",
            "   0.52911982]\n",
            " ...\n",
            " [ 0.          0.35220071  0.         ...  1.          0.\n",
            "   0.12945512]\n",
            " [ 0.89486489  0.29378195 -0.03298618 ...  0.          1.\n",
            "   0.71803428]\n",
            " [ 0.91715299  0.84574689  0.52911982 ...  0.12945512  0.71803428\n",
            "   1.        ]]\n",
            "psi1 shape = (200, 16)\n",
            "psi2 shape = (800, 16)\n",
            "psi1 = (0.03830362282933508+0.17159976964620788j)\n",
            "psi2 = (0.02629873838366368+0.1801783598496382j)\n",
            "gram matrix shape of element = (200, 800)\n",
            "[[-5.55111512e-17  2.98674272e-01 -5.55111512e-17 ...  7.01613642e-01\n",
            "   2.77555756e-17  1.74143605e-01]\n",
            " [ 4.60684668e-01  8.93124725e-01  8.49701471e-01 ...  0.00000000e+00\n",
            "   4.17396199e-02  6.67577539e-01]\n",
            " [ 5.23417452e-01  9.02104248e-01  5.33914781e-01 ...  6.84697391e-01\n",
            "   2.84081620e-01  7.37602993e-01]\n",
            " ...\n",
            " [ 5.83623265e-01  9.24116515e-01  8.11795382e-01 ...  5.55111512e-17\n",
            "   1.92843000e-01  7.75409805e-01]\n",
            " [ 4.29522356e-01  7.15952305e-01  3.21184058e-01 ...  7.40372066e-01\n",
            "   2.99162059e-01  6.18063022e-01]\n",
            " [ 6.76055823e-02  6.95360914e-01  7.73887490e-01 ...  0.00000000e+00\n",
            "  -3.52591579e-01  3.00668487e-01]]\n",
            "String: 11011100101100111000101110010010011110011000111001010011101100011010011100100011001100100010001101000011001100111100101010001000000001011011\n",
            " -> accuracy = 0.69, gates = 17.0,recall = 0.7422680412371134\n",
            "1  \t1     \t1  \t0.69\t0.6325\t0.575\t1     \t0.0575\t1  \t6.27342\t5.46531\t4.65719\t1     \t0.808119\n",
            "Simulation finished after 0.10400104522705078 seconds\n"
          ]
        },
        {
          "name": "stderr",
          "output_type": "stream",
          "text": [
            "d:\\Anaconda\\envs\\qc\\lib\\site-packages\\deap\\creator.py:138: RuntimeWarning: A class named 'FitnessMulti' has already been created and it will be overwritten. Consider deleting previous creation of that class or rename it.\n",
            "  warnings.warn(\"A class named '{0}' has already been created and it \"\n",
            "d:\\Anaconda\\envs\\qc\\lib\\site-packages\\deap\\creator.py:138: RuntimeWarning: A class named 'Individual' has already been created and it will be overwritten. Consider deleting previous creation of that class or rename it.\n",
            "  warnings.warn(\"A class named '{0}' has already been created and it \"\n"
          ]
        }
      ],
      "source": [
        "nqubits = 4\n",
        "depth = 7\n",
        "y = bank_data['y'].values\n",
        "X = bank_data[['age','job','marital','education','default','balance','housing','loan','contact',\n",
        "                'day','month','duration','campaign','pdays','previous','poutcome']].values\n",
        "start = time.time()\n",
        "\n",
        "pop, pareto, logbook = gsvm(nqubits=nqubits, depth=depth, nparameters=16,\n",
        "                                    X=X, y=y, weights=[-1.0,1.0],\n",
        "                                    mu=2,lambda_=1,ngen=1,mutpb=1,cxpb=0)\n",
        "\n",
        "print(f'Simulation finished after {time.time()-start} seconds')\n",
        "\n",
        "with open(output, \"w\") as f:\n",
        "    for ide, ind in enumerate(pareto):\n",
        "        genes=''.join(str(i) for i in list(ind))\n",
        "        gates, acc = ind.fitness.values\n",
        "        line = f'{ide},\"{genes}\",{gates},{acc}'\n",
        "        f.write(line)\n",
        "        f.write('\\n')"
      ]
    },
    {
      "cell_type": "code",
      "execution_count": 16,
      "metadata": {
        "colab": {
          "base_uri": "https://localhost:8080/",
          "height": 363
        },
        "id": "AuDdp2NQarsk",
        "outputId": "200a387e-0257-4f92-ec42-6554faef16fa",
        "scrolled": true,
        "tags": []
      },
      "outputs": [
        {
          "data": {
            "text/html": [
              "<div>\n",
              "<style scoped>\n",
              "    .dataframe tbody tr th:only-of-type {\n",
              "        vertical-align: middle;\n",
              "    }\n",
              "\n",
              "    .dataframe tbody tr th {\n",
              "        vertical-align: top;\n",
              "    }\n",
              "\n",
              "    .dataframe thead th {\n",
              "        text-align: right;\n",
              "    }\n",
              "</style>\n",
              "<table border=\"1\" class=\"dataframe\">\n",
              "  <thead>\n",
              "    <tr style=\"text-align: right;\">\n",
              "      <th></th>\n",
              "      <th>ind</th>\n",
              "      <th>circ</th>\n",
              "      <th>gates</th>\n",
              "      <th>accuracy</th>\n",
              "    </tr>\n",
              "  </thead>\n",
              "  <tbody>\n",
              "    <tr>\n",
              "      <th>0</th>\n",
              "      <td>12</td>\n",
              "      <td>1101100011010001110011011111101111001110010101...</td>\n",
              "      <td>7.238143</td>\n",
              "      <td>0.830</td>\n",
              "    </tr>\n",
              "    <tr>\n",
              "      <th>1</th>\n",
              "      <td>11</td>\n",
              "      <td>1101000000101110001111001100111000100111110000...</td>\n",
              "      <td>7.097571</td>\n",
              "      <td>0.810</td>\n",
              "    </tr>\n",
              "    <tr>\n",
              "      <th>2</th>\n",
              "      <td>10</td>\n",
              "      <td>1110101110110010100111100111101101110100101011...</td>\n",
              "      <td>5.388571</td>\n",
              "      <td>0.800</td>\n",
              "    </tr>\n",
              "    <tr>\n",
              "      <th>3</th>\n",
              "      <td>9</td>\n",
              "      <td>0010111100010001111100011101111010101010010111...</td>\n",
              "      <td>4.958171</td>\n",
              "      <td>0.760</td>\n",
              "    </tr>\n",
              "    <tr>\n",
              "      <th>4</th>\n",
              "      <td>7</td>\n",
              "      <td>0000011011111000000010010110011011101010010011...</td>\n",
              "      <td>4.863886</td>\n",
              "      <td>0.740</td>\n",
              "    </tr>\n",
              "    <tr>\n",
              "      <th>5</th>\n",
              "      <td>8</td>\n",
              "      <td>0101110010110111101110010110111100111000101111...</td>\n",
              "      <td>4.863886</td>\n",
              "      <td>0.740</td>\n",
              "    </tr>\n",
              "    <tr>\n",
              "      <th>6</th>\n",
              "      <td>6</td>\n",
              "      <td>0101110101101100100110110010110010001111101111...</td>\n",
              "      <td>4.449075</td>\n",
              "      <td>0.695</td>\n",
              "    </tr>\n",
              "    <tr>\n",
              "      <th>7</th>\n",
              "      <td>5</td>\n",
              "      <td>1100001101100101101000100101101100010001010010...</td>\n",
              "      <td>4.410136</td>\n",
              "      <td>0.635</td>\n",
              "    </tr>\n",
              "    <tr>\n",
              "      <th>8</th>\n",
              "      <td>4</td>\n",
              "      <td>0001001000101100100010000100111010101001011111...</td>\n",
              "      <td>4.370536</td>\n",
              "      <td>0.625</td>\n",
              "    </tr>\n",
              "    <tr>\n",
              "      <th>9</th>\n",
              "      <td>3</td>\n",
              "      <td>1000111111101010101010010010000100101010010111...</td>\n",
              "      <td>4.350971</td>\n",
              "      <td>0.620</td>\n",
              "    </tr>\n",
              "    <tr>\n",
              "      <th>10</th>\n",
              "      <td>2</td>\n",
              "      <td>0111000010110011110111010010100101111001100000...</td>\n",
              "      <td>4.134675</td>\n",
              "      <td>0.615</td>\n",
              "    </tr>\n",
              "    <tr>\n",
              "      <th>11</th>\n",
              "      <td>1</td>\n",
              "      <td>1110011001101101100100100101101100000001010010...</td>\n",
              "      <td>4.116300</td>\n",
              "      <td>0.610</td>\n",
              "    </tr>\n",
              "    <tr>\n",
              "      <th>12</th>\n",
              "      <td>0</td>\n",
              "      <td>1101010010010101011011001000011010101010101011...</td>\n",
              "      <td>3.885714</td>\n",
              "      <td>0.600</td>\n",
              "    </tr>\n",
              "  </tbody>\n",
              "</table>\n",
              "</div>"
            ],
            "text/plain": [
              "    ind                                               circ     gates  accuracy\n",
              "0    12  1101100011010001110011011111101111001110010101...  7.238143     0.830\n",
              "1    11  1101000000101110001111001100111000100111110000...  7.097571     0.810\n",
              "2    10  1110101110110010100111100111101101110100101011...  5.388571     0.800\n",
              "3     9  0010111100010001111100011101111010101010010111...  4.958171     0.760\n",
              "4     7  0000011011111000000010010110011011101010010011...  4.863886     0.740\n",
              "5     8  0101110010110111101110010110111100111000101111...  4.863886     0.740\n",
              "6     6  0101110101101100100110110010110010001111101111...  4.449075     0.695\n",
              "7     5  1100001101100101101000100101101100010001010010...  4.410136     0.635\n",
              "8     4  0001001000101100100010000100111010101001011111...  4.370536     0.625\n",
              "9     3  1000111111101010101010010010000100101010010111...  4.350971     0.620\n",
              "10    2  0111000010110011110111010010100101111001100000...  4.134675     0.615\n",
              "11    1  1110011001101101100100100101101100000001010010...  4.116300     0.610\n",
              "12    0  1101010010010101011011001000011010101010101011...  3.885714     0.600"
            ]
          },
          "execution_count": 16,
          "metadata": {},
          "output_type": "execute_result"
        }
      ],
      "source": [
        "iot_result = pd.read_csv('bank_testdata.csv',header=None)\n",
        "\n",
        "def ordenar_salidas_pareto(dataframe):\n",
        "    dataframe.columns=['ind','circ','gates','accuracy']\n",
        "    dataframe.sort_values(['gates','accuracy'], ascending=[False,False],inplace=True)\n",
        "    dataframe.reset_index(inplace=True)\n",
        "    dataframe.pop('index')\n",
        "    return dataframe\n",
        "\n",
        "iot_salidas = ordenar_salidas_pareto(iot_result)\n",
        "iot_salidas # Queremos ver el primer circuito del dataframe yya ordenado por accuracy (mejor ind)"
      ]
    },
    {
      "cell_type": "code",
      "execution_count": 10,
      "metadata": {},
      "outputs": [
        {
          "name": "stdout",
          "output_type": "stream",
          "text": [
            "['11000', '10010', '11110', '01111', '11101', '01010', '01011', '01000', '11110', '01000', '00010', '00100', '11110', '01010', '00111', '11110', '01100', '11011', '11011', '01001', '00110', '00111', '11000', '10010', '11000', '01111', '00011', '11000', '01001', '00001', '10110', '00011', '10010', '00100', '10111', '11000', '01101', '10110', '11110', '11000', '10100', '11111', '10101', '01100', '11001', '01010', '01000', '01111', '11101']\n",
            "31.0\n"
          ]
        },
        {
          "data": {
            "image/png": "[encoded data removed]",
            "text/plain": [
              "<Figure size 628.397x445.48 with 1 Axes>"
            ]
          },
          "execution_count": 10,
          "metadata": {},
          "output_type": "execute_result"
        }
      ],
      "source": [
        "from qiskit.circuit import ParameterVector, QuantumCircuit\n",
        "from qiskit import QuantumRegister\n",
        "\n",
        "class CircuitConversor2:\n",
        "\n",
        "    def __init__(self, nqubits, nparameters):\n",
        "        gates = {}\n",
        "        for n, suffix in enumerate(['00','01','10','11']):\n",
        "            angle = np.pi / (2**n)\n",
        "            gates['000'+suffix] = (self.make_H(), 1.0)\n",
        "            gates['001'+suffix] = (self.make_cx(), 2.0)\n",
        "            gates['010'+suffix] = (self.make_id(), 0.0)\n",
        "            gates['011'+suffix] = (self.make_rx(angle), 1.0)\n",
        "            gates['100'+suffix] = (self.make_rz(angle), 1.0)\n",
        "            gates['101'+suffix] = (self.make_id(), 0.0)\n",
        "            gates['110'+suffix] = (self.make_id(), 0.0)\n",
        "            gates['111'+suffix] = (self.make_ry(angle), 1.0)\n",
        "        self.gates = gates\n",
        "        self.nqubits = nqubits\n",
        "        self.register = QuantumRegister(nqubits, 'q')\n",
        "        self.nparameters = nparameters\n",
        "        self.nqubits = nqubits\n",
        "        self.x = ParameterVector('x', nparameters)\n",
        "\n",
        "    def __call__(self, coding_0):\n",
        "        print(coding_0)\n",
        "        circuit = QuantumCircuit(self.register)\n",
        "        k = 0\n",
        "        cost = 0\n",
        "        for ndx, z in enumerate(coding_0):\n",
        "            qubit = ndx % self.nqubits\n",
        "            target = (ndx + 1) % self.nqubits\n",
        "            fn, weight = self.gates[z]\n",
        "            k = fn(circuit, k, qubit, target)\n",
        "            cost += weight\n",
        "        for i in range(k, self.nparameters):\n",
        "            circuit.rz(self.x[i]*0, self.register[0])\n",
        "        return circuit, cost\n",
        "\n",
        "    def make_id(self):\n",
        "        def operation(circuit, k, qubit, target):\n",
        "            return k\n",
        "        return operation\n",
        "\n",
        "    def make_H(self):\n",
        "        def operation(circuit, k, qubit, target):\n",
        "            circuit.h(self.register[qubit])\n",
        "            return k\n",
        "        return operation\n",
        "\n",
        "    def make_cx(self):\n",
        "        def operation(circuit, k, qubit, target):\n",
        "            circuit.cx(self.register[qubit], self.register[target])\n",
        "            return k\n",
        "        return operation\n",
        "\n",
        "    def make_rx(self, angle):\n",
        "        def operation(circuit, k, qubit, target):\n",
        "            circuit.rx(self.x[k%self.nparameters] * angle,\n",
        "                       self.register[qubit])\n",
        "            return k+1\n",
        "        return operation\n",
        "\n",
        "    def make_ry(self, angle):\n",
        "        def operation(circuit, k, qubit, target):\n",
        "            circuit.ry(self.x[k%self.nparameters] * angle,\n",
        "                       self.register[qubit])\n",
        "            return k+1\n",
        "        return operation\n",
        "\n",
        "    def make_rz(self, angle):\n",
        "        def operation(circuit, k, qubit, target):\n",
        "            circuit.rz(self.x[k%self.nparameters] * angle,\n",
        "                       self.register[qubit])\n",
        "            return k+1\n",
        "        return operation\n",
        "\n",
        "cc = CircuitConversor2(nqubits=nqubits, nparameters=16)\n",
        "fm, puertas = cc(coding_bits(iot_salidas.circ[0]))\n",
        "print(puertas)\n",
        "fm.draw(output='mpl')"
      ]
    },
    {
      "cell_type": "code",
      "execution_count": 11,
      "metadata": {
        "id": "vaiq4YQnarsm"
      },
      "outputs": [],
      "source": [
        "from sklearn.metrics import confusion_matrix, ConfusionMatrixDisplay, recall_score, accuracy_score\n",
        "import matplotlib.pyplot as plt"
      ]
    },
    {
      "cell_type": "code",
      "execution_count": 12,
      "metadata": {
        "id": "x7g9HThQarsm"
      },
      "outputs": [],
      "source": [
        "def featuremap_performance(pop:str,nqubits:int) -> None:\n",
        "    '''Returns the performance of a feature map on all of the dataset'''\n",
        "    df_1 = df.sample(frac=1)\n",
        "\n",
        "    for i in range(8):\n",
        "        if i == 7:\n",
        "            bank_data = df_1.iloc[60000:79844]\n",
        "            break\n",
        "        bank_data = df_1.iloc[i*10000:i*10000+10000]\n",
        "\n",
        "        y = bank_data['y'].values\n",
        "        X = bank_data[['age','job','marital','education','default','balance',\n",
        "                    'housing','loan','contact','day','month','duration','campaign','pdays','previous','poutcome']].values\n",
        "\n",
        "\n",
        "        fitness_obj = Fitness(nqubits,16,X,y,debug=True)\n",
        "\n",
        "        training_features, training_labels, test_features, test_labels = Dataset(X,y)\n",
        "\n",
        "        model = QSVM(lambda parameters: fitness_obj.cc(pop, parameters)[0],training_features,training_labels)#fitness_obj(pop)\n",
        "\n",
        "        y_pred = model.predict(test_features)\n",
        "\n",
        "        cm = confusion_matrix(test_labels, y_pred)\n",
        "\n",
        "        #cm_display = ConfusionMatrixDisplay(cm).plot()\n",
        "        ConfusionMatrixDisplay.from_predictions(test_labels, y_pred)\n",
        "        plt.show()\n",
        "        recall = recall_score(test_labels, y_pred)\n",
        "        acc  = accuracy_score(test_labels, y_pred)\n",
        "\n",
        "        print(f'String = {pop},\\n accuracy = {acc}, recall = {recall} for {i+1}th section of the data')\n",
        "        \n",
        "    return None\n"
      ]
    },
    {
      "cell_type": "code",
      "execution_count": 13,
      "metadata": {
        "colab": {
          "base_uri": "https://localhost:8080/",
          "height": 1000
        },
        "id": "PEitTdxlarsn",
        "outputId": "4fdcd6ac-2071-4ef1-d83a-ca6ceac99199"
      },
      "outputs": [
        {
          "data": {
            "image/png": "[encoded data removed]",
            "text/plain": [
              "<Figure size 432x288 with 2 Axes>"
            ]
          },
          "metadata": {
            "needs_background": "light"
          },
          "output_type": "display_data"
        },
        {
          "name": "stdout",
          "output_type": "stream",
          "text": [
            "String = 11000100101111001111111010101001011010001111001000000100010011110010100011111110011001101111011010010011000111110001001011000011110001111000010010000110110000111001000100101111100001101101101111011000101001111110101011001100101010010000111111101,\n",
            " accuracy = 0.77, recall = 0.7086223984142715 for 1th section of the data\n"
          ]
        },
        {
          "data": {
            "image/png": "[encoded data removed]",
            "text/plain": [
              "<Figure size 432x288 with 2 Axes>"
            ]
          },
          "metadata": {
            "needs_background": "light"
          },
          "output_type": "display_data"
        },
        {
          "name": "stdout",
          "output_type": "stream",
          "text": [
            "String = 11000100101111001111111010101001011010001111001000000100010011110010100011111110011001101111011010010011000111110001001011000011110001111000010010000110110000111001000100101111100001101101101111011000101001111110101011001100101010010000111111101,\n",
            " accuracy = 0.759, recall = 0.6889332003988036 for 2th section of the data\n"
          ]
        },
        {
          "data": {
            "image/png": "[encoded data removed]",
            "text/plain": [
              "<Figure size 432x288 with 2 Axes>"
            ]
          },
          "metadata": {
            "needs_background": "light"
          },
          "output_type": "display_data"
        },
        {
          "name": "stdout",
          "output_type": "stream",
          "text": [
            "String = 11000100101111001111111010101001011010001111001000000100010011110010100011111110011001101111011010010011000111110001001011000011110001111000010010000110110000111001000100101111100001101101101111011000101001111110101011001100101010010000111111101,\n",
            " accuracy = 0.769, recall = 0.704183266932271 for 3th section of the data\n"
          ]
        },
        {
          "data": {
            "image/png": "[encoded data removed]",
            "text/plain": [
              "<Figure size 432x288 with 2 Axes>"
            ]
          },
          "metadata": {
            "needs_background": "light"
          },
          "output_type": "display_data"
        },
        {
          "name": "stdout",
          "output_type": "stream",
          "text": [
            "String = 11000100101111001111111010101001011010001111001000000100010011110010100011111110011001101111011010010011000111110001001011000011110001111000010010000110110000111001000100101111100001101101101111011000101001111110101011001100101010010000111111101,\n",
            " accuracy = 0.757, recall = 0.6949152542372882 for 4th section of the data\n"
          ]
        },
        {
          "data": {
            "image/png": "[encoded data removed]",
            "text/plain": [
              "<Figure size 432x288 with 2 Axes>"
            ]
          },
          "metadata": {
            "needs_background": "light"
          },
          "output_type": "display_data"
        },
        {
          "name": "stdout",
          "output_type": "stream",
          "text": [
            "String = 11000100101111001111111010101001011010001111001000000100010011110010100011111110011001101111011010010011000111110001001011000011110001111000010010000110110000111001000100101111100001101101101111011000101001111110101011001100101010010000111111101,\n",
            " accuracy = 0.7635, recall = 0.6756756756756757 for 5th section of the data\n"
          ]
        },
        {
          "data": {
            "image/png": "[encoded data removed]",
            "text/plain": [
              "<Figure size 432x288 with 2 Axes>"
            ]
          },
          "metadata": {
            "needs_background": "light"
          },
          "output_type": "display_data"
        },
        {
          "name": "stdout",
          "output_type": "stream",
          "text": [
            "String = 11000100101111001111111010101001011010001111001000000100010011110010100011111110011001101111011010010011000111110001001011000011110001111000010010000110110000111001000100101111100001101101101111011000101001111110101011001100101010010000111111101,\n",
            " accuracy = 0.768, recall = 0.6944162436548224 for 6th section of the data\n"
          ]
        },
        {
          "data": {
            "image/png": "[encoded data removed]",
            "text/plain": [
              "<Figure size 432x288 with 2 Axes>"
            ]
          },
          "metadata": {
            "needs_background": "light"
          },
          "output_type": "display_data"
        },
        {
          "name": "stdout",
          "output_type": "stream",
          "text": [
            "String = 11000100101111001111111010101001011010001111001000000100010011110010100011111110011001101111011010010011000111110001001011000011110001111000010010000110110000111001000100101111100001101101101111011000101001111110101011001100101010010000111111101,\n",
            " accuracy = 0.7735, recall = 0.7058823529411765 for 7th section of the data\n"
          ]
        }
      ],
      "source": [
        "featuremap_performance(iot_salidas.circ[0],nqubits)"
      ]
    },
    {
      "cell_type": "code",
      "execution_count": 14,
      "metadata": {
        "colab": {
          "base_uri": "https://localhost:8080/",
          "height": 297
        },
        "id": "1yEEN_udarsn",
        "outputId": "be5c161d-22e0-45c9-e0fc-bb7b8cd6c727"
      },
      "outputs": [
        {
          "data": {
            "image/png": "[encoded data removed]",
            "text/plain": [
              "<Figure size 432x288 with 2 Axes>"
            ]
          },
          "metadata": {
            "needs_background": "light"
          },
          "output_type": "display_data"
        },
        {
          "data": {
            "text/plain": [
              "<Figure size 600x400 with 0 Axes>"
            ]
          },
          "metadata": {},
          "output_type": "display_data"
        }
      ],
      "source": [
        "gen = logbook.select(\"gen\")\n",
        "wc = logbook.chapters[\"wc\"].select(\"media\")\n",
        "acc = logbook.chapters[\"acc\"].select(\"media\")\n",
        "\n",
        "import matplotlib.pyplot as plt\n",
        "\n",
        "fig, ax1 = plt.subplots()\n",
        "plt.figure(dpi = 100)\n",
        "line1 = ax1.plot(gen, wc ,\"b-\", label=\"Average Weight Control\")\n",
        "ax1.set_xlabel(\"Generation\")\n",
        "ax1.set_ylabel(\"Weight Control\", color=\"b\")\n",
        "for tl in ax1.get_yticklabels():\n",
        "    tl.set_color(\"b\")\n",
        "\n",
        "ax2 = ax1.twinx()\n",
        "line2 = ax2.plot(gen, acc, \"r-\", label=\"Average Accuracy\")\n",
        "ax2.set_ylabel(\"Accuracy\", color=\"r\")\n",
        "for tl in ax2.get_yticklabels():\n",
        "    tl.set_color(\"r\")\n",
        "\n",
        "lns = line1 + line2\n",
        "labs = [l.get_label() for l in lns]\n",
        "ax1.legend(lns, labs, loc=\"best\")\n",
        "\n",
        "plt.show()"
      ]
    },
    {
      "cell_type": "code",
      "execution_count": 13,
      "metadata": {
        "id": "uQOMDMVIarsn"
      },
      "outputs": [],
      "source": [
        "    "
      ]
    }
  ],
  "metadata": {
    "accelerator": "GPU",
    "colab": {
      "provenance": []
    },
    "gpuClass": "standard",
    "kernelspec": {
      "display_name": "Python 3 (ipykernel)",
      "language": "python",
      "name": "python3"
    },
    "language_info": {
      "codemirror_mode": {
        "name": "ipython",
        "version": 3
      },
      "file_extension": ".py",
      "mimetype": "text/x-python",
      "name": "python",
      "nbconvert_exporter": "python",
      "pygments_lexer": "ipython3",
      "version": "3.9.7"
    },
    "vscode": {
      "interpreter": {
        "hash": "3dc53fd84ad5731d04d4fc36beb52296b89dd90b5123e6bc5399b8c2dcae883a"
      }
    }
  },
  "nbformat": 4,
  "nbformat_minor": 0
}
