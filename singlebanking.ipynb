{
  "cells": [
    {
      "attachments": {},
      "cell_type": "markdown",
      "metadata": {},
      "source": [
        "# Single notebook for Banking Dataset"
      ]
    },
    {
      "cell_type": "code",
      "execution_count": 1,
      "metadata": {
        "id": "pb3tonW1arsh",
        "scrolled": true,
        "tags": []
      },
      "outputs": [],
      "source": [
        "import numpy as np\n",
        "import pandas as pd\n",
        "import time\n",
        "import matplotlib.pyplot as plt\n",
        "from numpy import pi as π\n",
        "import os\n",
        "import psutil\n",
        "import random\n",
        "\n",
        "from sklearn.model_selection import train_test_split\n",
        "from sklearn.preprocessing import StandardScaler, MinMaxScaler\n",
        "from sklearn.metrics import accuracy_score\n",
        "from sklearn.svm import SVC\n",
        "\n",
        "from deap import base, creator, tools, algorithms\n",
        "\n",
        "from qiskit.circuit import ParameterVector, QuantumCircuit\n",
        "from qiskit import QuantumRegister"
      ]
    },
    {
      "attachments": {},
      "cell_type": "markdown",
      "metadata": {},
      "source": [
        "## Required Classes and Functions"
      ]
    },
    {
      "cell_type": "code",
      "execution_count": 2,
      "metadata": {
        "id": "0xV6joNSuqG-"
      },
      "outputs": [],
      "source": [
        "# circuit.py - Class: Circuit\n",
        "\n",
        "class Circuit: \n",
        "    '''\n",
        "\n",
        "    Class for that generates N-dimensional gates acting of arbitatry qubit.\n",
        "    Gates - Pauli Rotation, H, X, RY, RX, RZ and CNOT.\n",
        "    Also generates the zero N-dimensional state.\n",
        "\n",
        "    '''\n",
        "\n",
        "    def __init__(self, nqubits):\n",
        "        self.nqubits = nqubits\n",
        "        self.σx = np.array([[0.0,1.0],[1.0,0.0]]);\n",
        "        self.σz = np.array([[1.0,0.0],[0.0,-1.0]]);\n",
        "        self.σy = np.array([[0.0,-1j],[1.j,0.0]]);\n",
        "        self.σ = np.array([np.eye(2), self.σx, self.σy, self.σz]);\n",
        "        self.d = 2**nqubits\n",
        "        self.H = np.array([[1,1],[1,-1]])/np.sqrt(2.0)\n",
        "\n",
        "    def zero_state(self):\n",
        "        ψ = np.zeros((self.d,))\n",
        "        ψ[0] = 1.0\n",
        "        return ψ\n",
        "\n",
        "    def pauli_rotation(self, state, σ, θ, qubit):\n",
        "        θ = np.asarray(θ).reshape(-1,1,1)/2.0\n",
        "        M = θ.shape[0]\n",
        "        U = np.cos(θ) * np.eye(2) - 1j * np.sin(θ) * σ\n",
        "        Usame = U[:,[0,1],[0,1]].reshape(-1,2)\n",
        "        Uoppo = U[:,[0,1],[1,0]].reshape(-1,2)\n",
        "        di = 2**qubit\n",
        "        dj = 2**(self.nqubits - qubit - 1)\n",
        "        state = state.reshape(-1, dj, 2, di)\n",
        "        state = Usame.reshape(M, 1, 2, 1) * state \\\n",
        "              + Uoppo.reshape(M, 1, 2, 1) * state[:, :, [1,0], :]\n",
        "        if state.shape[0] == 1:\n",
        "            return state.flatten()\n",
        "        else:\n",
        "            return state.reshape(-1, self.d)\n",
        "\n",
        "    def h(self, state, qubit):\n",
        "        di = 2**qubit\n",
        "        s = state.shape\n",
        "        state = state.reshape(-1, 2, di)\n",
        "        return np.einsum('mjl,ji->mil', state, self.H).reshape(s)\n",
        "\n",
        "    def x(self, state, qubit):\n",
        "        di = 2**qubit\n",
        "        s = state.shape\n",
        "        state = state.reshape(-1, 2, di)\n",
        "        return state[:,[1,0],:].reshape(s)\n",
        "\n",
        "    def ry(self, state, θ, qubit):\n",
        "        return self.pauli_rotation(state, self.σy, θ, qubit)\n",
        "\n",
        "    def rx(self, state, θ, qubit):\n",
        "        return self.pauli_rotation(state, self.σx, θ, qubit)\n",
        "\n",
        "    def rz(self, state, θ, qubit):\n",
        "        return self.pauli_rotation(state, self.σz, θ, qubit)\n",
        "\n",
        "    def cx(self, state, qubit, target):\n",
        "        assert self.nqubits >= 2\n",
        "        assert 0 <= qubit <= self.nqubits\n",
        "        assert 0 <= target <= self.nqubits\n",
        "        assert target != qubit\n",
        "        i = min(qubit, target)\n",
        "        j = max(qubit, target)\n",
        "        di = 2**i\n",
        "        dj = 2**(j-i-1)\n",
        "        dk = 2**(self.nqubits - j - 1)\n",
        "        s = state.shape\n",
        "        state = state.reshape(-1, 2, dj, 2, di).copy()\n",
        "        if qubit > target:\n",
        "            state[:,1,:,[1,0],:] = state[:,1,:,[0,1],:]\n",
        "        else:\n",
        "            state[:,[1,0],:,1,:] = state[:,[0,1],:,1,:]\n",
        "        return state.reshape(s)\n",
        "\n",
        "# encoding.py - Class: CircuitConversor and Fucntions: coding_bits\n",
        "\n",
        "def coding_bits(b):\n",
        "    c = [b[n:n+5] for n,i in enumerate(b) if n%5==0]\n",
        "    c_p=[]\n",
        "    coding_0=[]\n",
        "    for i in range(len(c)):\n",
        "        for j in c[i]:\n",
        "            c_p.append(str(j))\n",
        "    np.asarray(c_p)\n",
        "    c = [c_p[n:n+5] for n,i in enumerate(c_p) if n%5==0]\n",
        "    for i in c:\n",
        "        coding_0.append(''.join(i))\n",
        "    return coding_0\n",
        "\n",
        "class CircuitConversor:\n",
        "    \n",
        "    '''\n",
        "    ## Decodes strings of bits into a an array representating the state.\n",
        "    __call__ function takes in a string of bits and returns the state and the cost to apply operations.\n",
        "    '''\n",
        "\n",
        "    def __init__(self, nqubits, nparameters):\n",
        "        self.gates = gates = {}\n",
        "        for n, suffix in enumerate(['00','01','10','11']):\n",
        "            angle = π / (2**n)\n",
        "            gates['000'+suffix] = (self.make_h(), 1.0)\n",
        "            gates['001'+suffix] = (self.make_cx(), 2.0)\n",
        "            gates['010'+suffix] = (self.make_id(), 0.0)\n",
        "            gates['011'+suffix] = (self.make_rx(angle), 1.0)\n",
        "            gates['100'+suffix] = (self.make_rz(angle), 1.0)\n",
        "            gates['101'+suffix] = (self.make_id(), 0.0)\n",
        "            gates['110'+suffix] = (self.make_id(), 0.0)\n",
        "            gates['111'+suffix] = (self.make_ry(angle), 1.0)\n",
        "        self.nqubits = nqubits\n",
        "        self.nparameters = nparameters\n",
        "        self.circuit = Circuit(nqubits)\n",
        "\n",
        "    def __call__(self, coding_0, parameters):\n",
        "        k = 0\n",
        "        cost = 0\n",
        "        state = self.circuit.zero_state()\n",
        "        for ndx, z in enumerate(coding_bits(coding_0)):\n",
        "            qubit = ndx % self.nqubits\n",
        "            target = (ndx + 1) % self.nqubits\n",
        "            fn, weight = self.gates[z]\n",
        "            state, k = fn(state, parameters, k, qubit, target)\n",
        "            cost += weight\n",
        "        if k == 0 and parameters.ndim == 2:\n",
        "            state = np.ones((parameters.shape[1],1)) * state.reshape(1,-1)\n",
        "        return state, cost\n",
        "\n",
        "    def make_id(self):\n",
        "        def operation(state, parameters, k, qubit, target):\n",
        "            return state, k\n",
        "        return operation\n",
        "\n",
        "    def make_h(self):\n",
        "        def operation(state, parameters, k, qubit, target):\n",
        "            return self.circuit.h(state, qubit), k\n",
        "        return operation\n",
        "\n",
        "    def make_cx(self):\n",
        "        def operation(state, parameters, k, qubit, target):\n",
        "            return self.circuit.cx(state, qubit, target), k\n",
        "        return operation\n",
        "\n",
        "    def make_rx(self, angle):\n",
        "        def operation(state, parameters, k, qubit, target):\n",
        "            ndx = k % self.nparameters\n",
        "            return self.circuit.rx(state, parameters[ndx,:]*angle, qubit), k+1\n",
        "        return operation\n",
        "\n",
        "    def make_ry(self, angle):\n",
        "        def operation(state, parameters, k, qubit, target):\n",
        "            ndx = k % self.nparameters\n",
        "            return self.circuit.ry(state, parameters[ndx,:]*angle, qubit), k+1\n",
        "        return operation\n",
        "\n",
        "    def make_rz(self, angle):\n",
        "        def operation(state, parameters, k, qubit, target):\n",
        "            ndx = k % self.nparameters\n",
        "            return self.circuit.rz(state, parameters[ndx,:]*angle, qubit), k+1\n",
        "        return operation\n",
        "\n",
        "# encoding2.py - Class: CircuitConversor2\n",
        "\n",
        "class CircuitConversor2:\n",
        "\n",
        "    def __init__(self, nqubits, nparameters):\n",
        "        gates = {}\n",
        "        for n, suffix in enumerate(['00','01','10','11']):\n",
        "            angle = np.pi / (2**n)\n",
        "            gates['000'+suffix] = (self.make_H(), 1.0)\n",
        "            gates['001'+suffix] = (self.make_cx(), 2.0)\n",
        "            gates['010'+suffix] = (self.make_id(), 0.0)\n",
        "            gates['011'+suffix] = (self.make_rx(angle), 1.0)\n",
        "            gates['100'+suffix] = (self.make_rz(angle), 1.0)\n",
        "            gates['101'+suffix] = (self.make_id(), 0.0)\n",
        "            gates['110'+suffix] = (self.make_id(), 0.0)\n",
        "            gates['111'+suffix] = (self.make_ry(angle), 1.0)\n",
        "        self.gates = gates\n",
        "        self.nqubits = nqubits\n",
        "        self.register = QuantumRegister(nqubits, 'q')\n",
        "        self.nparameters = nparameters\n",
        "        self.nqubits = nqubits\n",
        "        self.x = ParameterVector('x', nparameters)\n",
        "\n",
        "    def __call__(self, coding_0):\n",
        "        print(coding_0)\n",
        "        circuit = QuantumCircuit(self.register)\n",
        "        k = 0\n",
        "        cost = 0\n",
        "        for ndx, z in enumerate(coding_0):\n",
        "            qubit = ndx % self.nqubits\n",
        "            target = (ndx + 1) % self.nqubits\n",
        "            fn, weight = self.gates[z]\n",
        "            k = fn(circuit, k, qubit, target)\n",
        "            cost += weight\n",
        "        for i in range(k, self.nparameters):\n",
        "            circuit.rz(self.x[i]*0, self.register[0])\n",
        "        return circuit, cost\n",
        "\n",
        "    def make_id(self):\n",
        "        def operation(circuit, k, qubit, target):\n",
        "            return k\n",
        "        return operation\n",
        "\n",
        "    def make_H(self):\n",
        "        def operation(circuit, k, qubit, target):\n",
        "            circuit.h(self.register[qubit])\n",
        "            return k\n",
        "        return operation\n",
        "\n",
        "    def make_cx(self):\n",
        "        def operation(circuit, k, qubit, target):\n",
        "            circuit.cx(self.register[qubit], self.register[target])\n",
        "            return k\n",
        "        return operation\n",
        "\n",
        "    def make_rx(self, angle):\n",
        "        def operation(circuit, k, qubit, target):\n",
        "            circuit.rx(self.x[k%self.nparameters] * angle,\n",
        "                       self.register[qubit])\n",
        "            return k+1\n",
        "        return operation\n",
        "\n",
        "    def make_ry(self, angle):\n",
        "        def operation(circuit, k, qubit, target):\n",
        "            circuit.ry(self.x[k%self.nparameters] * angle,\n",
        "                       self.register[qubit])\n",
        "            return k+1\n",
        "        return operation\n",
        "\n",
        "    def make_rz(self, angle):\n",
        "        def operation(circuit, k, qubit, target):\n",
        "            circuit.rz(self.x[k%self.nparameters] * angle,\n",
        "                       self.register[qubit])\n",
        "            return k+1\n",
        "        return operation\n",
        "\n",
        "# qsvm.py - Class: QSVM\n",
        "\n",
        "class QSVM:\n",
        "    '''\n",
        "    Takes in the feature map we generated and outputs a classifier model and its fit.\n",
        "    '''\n",
        "    def __init__(self, feature_map, train_features, train_label):\n",
        "        def kernel(x1, x2):\n",
        "            ψ1 = feature_map(x1.T)\n",
        "            ψ2 = feature_map(x2.T)\n",
        "            gram = ψ1.real @ ψ2.real.T + ψ1.imag @ ψ2.imag.T\n",
        "            # print(f'psi1 shape = {ψ1.shape}')\n",
        "            # print(f'psi2 shape = {ψ2.shape}')\n",
        "            # print(f'psi1 = {ψ1[1,1]}')\n",
        "            # print(f'psi2 = {ψ2[1,1]}')\n",
        "            # print(f'gram matrix shape of element = {gram.shape}')\n",
        "            # print(gram)\n",
        "            return gram\n",
        "        self.svc = SVC(kernel=kernel,cache_size=5000)\n",
        "        self.svc.fit(train_features, train_label)\n",
        "\n",
        "    def run(self):\n",
        "        pass\n",
        "\n",
        "    def predict(self, dataset_features):\n",
        "        return self.svc.predict(dataset_features)\n",
        "\n",
        "# fitness.py - Class: Fitness and Functions: metricas_modelos, reca and Dataset\n",
        "\n",
        "def metricas_modelos(y_true, y_pred): \n",
        "    from sklearn.metrics import accuracy_score\n",
        "    accuracy = accuracy_score(y_true, y_pred)\n",
        "    return(accuracy)\n",
        "\n",
        "def reca(y_true, y_pred):\n",
        "    from sklearn.metrics import recall_score\n",
        "    recall = recall_score(y_true,y_pred,average='binary')\n",
        "    return(recall)\n",
        "\n",
        "def Dataset(X, y, test_size_split=0.2):\n",
        "    class_labels = [r'0', r'1']\n",
        "\n",
        "    n_samples = np.shape(X)[0]\n",
        "    training_size = int(n_samples-(n_samples*test_size_split))\n",
        "    test_size =int(n_samples-training_size)\n",
        "    train_sample, test_sample, train_label, test_label = \\\n",
        "        train_test_split(X, y, stratify=y, test_size=test_size_split, random_state=12)\n",
        "\n",
        "    std_scale = StandardScaler().fit(train_sample)\n",
        "    train_sample = std_scale.transform(train_sample)\n",
        "    test_sample = std_scale.transform(test_sample)\n",
        "\n",
        "    samples = np.append(train_sample, test_sample, axis=0)\n",
        "    minmax_scale = MinMaxScaler((-1, 1)).fit(samples)\n",
        "    train_sample = minmax_scale.transform(train_sample)\n",
        "    test_sample = minmax_scale.transform(test_sample)\n",
        "\n",
        "    return train_sample, train_label, test_sample, test_label\n",
        "\n",
        "class Fitness:\n",
        "    '''\n",
        "    This class calculates the fitness of a single bit string and return its cost and accuracy \n",
        "    '''\n",
        "\n",
        "    def __init__(self, nqubits, nparameters, X, y, debug=False):\n",
        "        self.nqubits = nqubits\n",
        "        self.nparameters = nparameters\n",
        "        self.cc = CircuitConversor(nqubits, nparameters)\n",
        "        self.X = X\n",
        "        self.y = y\n",
        "        self.debug = debug\n",
        "\n",
        "    def __call__(self, POP):\n",
        "        return self.fitness(POP)\n",
        "\n",
        "    def fitness(self, POP):\n",
        "        #Convertimos el individuo en el fenotipo (ansatz)\n",
        "        training_features, training_labels, test_features, test_labels = \\\n",
        "            Dataset(self.X, self.y)\n",
        "        \n",
        "        model = QSVM(lambda parameters: self.cc(POP, parameters)[0],\n",
        "                          training_features, training_labels)\n",
        "        y_pred = model.predict(test_features) # 22% del computo (ver abajo line-profiler)\n",
        "        acc = metricas_modelos(test_labels, y_pred) # sklearn\n",
        "        rec = reca(test_labels,y_pred)\n",
        "        POP=''.join(str(i) for i in POP)\n",
        "        _, gates = self.cc(POP, training_features[:,[0,1]])\n",
        "        if self.debug:\n",
        "            print(f'String: {POP}\\n -> accuracy = {acc}, gates = {gates},recall = {rec}')\n",
        "        gate = gates/self.nqubits\n",
        "        wc = gate + (gate*(acc**2))\n",
        "        return wc, acc\n",
        "\n",
        "# gsvm.py - Funtions: gsvm\n",
        "\n",
        "def gsvm(nqubits, depth, nparameters, X, y,\n",
        "         mu=100, lambda_=150, cxpb=0.7, mutpb=0.3, ngen=2000,\n",
        "         use_pareto=True, verbose=True, weights=[-1.0,1.0],\n",
        "         debug=True):\n",
        "    bits_puerta = 5\n",
        "    long_cadena = depth * nqubits * bits_puerta\n",
        "    creator.create(\"FitnessMulti\", base.Fitness, weights=weights)\n",
        "    creator.create(\"Individual\", list, fitness = creator.FitnessMulti, statistics=dict)\n",
        "\n",
        "    toolbox = base.Toolbox()\n",
        "    toolbox.register(\"attr_bool\", random.randint, 0, 1)\n",
        "    toolbox.register(\"Individual\", tools.initRepeat, creator.Individual,\n",
        "                     toolbox.attr_bool, long_cadena)\n",
        "    toolbox.register(\"Population\", tools.initRepeat, list, toolbox.Individual)\n",
        "    toolbox.register('mate', tools.cxTwoPoint)\n",
        "    toolbox.register('mutate', tools.mutFlipBit, indpb=0.2)\n",
        "    toolbox.register('select', tools.selNSGA2)\n",
        "    toolbox.register(\"evaluate\", Fitness(nqubits, nparameters, X, y, debug=debug))\n",
        "\n",
        "    pop = toolbox.Population(n=mu)\n",
        "\n",
        "    stats_wc = tools.Statistics(key=lambda ind: ind.fitness.values[0])\n",
        "    stats_wc.register('media',np.mean)\n",
        "    stats_wc.register('std',np.std)\n",
        "    stats_wc.register('max',np.max)\n",
        "    stats_wc.register('min',np.min)\n",
        "    stats_acc = tools.Statistics(key=lambda ind: ind.fitness.values[1])\n",
        "    stats_acc.register('media',np.mean)\n",
        "    stats_acc.register('std',np.std)\n",
        "    stats_acc.register('max',np.max)\n",
        "    stats_acc.register('min',np.min)\n",
        "    mstats = tools.MultiStatistics(wc=stats_wc, acc=stats_acc)\n",
        "\n",
        "    logbook = tools.Logbook()\n",
        "    pareto = tools.ParetoFront(similar = np.array_equal)\n",
        "    pop, logbook = algorithms.eaMuPlusLambda(pop, toolbox,\n",
        "                                             mu, lambda_, cxpb, mutpb, ngen,\n",
        "                                             stats=mstats,\n",
        "                                             halloffame=pareto, verbose=verbose)\n",
        "    pareto.update(pop)\n",
        "    return pop, pareto, logbook\n"
      ]
    },
    {
      "cell_type": "code",
      "execution_count": 53,
      "metadata": {},
      "outputs": [],
      "source": [
        "n_samples = 4000\n",
        "nqubits = 6\n",
        "depth = 6\n",
        "mu = 20\n",
        "lambda_ = 10\n",
        "ngen = 20\n",
        "mutpb = .3\n",
        "cxpb = .7\n",
        "\n",
        "output=\"bank_testdata.csv\""
      ]
    },
    {
      "cell_type": "code",
      "execution_count": 54,
      "metadata": {
        "id": "q4J669fRP1Q1"
      },
      "outputs": [],
      "source": [
        "df = pd.read_csv('bank_cleaned.csv')  \n",
        "\n",
        "bank_data = df.sample(n=n_samples,random_state=33)\n",
        "\n",
        "y = bank_data['y'].values\n",
        "\n",
        "# X = bank_data[['age','job','marital','education','default','balance','housing','loan','contact',\n",
        "                # 'day','month','duration','campaign','pdays','previous','poutcome']].values\n",
        "\n",
        "X = bank_data[['age','job','marital','education','default','balance','housing','loan','contact',\n",
        "                'day','month','campaign','pdays','previous','poutcome']].values\n",
        "\n",
        "ss = StandardScaler()\n",
        "X = ss.fit_transform(X)"
      ]
    },
    {
      "cell_type": "code",
      "execution_count": 55,
      "metadata": {},
      "outputs": [
        {
          "name": "stderr",
          "output_type": "stream",
          "text": [
            "d:\\Anaconda\\envs\\qc\\lib\\site-packages\\deap\\creator.py:138: RuntimeWarning: A class named 'FitnessMulti' has already been created and it will be overwritten. Consider deleting previous creation of that class or rename it.\n",
            "  warnings.warn(\"A class named '{0}' has already been created and it \"\n",
            "d:\\Anaconda\\envs\\qc\\lib\\site-packages\\deap\\creator.py:138: RuntimeWarning: A class named 'Individual' has already been created and it will be overwritten. Consider deleting previous creation of that class or rename it.\n",
            "  warnings.warn(\"A class named '{0}' has already been created and it \"\n"
          ]
        },
        {
          "name": "stdout",
          "output_type": "stream",
          "text": [
            "   \t      \t                           acc                           \t                       wc                      \n",
            "   \t      \t---------------------------------------------------------\t-----------------------------------------------\n",
            "gen\tnevals\tgen\tmax   \tmedia   \tmin    \tnevals\tstd      \tgen\tmax    \tmedia  \tmin    \tnevals\tstd    \n",
            "0  \t20    \t0  \t0.6775\t0.633125\t0.58125\t20    \t0.0285988\t0  \t8.10287\t6.02979\t4.36182\t20    \t0.95747\n",
            "1  \t10    \t1  \t0.72125\t0.645687\t0.57   \t10    \t0.0361539\t1  \t8.00594\t5.57924\t3.38468\t10    \t1.21718\n",
            "2  \t10    \t2  \t0.72125\t0.660375\t0.57   \t10    \t0.0342853\t2  \t8.81535\t5.58414\t3.38468\t10    \t1.50816\n",
            "3  \t10    \t3  \t0.72125\t0.667813\t0.57   \t10    \t0.0340814\t3  \t8.81535\t5.60192\t3.38468\t10    \t1.60829\n",
            "4  \t10    \t4  \t0.72125\t0.667687\t0.57   \t10    \t0.0317984\t4  \t8.81535\t5.25193\t3.38468\t10    \t1.52871\n",
            "5  \t10    \t5  \t0.72125\t0.668625\t0.60125\t10    \t0.0302384\t5  \t8.81535\t5.1872 \t3.38468\t10    \t1.56115\n",
            "6  \t10    \t6  \t0.72125\t0.676937\t0.63125\t10    \t0.025472 \t6  \t8.59408\t5.03244\t3.32676\t10    \t1.58089\n",
            "7  \t10    \t7  \t0.72125\t0.679125\t0.60875\t10    \t0.0292487\t7  \t8.59408\t4.99724\t3.30406\t10    \t1.54659\n",
            "8  \t10    \t8  \t0.72125\t0.678375\t0.645  \t10    \t0.0252212\t8  \t8.59408\t4.47919\t3.30406\t10    \t1.44425\n",
            "9  \t10    \t9  \t0.72125\t0.672875\t0.6075 \t10    \t0.0277998\t9  \t7.84507\t4.18382\t3.30406\t10    \t1.11523\n",
            "10 \t10    \t10 \t0.72125\t0.664937\t0.565  \t10    \t0.0422372\t10 \t7.84507\t4.00659\t2.85832\t10    \t1.16088\n",
            "11 \t10    \t11 \t0.725  \t0.660062\t0.565  \t10    \t0.0430343\t11 \t7.84507\t3.79469\t2.85832\t10    \t1.09027\n",
            "12 \t10    \t12 \t0.725  \t0.657563\t0.565  \t10    \t0.0409754\t12 \t5.59396\t3.56009\t2.85832\t10    \t0.577129\n",
            "13 \t10    \t13 \t0.725  \t0.65625 \t0.565  \t10    \t0.0409363\t13 \t5.59396\t3.55605\t2.85832\t10    \t0.578619\n",
            "14 \t10    \t14 \t0.725  \t0.665188\t0.565  \t10    \t0.0382983\t14 \t5.59396\t3.57135\t2.85832\t10    \t0.57019 \n",
            "15 \t10    \t15 \t0.725  \t0.661   \t0.5575 \t10    \t0.0452054\t15 \t5.59396\t3.56225\t2.84008\t10    \t0.678035\n",
            "16 \t10    \t16 \t0.725  \t0.665125\t0.5575 \t10    \t0.0395698\t16 \t5.59396\t3.4877 \t2.84008\t10    \t0.562546\n",
            "17 \t10    \t17 \t0.7275 \t0.661125\t0.5575 \t10    \t0.0362821\t17 \t3.56826\t3.32249\t2.84008\t10    \t0.176786\n",
            "18 \t10    \t18 \t0.7275 \t0.668375\t0.61625\t10    \t0.019248 \t18 \t3.56826\t3.31833\t2.52957\t10    \t0.207532\n",
            "19 \t10    \t19 \t0.7275 \t0.667375\t0.61625\t10    \t0.0195891\t19 \t3.56826\t3.30337\t2.52957\t10    \t0.212917\n",
            "20 \t10    \t20 \t0.7275 \t0.673375\t0.61625\t10    \t0.0220479\t20 \t3.56826\t3.33414\t2.52957\t10    \t0.226243\n",
            "Simulation finished after 204.08737993240356 seconds\n"
          ]
        }
      ],
      "source": [
        "start = time.time()\n",
        "\n",
        "pop, pareto, logbook = gsvm(nqubits=nqubits, depth=depth, nparameters=X.shape[1],\n",
        "                                    X=X, y=y, weights=[-1.0,1.0],\n",
        "                                    mu=mu,lambda_=lambda_,ngen=ngen,mutpb=mutpb,cxpb=cxpb,debug=False)\n",
        "\n",
        "print(f'Simulation finished after {time.time()-start} seconds')\n",
        "\n",
        "with open(output, \"w\") as f:\n",
        "    for ide, ind in enumerate(pareto):\n",
        "        genes=''.join(str(i) for i in list(ind))\n",
        "        gates, acc = ind.fitness.values\n",
        "        line = f'{ide},\"{genes}\",{gates},{acc}'\n",
        "        f.write(line)\n",
        "        f.write('\\n')"
      ]
    },
    {
      "cell_type": "code",
      "execution_count": 56,
      "metadata": {},
      "outputs": [
        {
          "data": {
            "text/html": [
              "<div>\n",
              "<style scoped>\n",
              "    .dataframe tbody tr th:only-of-type {\n",
              "        vertical-align: middle;\n",
              "    }\n",
              "\n",
              "    .dataframe tbody tr th {\n",
              "        vertical-align: top;\n",
              "    }\n",
              "\n",
              "    .dataframe thead th {\n",
              "        text-align: right;\n",
              "    }\n",
              "</style>\n",
              "<table border=\"1\" class=\"dataframe\">\n",
              "  <thead>\n",
              "    <tr style=\"text-align: right;\">\n",
              "      <th></th>\n",
              "      <th>Accuracy</th>\n",
              "      <th>Gate</th>\n",
              "      <th>Strings</th>\n",
              "    </tr>\n",
              "  </thead>\n",
              "  <tbody>\n",
              "    <tr>\n",
              "      <th>0</th>\n",
              "      <td>3.568265</td>\n",
              "      <td>0.72750</td>\n",
              "      <td>[1, 1, 1, 0, 0, 0, 1, 0, 0, 1, 1, 0, 1, 0, 0, ...</td>\n",
              "    </tr>\n",
              "    <tr>\n",
              "      <th>1</th>\n",
              "      <td>3.568265</td>\n",
              "      <td>0.72750</td>\n",
              "      <td>[1, 1, 1, 0, 0, 0, 1, 0, 0, 1, 1, 0, 1, 0, 0, ...</td>\n",
              "    </tr>\n",
              "    <tr>\n",
              "      <th>2</th>\n",
              "      <td>3.404348</td>\n",
              "      <td>0.67750</td>\n",
              "      <td>[1, 1, 1, 0, 0, 0, 1, 0, 0, 1, 1, 0, 1, 0, 0, ...</td>\n",
              "    </tr>\n",
              "    <tr>\n",
              "      <th>3</th>\n",
              "      <td>3.404348</td>\n",
              "      <td>0.67750</td>\n",
              "      <td>[1, 1, 1, 0, 0, 0, 1, 0, 0, 1, 1, 0, 1, 0, 0, ...</td>\n",
              "    </tr>\n",
              "    <tr>\n",
              "      <th>4</th>\n",
              "      <td>3.384679</td>\n",
              "      <td>0.67125</td>\n",
              "      <td>[1, 1, 1, 0, 0, 0, 1, 0, 0, 1, 1, 0, 1, 0, 0, ...</td>\n",
              "    </tr>\n",
              "    <tr>\n",
              "      <th>5</th>\n",
              "      <td>3.384679</td>\n",
              "      <td>0.67125</td>\n",
              "      <td>[1, 1, 0, 1, 0, 1, 0, 0, 1, 0, 0, 1, 0, 0, 1, ...</td>\n",
              "    </tr>\n",
              "    <tr>\n",
              "      <th>6</th>\n",
              "      <td>3.345887</td>\n",
              "      <td>0.65875</td>\n",
              "      <td>[1, 1, 0, 1, 0, 1, 0, 0, 1, 0, 0, 1, 0, 0, 1, ...</td>\n",
              "    </tr>\n",
              "    <tr>\n",
              "      <th>7</th>\n",
              "      <td>2.861328</td>\n",
              "      <td>0.65625</td>\n",
              "      <td>[1, 1, 1, 0, 0, 0, 1, 0, 0, 1, 1, 0, 1, 0, 0, ...</td>\n",
              "    </tr>\n",
              "    <tr>\n",
              "      <th>8</th>\n",
              "      <td>2.529567</td>\n",
              "      <td>0.61625</td>\n",
              "      <td>[1, 1, 1, 0, 0, 0, 1, 0, 0, 1, 1, 0, 1, 0, 0, ...</td>\n",
              "    </tr>\n",
              "  </tbody>\n",
              "</table>\n",
              "</div>"
            ],
            "text/plain": [
              "   Accuracy     Gate                                            Strings\n",
              "0  3.568265  0.72750  [1, 1, 1, 0, 0, 0, 1, 0, 0, 1, 1, 0, 1, 0, 0, ...\n",
              "1  3.568265  0.72750  [1, 1, 1, 0, 0, 0, 1, 0, 0, 1, 1, 0, 1, 0, 0, ...\n",
              "2  3.404348  0.67750  [1, 1, 1, 0, 0, 0, 1, 0, 0, 1, 1, 0, 1, 0, 0, ...\n",
              "3  3.404348  0.67750  [1, 1, 1, 0, 0, 0, 1, 0, 0, 1, 1, 0, 1, 0, 0, ...\n",
              "4  3.384679  0.67125  [1, 1, 1, 0, 0, 0, 1, 0, 0, 1, 1, 0, 1, 0, 0, ...\n",
              "5  3.384679  0.67125  [1, 1, 0, 1, 0, 1, 0, 0, 1, 0, 0, 1, 0, 0, 1, ...\n",
              "6  3.345887  0.65875  [1, 1, 0, 1, 0, 1, 0, 0, 1, 0, 0, 1, 0, 0, 1, ...\n",
              "7  2.861328  0.65625  [1, 1, 1, 0, 0, 0, 1, 0, 0, 1, 1, 0, 1, 0, 0, ...\n",
              "8  2.529567  0.61625  [1, 1, 1, 0, 0, 0, 1, 0, 0, 1, 1, 0, 1, 0, 0, ..."
            ]
          },
          "execution_count": 56,
          "metadata": {},
          "output_type": "execute_result"
        }
      ],
      "source": [
        "pareto_dict = pareto.__dict__\n",
        "\n",
        "acc = []\n",
        "gates = []\n",
        "strings = []\n",
        "\n",
        "for i in pareto_dict['keys']:\n",
        "    acc.append(i.values[0])\n",
        "    gates.append(i.values[1])\n",
        "# print(acc,gates)\n",
        "\n",
        "for i in pareto_dict['items']:\n",
        "    strings.append(i.copy())\n",
        "# len(strings)\n",
        "\n",
        "df_result = pd.DataFrame(data={'Accuracy': acc,'Gate': gates,'Strings': strings})\n",
        "\n",
        "df_result"
      ]
    },
    {
      "cell_type": "code",
      "execution_count": 57,
      "metadata": {
        "colab": {
          "base_uri": "https://localhost:8080/",
          "height": 363
        },
        "id": "AuDdp2NQarsk",
        "outputId": "200a387e-0257-4f92-ec42-6554faef16fa",
        "scrolled": true,
        "tags": []
      },
      "outputs": [
        {
          "data": {
            "text/html": [
              "<div>\n",
              "<style scoped>\n",
              "    .dataframe tbody tr th:only-of-type {\n",
              "        vertical-align: middle;\n",
              "    }\n",
              "\n",
              "    .dataframe tbody tr th {\n",
              "        vertical-align: top;\n",
              "    }\n",
              "\n",
              "    .dataframe thead th {\n",
              "        text-align: right;\n",
              "    }\n",
              "</style>\n",
              "<table border=\"1\" class=\"dataframe\">\n",
              "  <thead>\n",
              "    <tr style=\"text-align: right;\">\n",
              "      <th></th>\n",
              "      <th>0</th>\n",
              "      <th>1</th>\n",
              "      <th>2</th>\n",
              "      <th>3</th>\n",
              "    </tr>\n",
              "  </thead>\n",
              "  <tbody>\n",
              "    <tr>\n",
              "      <th>0</th>\n",
              "      <td>0</td>\n",
              "      <td>1110001001101000100010110010001111100000101111...</td>\n",
              "      <td>2.529567</td>\n",
              "      <td>0.61625</td>\n",
              "    </tr>\n",
              "    <tr>\n",
              "      <th>1</th>\n",
              "      <td>1</td>\n",
              "      <td>1110001001101000100010100111111100010011000111...</td>\n",
              "      <td>2.861328</td>\n",
              "      <td>0.65625</td>\n",
              "    </tr>\n",
              "    <tr>\n",
              "      <th>2</th>\n",
              "      <td>2</td>\n",
              "      <td>1110001001101000100010100111111100010011000111...</td>\n",
              "      <td>3.345887</td>\n",
              "      <td>0.65875</td>\n",
              "    </tr>\n",
              "    <tr>\n",
              "      <th>3</th>\n",
              "      <td>3</td>\n",
              "      <td>1110001001101000100010100111111100011101011000...</td>\n",
              "      <td>3.384679</td>\n",
              "      <td>0.67125</td>\n",
              "    </tr>\n",
              "    <tr>\n",
              "      <th>4</th>\n",
              "      <td>4</td>\n",
              "      <td>1110001001101000100010100111111100011101011000...</td>\n",
              "      <td>3.384679</td>\n",
              "      <td>0.67125</td>\n",
              "    </tr>\n",
              "    <tr>\n",
              "      <th>5</th>\n",
              "      <td>5</td>\n",
              "      <td>1101010010010010110010011011111101110011000111...</td>\n",
              "      <td>3.404348</td>\n",
              "      <td>0.67750</td>\n",
              "    </tr>\n",
              "    <tr>\n",
              "      <th>6</th>\n",
              "      <td>6</td>\n",
              "      <td>1101010010010010110010011011111101110011000111...</td>\n",
              "      <td>3.404348</td>\n",
              "      <td>0.67750</td>\n",
              "    </tr>\n",
              "    <tr>\n",
              "      <th>7</th>\n",
              "      <td>7</td>\n",
              "      <td>1110001001101000100010100111111100011101011000...</td>\n",
              "      <td>3.568265</td>\n",
              "      <td>0.72750</td>\n",
              "    </tr>\n",
              "    <tr>\n",
              "      <th>8</th>\n",
              "      <td>8</td>\n",
              "      <td>1110001001101000100010100111111100011101011000...</td>\n",
              "      <td>3.568265</td>\n",
              "      <td>0.72750</td>\n",
              "    </tr>\n",
              "  </tbody>\n",
              "</table>\n",
              "</div>"
            ],
            "text/plain": [
              "   0                                                  1         2        3\n",
              "0  0  1110001001101000100010110010001111100000101111...  2.529567  0.61625\n",
              "1  1  1110001001101000100010100111111100010011000111...  2.861328  0.65625\n",
              "2  2  1110001001101000100010100111111100010011000111...  3.345887  0.65875\n",
              "3  3  1110001001101000100010100111111100011101011000...  3.384679  0.67125\n",
              "4  4  1110001001101000100010100111111100011101011000...  3.384679  0.67125\n",
              "5  5  1101010010010010110010011011111101110011000111...  3.404348  0.67750\n",
              "6  6  1101010010010010110010011011111101110011000111...  3.404348  0.67750\n",
              "7  7  1110001001101000100010100111111100011101011000...  3.568265  0.72750\n",
              "8  8  1110001001101000100010100111111100011101011000...  3.568265  0.72750"
            ]
          },
          "execution_count": 57,
          "metadata": {},
          "output_type": "execute_result"
        }
      ],
      "source": [
        "iot_result = pd.read_csv('bank_testdata.csv',header=None)\n",
        "\n",
        "iot_result"
      ]
    },
    {
      "cell_type": "code",
      "execution_count": 58,
      "metadata": {},
      "outputs": [
        {
          "data": {
            "text/html": [
              "<div>\n",
              "<style scoped>\n",
              "    .dataframe tbody tr th:only-of-type {\n",
              "        vertical-align: middle;\n",
              "    }\n",
              "\n",
              "    .dataframe tbody tr th {\n",
              "        vertical-align: top;\n",
              "    }\n",
              "\n",
              "    .dataframe thead th {\n",
              "        text-align: right;\n",
              "    }\n",
              "</style>\n",
              "<table border=\"1\" class=\"dataframe\">\n",
              "  <thead>\n",
              "    <tr style=\"text-align: right;\">\n",
              "      <th></th>\n",
              "      <th>ind</th>\n",
              "      <th>circ</th>\n",
              "      <th>gates</th>\n",
              "      <th>accuracy</th>\n",
              "    </tr>\n",
              "  </thead>\n",
              "  <tbody>\n",
              "    <tr>\n",
              "      <th>0</th>\n",
              "      <td>7</td>\n",
              "      <td>1110001001101000100010100111111100011101011000...</td>\n",
              "      <td>3.568265</td>\n",
              "      <td>0.72750</td>\n",
              "    </tr>\n",
              "    <tr>\n",
              "      <th>1</th>\n",
              "      <td>8</td>\n",
              "      <td>1110001001101000100010100111111100011101011000...</td>\n",
              "      <td>3.568265</td>\n",
              "      <td>0.72750</td>\n",
              "    </tr>\n",
              "    <tr>\n",
              "      <th>2</th>\n",
              "      <td>5</td>\n",
              "      <td>1101010010010010110010011011111101110011000111...</td>\n",
              "      <td>3.404348</td>\n",
              "      <td>0.67750</td>\n",
              "    </tr>\n",
              "    <tr>\n",
              "      <th>3</th>\n",
              "      <td>6</td>\n",
              "      <td>1101010010010010110010011011111101110011000111...</td>\n",
              "      <td>3.404348</td>\n",
              "      <td>0.67750</td>\n",
              "    </tr>\n",
              "    <tr>\n",
              "      <th>4</th>\n",
              "      <td>3</td>\n",
              "      <td>1110001001101000100010100111111100011101011000...</td>\n",
              "      <td>3.384679</td>\n",
              "      <td>0.67125</td>\n",
              "    </tr>\n",
              "    <tr>\n",
              "      <th>5</th>\n",
              "      <td>4</td>\n",
              "      <td>1110001001101000100010100111111100011101011000...</td>\n",
              "      <td>3.384679</td>\n",
              "      <td>0.67125</td>\n",
              "    </tr>\n",
              "    <tr>\n",
              "      <th>6</th>\n",
              "      <td>2</td>\n",
              "      <td>1110001001101000100010100111111100010011000111...</td>\n",
              "      <td>3.345887</td>\n",
              "      <td>0.65875</td>\n",
              "    </tr>\n",
              "    <tr>\n",
              "      <th>7</th>\n",
              "      <td>1</td>\n",
              "      <td>1110001001101000100010100111111100010011000111...</td>\n",
              "      <td>2.861328</td>\n",
              "      <td>0.65625</td>\n",
              "    </tr>\n",
              "    <tr>\n",
              "      <th>8</th>\n",
              "      <td>0</td>\n",
              "      <td>1110001001101000100010110010001111100000101111...</td>\n",
              "      <td>2.529567</td>\n",
              "      <td>0.61625</td>\n",
              "    </tr>\n",
              "  </tbody>\n",
              "</table>\n",
              "</div>"
            ],
            "text/plain": [
              "   ind                                               circ     gates  accuracy\n",
              "0    7  1110001001101000100010100111111100011101011000...  3.568265   0.72750\n",
              "1    8  1110001001101000100010100111111100011101011000...  3.568265   0.72750\n",
              "2    5  1101010010010010110010011011111101110011000111...  3.404348   0.67750\n",
              "3    6  1101010010010010110010011011111101110011000111...  3.404348   0.67750\n",
              "4    3  1110001001101000100010100111111100011101011000...  3.384679   0.67125\n",
              "5    4  1110001001101000100010100111111100011101011000...  3.384679   0.67125\n",
              "6    2  1110001001101000100010100111111100010011000111...  3.345887   0.65875\n",
              "7    1  1110001001101000100010100111111100010011000111...  2.861328   0.65625\n",
              "8    0  1110001001101000100010110010001111100000101111...  2.529567   0.61625"
            ]
          },
          "execution_count": 58,
          "metadata": {},
          "output_type": "execute_result"
        }
      ],
      "source": [
        "def ordenar_salidas_pareto(dataframe):\n",
        "    dataframe.columns=['ind','circ','gates','accuracy']\n",
        "    dataframe.sort_values(['gates','accuracy'], ascending=[False,False],inplace=True)\n",
        "    dataframe.reset_index(inplace=True)\n",
        "    dataframe.pop('index')\n",
        "    return dataframe\n",
        "\n",
        "iot_salidas = ordenar_salidas_pareto(iot_result)\n",
        "iot_salidas # Queremos ver el primer circuito del dataframe yya ordenado por accuracy (mejor ind)"
      ]
    },
    {
      "cell_type": "code",
      "execution_count": 59,
      "metadata": {},
      "outputs": [
        {
          "name": "stdout",
          "output_type": "stream",
          "text": [
            "['11100', '01001', '10100', '01000', '10100', '11111', '11000', '11101', '01100', '00000', '10100', '01001', '11001', '00001', '10001', '10011', '10110', '10101', '11011', '00011', '10101', '10000', '01001', '10011', '11110', '11010', '11010', '10101', '01011', '11110', '10101', '11011', '01000', '01011', '11001', '01101']\n",
            "14.0\n"
          ]
        },
        {
          "data": {
            "image/png": "[encoded data removed]",
            "text/plain": [
              "<Figure size 621.941x535.111 with 1 Axes>"
            ]
          },
          "execution_count": 59,
          "metadata": {},
          "output_type": "execute_result"
        }
      ],
      "source": [
        "cc = CircuitConversor2(nqubits=nqubits, nparameters=X.shape[1])\n",
        "fm, puertas = cc(coding_bits(iot_salidas.circ[0]))\n",
        "print(puertas)\n",
        "fm.draw(output='mpl')"
      ]
    },
    {
      "cell_type": "code",
      "execution_count": 60,
      "metadata": {
        "id": "vaiq4YQnarsm"
      },
      "outputs": [],
      "source": [
        "from sklearn.metrics import confusion_matrix, ConfusionMatrixDisplay, recall_score, accuracy_score, roc_auc_score, classification_report\n",
        "import matplotlib.pyplot as plt"
      ]
    },
    {
      "cell_type": "code",
      "execution_count": 61,
      "metadata": {
        "id": "x7g9HThQarsm"
      },
      "outputs": [],
      "source": [
        "def featuremap_performance(pop:str,nqubits:int) -> None:\n",
        "    '''Returns the performance of a feature map on all of the dataset'''\n",
        "    df_1 = df.sample(frac=1)\n",
        "\n",
        "    for i in range(8):\n",
        "        if i == 7:\n",
        "            bank_data = df_1.iloc[60000:79844]\n",
        "        bank_data = df_1.iloc[i*10000:i*10000+10000]\n",
        "\n",
        "        y = bank_data['y'].values\n",
        "        # X = bank_data[['age','job','marital','education','default','balance',\n",
        "                    # 'housing','loan','contact','day','month','duration','campaign','pdays','previous','poutcome']].values\n",
        "        X = bank_data[['age','job','marital','education','default','balance','housing','loan','contact',\n",
        "                'day','month','campaign','pdays','previous','poutcome']].values\n",
        "\n",
        "\n",
        "        fitness_obj = Fitness(nqubits,15,X,y,debug=True)\n",
        "\n",
        "        training_features, training_labels, test_features, test_labels = Dataset(X,y)\n",
        "\n",
        "        model = QSVM(lambda parameters: fitness_obj.cc(pop, parameters)[0],training_features,training_labels)#fitness_obj(pop)\n",
        "\n",
        "        y_pred = model.predict(test_features)\n",
        "\n",
        "        cm = confusion_matrix(test_labels, y_pred)\n",
        "\n",
        "        #cm_display = ConfusionMatrixDisplay(cm).plot()\n",
        "        ConfusionMatrixDisplay.from_predictions(test_labels, y_pred)\n",
        "        plt.show()\n",
        "        recall = recall_score(test_labels, y_pred)\n",
        "        acc  = accuracy_score(test_labels, y_pred)\n",
        "\n",
        "        print(f'String = {pop},\\n accuracy = {acc}, recall = {recall} for {i+1}th section of the data')\n",
        "        \n",
        "    return None\n",
        "\n"
      ]
    },
    {
      "cell_type": "code",
      "execution_count": 62,
      "metadata": {},
      "outputs": [
        {
          "name": "stdout",
          "output_type": "stream",
          "text": [
            "              precision    recall  f1-score   support\n",
            "\n",
            "           0       0.68      0.80      0.73      7038\n",
            "           1       0.75      0.61      0.68      6962\n",
            "\n",
            "    accuracy                           0.71     14000\n",
            "   macro avg       0.71      0.71      0.70     14000\n",
            "weighted avg       0.71      0.71      0.70     14000\n",
            "\n",
            "\n",
            "ROC AUC: 0.70613748290868\n"
          ]
        }
      ],
      "source": [
        "pop = iot_salidas.circ[0]\n",
        "\n",
        "df = pd.read_csv('bank_cleaned.csv')  \n",
        "\n",
        "bank_data = df.sample(n=20000,random_state=55)\n",
        "\n",
        "y = bank_data['y'].values\n",
        "\n",
        "# X = bank_data[['age','job','marital','education','default','balance','housing','loan','contact',\n",
        "                # 'day','month','duration','campaign','pdays','previous','poutcome']].values\n",
        "\n",
        "X = bank_data[['age','job','marital','education','default','balance','housing','loan','contact',\n",
        "                'day','month','campaign','pdays','previous','poutcome']].values\n",
        "\n",
        "ss = StandardScaler()\n",
        "X = ss.fit_transform(X)\n",
        "\n",
        "fitness_obj = Fitness(nqubits,X.shape[1],X,y,debug=True)\n",
        "\n",
        "training_features, training_labels, test_features, test_labels = Dataset(X,y,test_size_split=0.7)\n",
        "\n",
        "model = QSVM(lambda parameters: fitness_obj.cc(pop, parameters)[0],training_features,training_labels)#fitness_obj(pop)\n",
        "\n",
        "y_pred = model.predict(test_features)\n",
        "\n",
        "# cm = confusion_matrix(test_labels, y_pred)\n",
        "# ConfusionMatrixDisplay.from_predictions(test_labels, y_pred)\n",
        "# plt.show()\n",
        "# recall = recall_score(test_labels, y_pred)\n",
        "# acc  = accuracy_score(test_labels, y_pred)\n",
        "\n",
        "roc = roc_auc_score(test_labels, y_pred)\n",
        "\n",
        "test_metrics = classification_report(y_true=test_labels, y_pred=y_pred, zero_division=0)\n",
        "\n",
        "print(test_metrics)\n",
        "\n",
        "print(f'\\nROC AUC: {roc}')"
      ]
    },
    {
      "cell_type": "code",
      "execution_count": 45,
      "metadata": {
        "colab": {
          "base_uri": "https://localhost:8080/",
          "height": 1000
        },
        "id": "PEitTdxlarsn",
        "outputId": "4fdcd6ac-2071-4ef1-d83a-ca6ceac99199"
      },
      "outputs": [
        {
          "data": {
            "image/png": "[encoded data removed]",
            "text/plain": [
              "<Figure size 432x288 with 2 Axes>"
            ]
          },
          "metadata": {
            "needs_background": "light"
          },
          "output_type": "display_data"
        },
        {
          "name": "stdout",
          "output_type": "stream",
          "text": [
            "String = 1000001010100100110110100001010001011010001111000011100010111111010010101010010101100110100111101110001011110111011001110101101001101100011011011100101011100000100100101101101110101111001000010110010101000111101010110111111110011011110111000011010000001000001011110000111010010111,\n",
            " accuracy = 0.6935, recall = 0.6107249255213505 for 1th section of the data\n"
          ]
        },
        {
          "data": {
            "image/png": "[encoded data removed]",
            "text/plain": [
              "<Figure size 432x288 with 2 Axes>"
            ]
          },
          "metadata": {
            "needs_background": "light"
          },
          "output_type": "display_data"
        },
        {
          "name": "stdout",
          "output_type": "stream",
          "text": [
            "String = 1000001010100100110110100001010001011010001111000011100010111111010010101010010101100110100111101110001011110111011001110101101001101100011011011100101011100000100100101101101110101111001000010110010101000111101010110111111110011011110111000011010000001000001011110000111010010111,\n",
            " accuracy = 0.7035, recall = 0.6156126482213439 for 2th section of the data\n"
          ]
        },
        {
          "data": {
            "image/png": "[encoded data removed]",
            "text/plain": [
              "<Figure size 432x288 with 2 Axes>"
            ]
          },
          "metadata": {
            "needs_background": "light"
          },
          "output_type": "display_data"
        },
        {
          "name": "stdout",
          "output_type": "stream",
          "text": [
            "String = 1000001010100100110110100001010001011010001111000011100010111111010010101010010101100110100111101110001011110111011001110101101001101100011011011100101011100000100100101101101110101111001000010110010101000111101010110111111110011011110111000011010000001000001011110000111010010111,\n",
            " accuracy = 0.7235, recall = 0.6221105527638191 for 3th section of the data\n"
          ]
        },
        {
          "data": {
            "image/png": "[encoded data removed]",
            "text/plain": [
              "<Figure size 432x288 with 2 Axes>"
            ]
          },
          "metadata": {
            "needs_background": "light"
          },
          "output_type": "display_data"
        },
        {
          "name": "stdout",
          "output_type": "stream",
          "text": [
            "String = 1000001010100100110110100001010001011010001111000011100010111111010010101010010101100110100111101110001011110111011001110101101001101100011011011100101011100000100100101101101110101111001000010110010101000111101010110111111110011011110111000011010000001000001011110000111010010111,\n",
            " accuracy = 0.709, recall = 0.595166163141994 for 4th section of the data\n"
          ]
        },
        {
          "data": {
            "image/png": "[encoded data removed]",
            "text/plain": [
              "<Figure size 432x288 with 2 Axes>"
            ]
          },
          "metadata": {
            "needs_background": "light"
          },
          "output_type": "display_data"
        },
        {
          "name": "stdout",
          "output_type": "stream",
          "text": [
            "String = 1000001010100100110110100001010001011010001111000011100010111111010010101010010101100110100111101110001011110111011001110101101001101100011011011100101011100000100100101101101110101111001000010110010101000111101010110111111110011011110111000011010000001000001011110000111010010111,\n",
            " accuracy = 0.715, recall = 0.6184738955823293 for 5th section of the data\n"
          ]
        },
        {
          "data": {
            "image/png": "[encoded data removed]",
            "text/plain": [
              "<Figure size 432x288 with 2 Axes>"
            ]
          },
          "metadata": {
            "needs_background": "light"
          },
          "output_type": "display_data"
        },
        {
          "name": "stdout",
          "output_type": "stream",
          "text": [
            "String = 1000001010100100110110100001010001011010001111000011100010111111010010101010010101100110100111101110001011110111011001110101101001101100011011011100101011100000100100101101101110101111001000010110010101000111101010110111111110011011110111000011010000001000001011110000111010010111,\n",
            " accuracy = 0.7135, recall = 0.6326326326326326 for 6th section of the data\n"
          ]
        },
        {
          "data": {
            "image/png": "[encoded data removed]",
            "text/plain": [
              "<Figure size 432x288 with 2 Axes>"
            ]
          },
          "metadata": {
            "needs_background": "light"
          },
          "output_type": "display_data"
        },
        {
          "name": "stdout",
          "output_type": "stream",
          "text": [
            "String = 1000001010100100110110100001010001011010001111000011100010111111010010101010010101100110100111101110001011110111011001110101101001101100011011011100101011100000100100101101101110101111001000010110010101000111101010110111111110011011110111000011010000001000001011110000111010010111,\n",
            " accuracy = 0.7185, recall = 0.6283716283716284 for 7th section of the data\n"
          ]
        },
        {
          "data": {
            "image/png": "[encoded data removed]",
            "text/plain": [
              "<Figure size 432x288 with 2 Axes>"
            ]
          },
          "metadata": {
            "needs_background": "light"
          },
          "output_type": "display_data"
        },
        {
          "name": "stdout",
          "output_type": "stream",
          "text": [
            "String = 1000001010100100110110100001010001011010001111000011100010111111010010101010010101100110100111101110001011110111011001110101101001101100011011011100101011100000100100101101101110101111001000010110010101000111101010110111111110011011110111000011010000001000001011110000111010010111,\n",
            " accuracy = 0.7216861350939563, recall = 0.6422018348623854 for 8th section of the data\n"
          ]
        }
      ],
      "source": [
        "featuremap_performance(iot_salidas.circ[0],nqubits)"
      ]
    },
    {
      "cell_type": "code",
      "execution_count": 52,
      "metadata": {
        "colab": {
          "base_uri": "https://localhost:8080/",
          "height": 297
        },
        "id": "1yEEN_udarsn",
        "outputId": "be5c161d-22e0-45c9-e0fc-bb7b8cd6c727"
      },
      "outputs": [
        {
          "data": {
            "image/png": "[encoded data removed]",
            "text/plain": [
              "<Figure size 640x480 with 2 Axes>"
            ]
          },
          "metadata": {},
          "output_type": "display_data"
        },
        {
          "data": {
            "text/plain": [
              "<Figure size 640x480 with 0 Axes>"
            ]
          },
          "metadata": {},
          "output_type": "display_data"
        }
      ],
      "source": [
        "gen = logbook.select(\"gen\")\n",
        "wc = logbook.chapters[\"wc\"].select(\"media\")\n",
        "acc = logbook.chapters[\"acc\"].select(\"media\")\n",
        "\n",
        "import matplotlib.pyplot as plt\n",
        "\n",
        "fig, ax1 = plt.subplots()\n",
        "plt.figure(dpi = 100)\n",
        "line1 = ax1.plot(gen, wc ,\"b-\", label=\"Average Weight Control\")\n",
        "ax1.set_xlabel(\"Generation\")\n",
        "ax1.set_ylabel(\"Weight Control\", color=\"b\")\n",
        "for tl in ax1.get_yticklabels():\n",
        "    tl.set_color(\"b\")\n",
        "\n",
        "ax2 = ax1.twinx()\n",
        "line2 = ax2.plot(gen, acc, \"r-\", label=\"Average Accuracy\")\n",
        "ax2.set_ylabel(\"Accuracy\", color=\"r\")\n",
        "for tl in ax2.get_yticklabels():\n",
        "    tl.set_color(\"r\")\n",
        "\n",
        "lns = line1 + line2\n",
        "labs = [l.get_label() for l in lns]\n",
        "ax1.legend(lns, labs, loc=\"best\")\n",
        "\n",
        "plt.show()"
      ]
    }
  ],
  "metadata": {
    "accelerator": "GPU",
    "colab": {
      "provenance": []
    },
    "gpuClass": "standard",
    "kernelspec": {
      "display_name": "Python 3 (ipykernel)",
      "language": "python",
      "name": "python3"
    },
    "language_info": {
      "codemirror_mode": {
        "name": "ipython",
        "version": 3
      },
      "file_extension": ".py",
      "mimetype": "text/x-python",
      "name": "python",
      "nbconvert_exporter": "python",
      "pygments_lexer": "ipython3",
      "version": "3.9.16"
    },
    "vscode": {
      "interpreter": {
        "hash": "3dc53fd84ad5731d04d4fc36beb52296b89dd90b5123e6bc5399b8c2dcae883a"
      }
    }
  },
  "nbformat": 4,
  "nbformat_minor": 0
}
