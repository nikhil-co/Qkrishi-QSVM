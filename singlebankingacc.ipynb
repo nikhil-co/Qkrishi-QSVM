{
  "cells": [
    {
      "cell_type": "code",
      "execution_count": 1,
      "metadata": {
        "id": "pb3tonW1arsh",
        "scrolled": true,
        "tags": []
      },
      "outputs": [],
      "source": [
        "import numpy as np\n",
        "import pandas as pd\n",
        "import time\n",
        "import matplotlib.pyplot as plt"
      ]
    },
    {
      "cell_type": "code",
      "execution_count": 2,
      "metadata": {
        "id": "0xV6joNSuqG-"
      },
      "outputs": [],
      "source": [
        "class Circuit: \n",
        "    '''\n",
        "\n",
        "    Class for that generates N-dimensional gates acting of arbitatry qubit.\n",
        "    Gates - Pauli Rotation, H, X, RY, RX, RZ and CNOT.\n",
        "    Also generates the zero N-dimensional state.\n",
        "\n",
        "    '''\n",
        "\n",
        "    def __init__(self, nqubits):\n",
        "        self.nqubits = nqubits\n",
        "        self.σx = np.array([[0.0,1.0],[1.0,0.0]]);\n",
        "        self.σz = np.array([[1.0,0.0],[0.0,-1.0]]);\n",
        "        self.σy = np.array([[0.0,-1j],[1.j,0.0]]);\n",
        "        self.σ = np.array([np.eye(2), self.σx, self.σy, self.σz]);\n",
        "        self.d = 2**nqubits\n",
        "        self.H = np.array([[1,1],[1,-1]])/np.sqrt(2.0)\n",
        "\n",
        "    def zero_state(self):\n",
        "        ψ = np.zeros((self.d,))\n",
        "        ψ[0] = 1.0\n",
        "        return ψ\n",
        "\n",
        "    def pauli_rotation(self, state, σ, θ, qubit):\n",
        "        θ = np.asarray(θ).reshape(-1,1,1)/2.0\n",
        "        M = θ.shape[0]\n",
        "        U = np.cos(θ) * np.eye(2) - 1j * np.sin(θ) * σ\n",
        "        Usame = U[:,[0,1],[0,1]].reshape(-1,2)\n",
        "        Uoppo = U[:,[0,1],[1,0]].reshape(-1,2)\n",
        "        di = 2**qubit\n",
        "        dj = 2**(self.nqubits - qubit - 1)\n",
        "        state = state.reshape(-1, dj, 2, di)\n",
        "        state = Usame.reshape(M, 1, 2, 1) * state \\\n",
        "              + Uoppo.reshape(M, 1, 2, 1) * state[:, :, [1,0], :]\n",
        "        if state.shape[0] == 1:\n",
        "            return state.flatten()\n",
        "        else:\n",
        "            return state.reshape(-1, self.d)\n",
        "\n",
        "    def h(self, state, qubit):\n",
        "        di = 2**qubit\n",
        "        s = state.shape\n",
        "        state = state.reshape(-1, 2, di)\n",
        "        return np.einsum('mjl,ji->mil', state, self.H).reshape(s)\n",
        "\n",
        "    def x(self, state, qubit):\n",
        "        di = 2**qubit\n",
        "        s = state.shape\n",
        "        state = state.reshape(-1, 2, di)\n",
        "        return state[:,[1,0],:].reshape(s)\n",
        "\n",
        "    def ry(self, state, θ, qubit):\n",
        "        return self.pauli_rotation(state, self.σy, θ, qubit)\n",
        "\n",
        "    def rx(self, state, θ, qubit):\n",
        "        return self.pauli_rotation(state, self.σx, θ, qubit)\n",
        "\n",
        "    def rz(self, state, θ, qubit):\n",
        "        return self.pauli_rotation(state, self.σz, θ, qubit)\n",
        "\n",
        "    def cx(self, state, qubit, target):\n",
        "        assert self.nqubits >= 2\n",
        "        assert 0 <= qubit <= self.nqubits\n",
        "        assert 0 <= target <= self.nqubits\n",
        "        assert target != qubit\n",
        "        i = min(qubit, target)\n",
        "        j = max(qubit, target)\n",
        "        di = 2**i\n",
        "        dj = 2**(j-i-1)\n",
        "        dk = 2**(self.nqubits - j - 1)\n",
        "        s = state.shape\n",
        "        state = state.reshape(-1, 2, dj, 2, di).copy()\n",
        "        if qubit > target:\n",
        "            state[:,1,:,[1,0],:] = state[:,1,:,[0,1],:]\n",
        "        else:\n",
        "            state[:,[1,0],:,1,:] = state[:,[0,1],:,1,:]\n",
        "        return state.reshape(s)\n"
      ]
    },
    {
      "cell_type": "code",
      "execution_count": 3,
      "metadata": {
        "id": "ZXLCwP-ruu34"
      },
      "outputs": [],
      "source": [
        "from numpy import pi as π\n",
        "def coding_bits(b):\n",
        "    c = [b[n:n+5] for n,i in enumerate(b) if n%5==0]\n",
        "    c_p=[]\n",
        "    coding_0=[]\n",
        "    for i in range(len(c)):\n",
        "        for j in c[i]:\n",
        "            c_p.append(str(j))\n",
        "    np.asarray(c_p)\n",
        "    c = [c_p[n:n+5] for n,i in enumerate(c_p) if n%5==0]\n",
        "    for i in c:\n",
        "        coding_0.append(''.join(i))\n",
        "    return coding_0\n",
        "\n",
        "class CircuitConversor:\n",
        "    \n",
        "    '''\n",
        "    ## Decodes strings of bits into a an array representating the state.\n",
        "    __call__ function takes in a string of bits and returns the state and the cost to apply operations.\n",
        "    '''\n",
        "\n",
        "    def __init__(self, nqubits, nparameters):\n",
        "        self.gates = gates = {}\n",
        "        for n, suffix in enumerate(['00','01','10','11']):\n",
        "            angle = π / (2**n)\n",
        "            gates['000'+suffix] = (self.make_h(), 1.0)\n",
        "            gates['001'+suffix] = (self.make_cx(), 2.0)\n",
        "            gates['010'+suffix] = (self.make_id(), 0.0)\n",
        "            gates['011'+suffix] = (self.make_rx(angle), 1.0)\n",
        "            gates['100'+suffix] = (self.make_rz(angle), 1.0)\n",
        "            gates['101'+suffix] = (self.make_id(), 0.0)\n",
        "            gates['110'+suffix] = (self.make_id(), 0.0)\n",
        "            gates['111'+suffix] = (self.make_ry(angle), 1.0)\n",
        "        self.nqubits = nqubits\n",
        "        self.nparameters = nparameters\n",
        "        self.circuit = Circuit(nqubits)\n",
        "\n",
        "    def __call__(self, coding_0, parameters):\n",
        "        k = 0\n",
        "        cost = 0\n",
        "        state = self.circuit.zero_state()\n",
        "        for ndx, z in enumerate(coding_bits(coding_0)):\n",
        "            qubit = ndx % self.nqubits\n",
        "            target = (ndx + 1) % self.nqubits\n",
        "            fn, weight = self.gates[z]\n",
        "            state, k = fn(state, parameters, k, qubit, target)\n",
        "            cost += weight\n",
        "        if k == 0 and parameters.ndim == 2:\n",
        "            state = np.ones((parameters.shape[1],1)) * state.reshape(1,-1)\n",
        "        return state, cost\n",
        "\n",
        "    def make_id(self):\n",
        "        def operation(state, parameters, k, qubit, target):\n",
        "            return state, k\n",
        "        return operation\n",
        "\n",
        "    def make_h(self):\n",
        "        def operation(state, parameters, k, qubit, target):\n",
        "            return self.circuit.h(state, qubit), k\n",
        "        return operation\n",
        "\n",
        "    def make_cx(self):\n",
        "        def operation(state, parameters, k, qubit, target):\n",
        "            return self.circuit.cx(state, qubit, target), k\n",
        "        return operation\n",
        "\n",
        "    def make_rx(self, angle):\n",
        "        def operation(state, parameters, k, qubit, target):\n",
        "            ndx = k % self.nparameters\n",
        "            return self.circuit.rx(state, parameters[ndx,:]*angle, qubit), k+1\n",
        "        return operation\n",
        "\n",
        "    def make_ry(self, angle):\n",
        "        def operation(state, parameters, k, qubit, target):\n",
        "            ndx = k % self.nparameters\n",
        "            return self.circuit.ry(state, parameters[ndx,:]*angle, qubit), k+1\n",
        "        return operation\n",
        "\n",
        "    def make_rz(self, angle):\n",
        "        def operation(state, parameters, k, qubit, target):\n",
        "            ndx = k % self.nparameters\n",
        "            return self.circuit.rz(state, parameters[ndx,:]*angle, qubit), k+1\n",
        "        return operation\n"
      ]
    },
    {
      "cell_type": "code",
      "execution_count": 4,
      "metadata": {
        "id": "D9AJVX0Ju2U8"
      },
      "outputs": [],
      "source": [
        "from sklearn.svm import SVC\n",
        "\n",
        "class QSVM:\n",
        "    '''\n",
        "    Takes in the feature map we generated and outputs a classifier model and its fit.\n",
        "    '''\n",
        "    def __init__(self, feature_map, train_features, train_label):\n",
        "        def kernel(x1, x2):\n",
        "            ψ1 = feature_map(x1.T)\n",
        "            ψ2 = feature_map(x2.T)\n",
        "            gram = ψ1.real @ ψ2.real.T + ψ1.imag @ ψ2.imag.T\n",
        "            # print(f'psi1 shape = {ψ1.shape}')\n",
        "            # print(f'psi2 shape = {ψ2.shape}')\n",
        "            # print(f'psi1 = {ψ1[1,1]}')\n",
        "            # print(f'psi2 = {ψ2[1,1]}')\n",
        "            # print(f'gram matrix shape of element = {gram.shape}')\n",
        "            # print(gram)\n",
        "            return gram\n",
        "        self.svc = SVC(kernel=kernel,cache_size=5000)\n",
        "        self.svc.fit(train_features, train_label)\n",
        "\n",
        "    def run(self):\n",
        "        pass\n",
        "\n",
        "    def predict(self, dataset_features):\n",
        "        return self.svc.predict(dataset_features)\n"
      ]
    },
    {
      "cell_type": "code",
      "execution_count": 5,
      "metadata": {
        "id": "LTDTYmfLu-89"
      },
      "outputs": [],
      "source": [
        "import os\n",
        "import psutil\n",
        "from sklearn.model_selection import train_test_split\n",
        "from sklearn.preprocessing import StandardScaler, MinMaxScaler\n",
        "from sklearn.metrics import accuracy_score\n",
        "\n",
        "def metricas_modelos(y_true, y_pred): \n",
        "    from sklearn.metrics import accuracy_score\n",
        "    accuracy = accuracy_score(y_true, y_pred)\n",
        "    return(accuracy)\n",
        "\n",
        "def reca(y_true, y_pred):\n",
        "    from sklearn.metrics import recall_score\n",
        "    recall = recall_score(y_true,y_pred,average='binary')\n",
        "    return(recall)\n",
        "\n",
        "def Dataset(X, y, test_size_split=0.2):\n",
        "    class_labels = [r'0', r'1']\n",
        "\n",
        "    n_samples = np.shape(X)[0]\n",
        "    training_size = int(n_samples-(n_samples*test_size_split))\n",
        "    test_size =int(n_samples-training_size)\n",
        "    train_sample, test_sample, train_label, test_label = \\\n",
        "        train_test_split(X, y, stratify=y, test_size=test_size_split, random_state=12)\n",
        "\n",
        "    std_scale = StandardScaler().fit(train_sample)\n",
        "    train_sample = std_scale.transform(train_sample)\n",
        "    test_sample = std_scale.transform(test_sample)\n",
        "\n",
        "    samples = np.append(train_sample, test_sample, axis=0)\n",
        "    minmax_scale = MinMaxScaler((-1, 1)).fit(samples)\n",
        "    train_sample = minmax_scale.transform(train_sample)\n",
        "    test_sample = minmax_scale.transform(test_sample)\n",
        "\n",
        "    return train_sample, train_label, test_sample, test_label\n",
        "\n",
        "class Fitness:\n",
        "    '''\n",
        "    This class calculates the fitness of a single bit string and return its cost and accuracy \n",
        "    '''\n",
        "\n",
        "    def __init__(self, nqubits, nparameters, X, y, debug=False):\n",
        "        self.nqubits = nqubits\n",
        "        self.nparameters = nparameters\n",
        "        self.cc = CircuitConversor(nqubits, nparameters)\n",
        "        self.X = X\n",
        "        self.y = y\n",
        "        self.debug = debug\n",
        "\n",
        "    def __call__(self, POP):\n",
        "        return self.fitness(POP)\n",
        "\n",
        "    def fitness(self, POP):\n",
        "        #Convertimos el individuo en el fenotipo (ansatz)\n",
        "        training_features, training_labels, test_features, test_labels = \\\n",
        "            Dataset(self.X, self.y)\n",
        "        \n",
        "        model = QSVM(lambda parameters: self.cc(POP, parameters)[0],\n",
        "                          training_features, training_labels)\n",
        "        y_pred = model.predict(test_features) # 22% del computo (ver abajo line-profiler)\n",
        "        acc = metricas_modelos(test_labels, y_pred) # sklearn\n",
        "        rec = reca(test_labels,y_pred)\n",
        "        POP=''.join(str(i) for i in POP)\n",
        "        # _, gates = self.cc(POP, training_features[:,[0,1]])\n",
        "        if self.debug:\n",
        "            print(f'String: {POP}\\n -> accuracy = {acc},recall = {rec}')\n",
        "        # gate = gates/self.nqubits\n",
        "        # wc = gate + (gate*(acc**2))\n",
        "        return [acc]\n"
      ]
    },
    {
      "cell_type": "code",
      "execution_count": 6,
      "metadata": {
        "id": "HB9RrEqJvHpd"
      },
      "outputs": [],
      "source": [
        "from deap import base, creator, tools, algorithms\n",
        "import random\n",
        "def gsvm(nqubits, depth, nparameters, X, y,\n",
        "         mu=100, lambda_=150, cxpb=0.7, mutpb=0.3, ngen=2000,\n",
        "         use_pareto=True, verbose=True, weights=[1.0],\n",
        "         debug=True):\n",
        "    bits_puerta = 5\n",
        "    long_cadena = depth * nqubits * bits_puerta\n",
        "    creator.create(\"FitnessMulti\", base.Fitness, weights=weights)\n",
        "    creator.create(\"Individual\", list, fitness = creator.FitnessMulti, statistics=dict)\n",
        "\n",
        "    toolbox = base.Toolbox()\n",
        "    toolbox.register(\"attr_bool\", random.randint, 0, 1)\n",
        "    toolbox.register(\"Individual\", tools.initRepeat, creator.Individual,\n",
        "                     toolbox.attr_bool, long_cadena)\n",
        "    toolbox.register(\"Population\", tools.initRepeat, list, toolbox.Individual)\n",
        "    toolbox.register('mate', tools.cxTwoPoint)\n",
        "    toolbox.register('mutate', tools.mutFlipBit, indpb=0.2)\n",
        "    toolbox.register('select', tools.selNSGA2)\n",
        "    toolbox.register(\"evaluate\", Fitness(nqubits, nparameters, X, y, debug=debug))\n",
        "\n",
        "    pop = toolbox.Population(n=mu)\n",
        "\n",
        "#     stats_wc = tools.Statistics(key=lambda ind: ind.fitness.values[0])\n",
        "#     stats_wc.register('media',np.mean)\n",
        "#     stats_wc.register('std',np.std)\n",
        "#     stats_wc.register('max',np.max)\n",
        "#     stats_wc.register('min',np.min)\n",
        "    stats_acc = tools.Statistics(key=lambda ind: ind.fitness.values)\n",
        "    stats_acc.register('media',np.mean)\n",
        "    stats_acc.register('std',np.std)\n",
        "    stats_acc.register('max',np.max)\n",
        "    stats_acc.register('min',np.min)\n",
        "#     mstats = tools.MultiStatistics(wc=stats_wc, acc=stats_acc)\n",
        "    mstats = tools.MultiStatistics(acc=stats_acc)\n",
        "\n",
        "    logbook = tools.Logbook()\n",
        "    pareto = tools.ParetoFront()\n",
        "    pop, logbook = algorithms.eaMuPlusLambda(pop, toolbox,\n",
        "                                             mu, lambda_, cxpb, mutpb, ngen,\n",
        "                                             stats=mstats,\n",
        "                                             halloffame=pareto, verbose=verbose)\n",
        "    pareto.update(pop)\n",
        "    return pop, pareto, logbook\n"
      ]
    },
    {
      "cell_type": "code",
      "execution_count": 7,
      "metadata": {
        "id": "q4J669fRP1Q1"
      },
      "outputs": [],
      "source": [
        "output=\"bank_testdata_note.csv\"\n",
        "df = pd.read_csv('bank_cleaned.csv')  \n",
        "\n",
        "bank_data = df.sample(n=2000)"
      ]
    },
    {
      "attachments": {},
      "cell_type": "markdown",
      "metadata": {},
      "source": [
        "This Code has only one objective i.e. to increase the accuracy. I wrote this code to check how much can the code maximize accuracy while not caring about the gate cost."
      ]
    },
    {
      "cell_type": "code",
      "execution_count": 18,
      "metadata": {
        "colab": {
          "base_uri": "https://localhost:8080/"
        },
        "id": "CogQReNdarsi",
        "outputId": "7356e663-4856-44df-f297-b5740cbe50ed"
      },
      "outputs": [
        {
          "name": "stderr",
          "output_type": "stream",
          "text": [
            "d:\\Anaconda\\envs\\qc\\lib\\site-packages\\deap\\creator.py:138: RuntimeWarning: A class named 'FitnessMulti' has already been created and it will be overwritten. Consider deleting previous creation of that class or rename it.\n",
            "  warnings.warn(\"A class named '{0}' has already been created and it \"\n",
            "d:\\Anaconda\\envs\\qc\\lib\\site-packages\\deap\\creator.py:138: RuntimeWarning: A class named 'Individual' has already been created and it will be overwritten. Consider deleting previous creation of that class or rename it.\n",
            "  warnings.warn(\"A class named '{0}' has already been created and it \"\n"
          ]
        },
        {
          "name": "stdout",
          "output_type": "stream",
          "text": [
            "   \t      \t                       acc                       \n",
            "   \t      \t-------------------------------------------------\n",
            "gen\tnevals\tgen\tmax  \tmedia \tmin  \tnevals\tstd      \n",
            "0  \t50    \t0  \t0.705\t0.6076\t0.525\t50    \t0.0410243\n",
            "1  \t25    \t1  \t0.705\t0.62715\t0.5925\t25    \t0.0280669\n",
            "2  \t25    \t2  \t0.705\t0.63945\t0.605 \t25    \t0.025146 \n",
            "3  \t25    \t3  \t0.705\t0.6476 \t0.6175\t25    \t0.0218858\n",
            "4  \t25    \t4  \t0.705\t0.6538 \t0.63  \t25    \t0.021379 \n",
            "5  \t25    \t5  \t0.71 \t0.65845\t0.6325\t25    \t0.0220505\n",
            "6  \t25    \t6  \t0.71 \t0.66115\t0.635 \t25    \t0.0205682\n",
            "7  \t25    \t7  \t0.71 \t0.6634 \t0.64  \t25    \t0.0192013\n",
            "8  \t25    \t8  \t0.71 \t0.66975\t0.6475\t25    \t0.0189753\n",
            "9  \t25    \t9  \t0.71 \t0.6727 \t0.65  \t25    \t0.0181992\n",
            "10 \t25    \t10 \t0.71 \t0.67485\t0.6525\t25    \t0.016922 \n",
            "11 \t25    \t11 \t0.71 \t0.67795\t0.655 \t25    \t0.0160911\n",
            "12 \t25    \t12 \t0.71 \t0.68075\t0.66  \t25    \t0.014528 \n",
            "13 \t25    \t13 \t0.7225\t0.68395\t0.6625\t25    \t0.0140008\n",
            "14 \t25    \t14 \t0.7225\t0.68615\t0.6675\t25    \t0.0122292\n",
            "15 \t25    \t15 \t0.7225\t0.68845\t0.67  \t25    \t0.0113676\n",
            "16 \t25    \t16 \t0.7225\t0.6902 \t0.675 \t25    \t0.0102815\n",
            "17 \t25    \t17 \t0.7225\t0.69105\t0.675 \t25    \t0.0107365\n",
            "18 \t25    \t18 \t0.7225\t0.69275\t0.6775\t25    \t0.0103592\n",
            "19 \t25    \t19 \t0.7225\t0.6935 \t0.68  \t25    \t0.00969536\n",
            "20 \t25    \t20 \t0.7225\t0.69405\t0.68  \t25    \t0.00910892\n",
            "21 \t25    \t21 \t0.7225\t0.6947 \t0.685 \t25    \t0.00875557\n",
            "22 \t25    \t22 \t0.7225\t0.6951 \t0.685 \t25    \t0.0085872 \n",
            "23 \t25    \t23 \t0.7225\t0.69585\t0.685 \t25    \t0.00805621\n",
            "24 \t25    \t24 \t0.7225\t0.69695\t0.6875\t25    \t0.00768586\n",
            "25 \t25    \t25 \t0.7225\t0.6976 \t0.69  \t25    \t0.00733076\n",
            "Simulation finished after 218.11284255981445 seconds\n"
          ]
        }
      ],
      "source": [
        "nqubits = 6\n",
        "depth = 7\n",
        "y = bank_data['y'].values\n",
        "# X = bank_data[['age','job','marital','education','default','balance','housing','loan','contact',\n",
        "                # 'day','month','duration','campaign','pdays','previous','poutcome']].values\n",
        "\n",
        "X = bank_data[['age','job','marital','education','default','balance','housing','loan','contact',\n",
        "                'day','month','campaign','pdays','previous','poutcome']].values\n",
        "\n",
        "start = time.time()\n",
        "\n",
        "pop, pareto, logbook = gsvm(nqubits=nqubits, depth=depth, nparameters=15,\n",
        "                                    X=X, y=y, weights=[1.0],\n",
        "                                    mu=50,lambda_=25,ngen=25,mutpb=.3,cxpb=.7,debug=0)\n",
        "\n",
        "print(f'Simulation finished after {time.time()-start} seconds')\n",
        "\n",
        "with open(output, \"w\") as f:\n",
        "    for ide, ind in enumerate(pareto):\n",
        "        genes=''.join(str(i) for i in list(ind))\n",
        "        acc = ind.fitness.values[0]\n",
        "        line = f'{ide},\"{genes}\",{acc}'\n",
        "        f.write(line)\n",
        "        f.write('\\n')"
      ]
    },
    {
      "cell_type": "code",
      "execution_count": 9,
      "metadata": {
        "colab": {
          "base_uri": "https://localhost:8080/",
          "height": 363
        },
        "id": "AuDdp2NQarsk",
        "outputId": "200a387e-0257-4f92-ec42-6554faef16fa",
        "scrolled": true,
        "tags": []
      },
      "outputs": [
        {
          "data": {
            "text/html": [
              "<div>\n",
              "<style scoped>\n",
              "    .dataframe tbody tr th:only-of-type {\n",
              "        vertical-align: middle;\n",
              "    }\n",
              "\n",
              "    .dataframe tbody tr th {\n",
              "        vertical-align: top;\n",
              "    }\n",
              "\n",
              "    .dataframe thead th {\n",
              "        text-align: right;\n",
              "    }\n",
              "</style>\n",
              "<table border=\"1\" class=\"dataframe\">\n",
              "  <thead>\n",
              "    <tr style=\"text-align: right;\">\n",
              "      <th></th>\n",
              "      <th>ind</th>\n",
              "      <th>circ</th>\n",
              "      <th>accuracy</th>\n",
              "    </tr>\n",
              "  </thead>\n",
              "  <tbody>\n",
              "    <tr>\n",
              "      <th>0</th>\n",
              "      <td>0</td>\n",
              "      <td>0010010111100000011101111011111010000110110000...</td>\n",
              "      <td>0.8375</td>\n",
              "    </tr>\n",
              "  </tbody>\n",
              "</table>\n",
              "</div>"
            ],
            "text/plain": [
              "   ind                                               circ  accuracy\n",
              "0    0  0010010111100000011101111011111010000110110000...    0.8375"
            ]
          },
          "execution_count": 9,
          "metadata": {},
          "output_type": "execute_result"
        }
      ],
      "source": [
        "iot_result = pd.read_csv('bank_testdata_note.csv',header=None)\n",
        "\n",
        "def ordenar_salidas_pareto(dataframe):\n",
        "    dataframe.columns=['ind','circ','accuracy']\n",
        "    dataframe.sort_values(['accuracy'], ascending=[False],inplace=True)\n",
        "    dataframe.reset_index(inplace=True)\n",
        "    dataframe.pop('index')\n",
        "    return dataframe\n",
        "\n",
        "iot_salidas = ordenar_salidas_pareto(iot_result)\n",
        "iot_salidas # Queremos ver el primer circuito del dataframe yya ordenado por accuracy (mejor ind)"
      ]
    },
    {
      "cell_type": "code",
      "execution_count": 10,
      "metadata": {},
      "outputs": [
        {
          "name": "stdout",
          "output_type": "stream",
          "text": [
            "['00100', '10111', '10000', '00111', '01111', '01111', '10100', '00110', '11000', '00011', '11011', '10010', '00011', '01111', '10011', '00001', '11101', '11000', '10001', '00011', '01100', '11110', '01110', '01101', '11110', '10011', '11010', '01101', '10010', '10111', '00101', '01000', '11001', '10101', '01110', '10101', '01110', '00010', '10010', '11111', '00111', '10101', '10101', '11010', '00101', '01101', '01010', '01011', '00110', '11101', '01010', '11011', '11101', '11001', '01101', '01001', '00001', '01100', '11110', '01010', '11111', '11111', '01111', '10111', '00010', '00011', '11011', '01010', '11011', '10001', '01000', '00001', '00100', '01000', '10101', '01110', '00110', '01110', '01101', '00110']\n",
            "62.0\n"
          ]
        },
        {
          "data": {
            "image/png": "[encoded data removed]",
            "text/plain": [
              "<Figure size 688.597x626.08 with 1 Axes>"
            ]
          },
          "execution_count": 10,
          "metadata": {},
          "output_type": "execute_result"
        }
      ],
      "source": [
        "from qiskit.circuit import ParameterVector, QuantumCircuit\n",
        "from qiskit import QuantumRegister\n",
        "\n",
        "class CircuitConversor2:\n",
        "\n",
        "    def __init__(self, nqubits, nparameters):\n",
        "        gates = {}\n",
        "        for n, suffix in enumerate(['00','01','10','11']):\n",
        "            angle = np.pi / (2**n)\n",
        "            gates['000'+suffix] = (self.make_H(), 1.0)\n",
        "            gates['001'+suffix] = (self.make_cx(), 2.0)\n",
        "            gates['010'+suffix] = (self.make_id(), 0.0)\n",
        "            gates['011'+suffix] = (self.make_rx(angle), 1.0)\n",
        "            gates['100'+suffix] = (self.make_rz(angle), 1.0)\n",
        "            gates['101'+suffix] = (self.make_id(), 0.0)\n",
        "            gates['110'+suffix] = (self.make_id(), 0.0)\n",
        "            gates['111'+suffix] = (self.make_ry(angle), 1.0)\n",
        "        self.gates = gates\n",
        "        self.nqubits = nqubits\n",
        "        self.register = QuantumRegister(nqubits, 'q')\n",
        "        self.nparameters = nparameters\n",
        "        self.nqubits = nqubits\n",
        "        self.x = ParameterVector('x', nparameters)\n",
        "\n",
        "    def __call__(self, coding_0):\n",
        "        print(coding_0)\n",
        "        circuit = QuantumCircuit(self.register)\n",
        "        k = 0\n",
        "        cost = 0\n",
        "        for ndx, z in enumerate(coding_0):\n",
        "            qubit = ndx % self.nqubits\n",
        "            target = (ndx + 1) % self.nqubits\n",
        "            fn, weight = self.gates[z]\n",
        "            k = fn(circuit, k, qubit, target)\n",
        "            cost += weight\n",
        "        for i in range(k, self.nparameters):\n",
        "            circuit.rz(self.x[i]*0, self.register[0])\n",
        "        return circuit, cost\n",
        "\n",
        "    def make_id(self):\n",
        "        def operation(circuit, k, qubit, target):\n",
        "            return k\n",
        "        return operation\n",
        "\n",
        "    def make_H(self):\n",
        "        def operation(circuit, k, qubit, target):\n",
        "            circuit.h(self.register[qubit])\n",
        "            return k\n",
        "        return operation\n",
        "\n",
        "    def make_cx(self):\n",
        "        def operation(circuit, k, qubit, target):\n",
        "            circuit.cx(self.register[qubit], self.register[target])\n",
        "            return k\n",
        "        return operation\n",
        "\n",
        "    def make_rx(self, angle):\n",
        "        def operation(circuit, k, qubit, target):\n",
        "            circuit.rx(self.x[k%self.nparameters] * angle,\n",
        "                       self.register[qubit])\n",
        "            return k+1\n",
        "        return operation\n",
        "\n",
        "    def make_ry(self, angle):\n",
        "        def operation(circuit, k, qubit, target):\n",
        "            circuit.ry(self.x[k%self.nparameters] * angle,\n",
        "                       self.register[qubit])\n",
        "            return k+1\n",
        "        return operation\n",
        "\n",
        "    def make_rz(self, angle):\n",
        "        def operation(circuit, k, qubit, target):\n",
        "            circuit.rz(self.x[k%self.nparameters] * angle,\n",
        "                       self.register[qubit])\n",
        "            return k+1\n",
        "        return operation\n",
        "\n",
        "cc = CircuitConversor2(nqubits=nqubits, nparameters=16)\n",
        "fm, puertas = cc(coding_bits(iot_salidas.circ[0]))\n",
        "print(puertas)\n",
        "fm.draw(output='mpl')"
      ]
    },
    {
      "cell_type": "code",
      "execution_count": 11,
      "metadata": {
        "id": "vaiq4YQnarsm"
      },
      "outputs": [],
      "source": [
        "from sklearn.metrics import confusion_matrix, ConfusionMatrixDisplay, recall_score, accuracy_score\n",
        "import matplotlib.pyplot as plt"
      ]
    },
    {
      "cell_type": "code",
      "execution_count": 12,
      "metadata": {
        "id": "x7g9HThQarsm"
      },
      "outputs": [],
      "source": [
        "def featuremap_performance(pop:str,nqubits:int) -> None:\n",
        "    '''Returns the performance of a feature map on all of the dataset'''\n",
        "    df_1 = df.sample(frac=1)\n",
        "\n",
        "    for i in range(8):\n",
        "        if i == 7:\n",
        "            bank_data = df_1.iloc[60000:79844]\n",
        "        bank_data = df_1.iloc[i*10000:i*10000+10000]\n",
        "\n",
        "        y = bank_data['y'].values\n",
        "        X = bank_data[['age','job','marital','education','default','balance',\n",
        "                    'housing','loan','contact','day','month','duration','campaign','pdays','previous','poutcome']].values\n",
        "\n",
        "\n",
        "        fitness_obj = Fitness(nqubits,16,X,y,debug=True)\n",
        "\n",
        "        training_features, training_labels, test_features, test_labels = Dataset(X,y)\n",
        "\n",
        "        model = QSVM(lambda parameters: fitness_obj.cc(pop, parameters)[0],training_features,training_labels)#fitness_obj(pop)\n",
        "\n",
        "        y_pred = model.predict(test_features)\n",
        "\n",
        "        cm = confusion_matrix(test_labels, y_pred)\n",
        "\n",
        "        #cm_display = ConfusionMatrixDisplay(cm).plot()\n",
        "        ConfusionMatrixDisplay.from_predictions(test_labels, y_pred)\n",
        "        plt.show()\n",
        "        recall = recall_score(test_labels, y_pred)\n",
        "        acc  = accuracy_score(test_labels, y_pred)\n",
        "\n",
        "        print(f'String = {pop},\\n accuracy = {acc}, recall = {recall} for {i+1}th section of the data')\n",
        "        \n",
        "    return None\n"
      ]
    },
    {
      "cell_type": "code",
      "execution_count": 13,
      "metadata": {
        "colab": {
          "base_uri": "https://localhost:8080/",
          "height": 1000
        },
        "id": "PEitTdxlarsn",
        "outputId": "4fdcd6ac-2071-4ef1-d83a-ca6ceac99199"
      },
      "outputs": [
        {
          "data": {
            "image/png": "[encoded data removed]",
            "text/plain": [
              "<Figure size 432x288 with 2 Axes>"
            ]
          },
          "metadata": {
            "needs_background": "light"
          },
          "output_type": "display_data"
        },
        {
          "name": "stdout",
          "output_type": "stream",
          "text": [
            "String = 0010010111100000011101111011111010000110110000001111011100100001101111100110000111101110001000100011011001111001110011011111010011110100110110010101110010101000110011010101110101010111000010100101111100111101011010111010001010110101010010110011011101010101101111101110010110101001000010110011110010101111111111011111011100010000111101101010110111000101000000010010001000101010111000110011100110100110,\n",
            " accuracy = 0.8545, recall = 0.8288557213930349 for 1th section of the data\n"
          ]
        },
        {
          "data": {
            "image/png": "[encoded data removed]",
            "text/plain": [
              "<Figure size 432x288 with 2 Axes>"
            ]
          },
          "metadata": {
            "needs_background": "light"
          },
          "output_type": "display_data"
        },
        {
          "name": "stdout",
          "output_type": "stream",
          "text": [
            "String = 0010010111100000011101111011111010000110110000001111011100100001101111100110000111101110001000100011011001111001110011011111010011110100110110010101110010101000110011010101110101010111000010100101111100111101011010111010001010110101010010110011011101010101101111101110010110101001000010110011110010101111111111011111011100010000111101101010110111000101000000010010001000101010111000110011100110100110,\n",
            " accuracy = 0.8515, recall = 0.814852492370295 for 2th section of the data\n"
          ]
        },
        {
          "data": {
            "image/png": "[encoded data removed]",
            "text/plain": [
              "<Figure size 432x288 with 2 Axes>"
            ]
          },
          "metadata": {
            "needs_background": "light"
          },
          "output_type": "display_data"
        },
        {
          "name": "stdout",
          "output_type": "stream",
          "text": [
            "String = 0010010111100000011101111011111010000110110000001111011100100001101111100110000111101110001000100011011001111001110011011111010011110100110110010101110010101000110011010101110101010111000010100101111100111101011010111010001010110101010010110011011101010101101111101110010110101001000010110011110010101111111111011111011100010000111101101010110111000101000000010010001000101010111000110011100110100110,\n",
            " accuracy = 0.8355, recall = 0.7992125984251969 for 3th section of the data\n"
          ]
        },
        {
          "data": {
            "image/png": "[encoded data removed]",
            "text/plain": [
              "<Figure size 432x288 with 2 Axes>"
            ]
          },
          "metadata": {
            "needs_background": "light"
          },
          "output_type": "display_data"
        },
        {
          "name": "stdout",
          "output_type": "stream",
          "text": [
            "String = 0010010111100000011101111011111010000110110000001111011100100001101111100110000111101110001000100011011001111001110011011111010011110100110110010101110010101000110011010101110101010111000010100101111100111101011010111010001010110101010010110011011101010101101111101110010110101001000010110011110010101111111111011111011100010000111101101010110111000101000000010010001000101010111000110011100110100110,\n",
            " accuracy = 0.837, recall = 0.8016032064128257 for 4th section of the data\n"
          ]
        },
        {
          "data": {
            "image/png": "[encoded data removed]",
            "text/plain": [
              "<Figure size 432x288 with 2 Axes>"
            ]
          },
          "metadata": {
            "needs_background": "light"
          },
          "output_type": "display_data"
        },
        {
          "name": "stdout",
          "output_type": "stream",
          "text": [
            "String = 0010010111100000011101111011111010000110110000001111011100100001101111100110000111101110001000100011011001111001110011011111010011110100110110010101110010101000110011010101110101010111000010100101111100111101011010111010001010110101010010110011011101010101101111101110010110101001000010110011110010101111111111011111011100010000111101101010110111000101000000010010001000101010111000110011100110100110,\n",
            " accuracy = 0.8345, recall = 0.811491935483871 for 5th section of the data\n"
          ]
        },
        {
          "data": {
            "image/png": "[encoded data removed]",
            "text/plain": [
              "<Figure size 432x288 with 2 Axes>"
            ]
          },
          "metadata": {
            "needs_background": "light"
          },
          "output_type": "display_data"
        },
        {
          "name": "stdout",
          "output_type": "stream",
          "text": [
            "String = 0010010111100000011101111011111010000110110000001111011100100001101111100110000111101110001000100011011001111001110011011111010011110100110110010101110010101000110011010101110101010111000010100101111100111101011010111010001010110101010010110011011101010101101111101110010110101001000010110011110010101111111111011111011100010000111101101010110111000101000000010010001000101010111000110011100110100110,\n",
            " accuracy = 0.8545, recall = 0.8334985133795837 for 6th section of the data\n"
          ]
        },
        {
          "data": {
            "image/png": "[encoded data removed]",
            "text/plain": [
              "<Figure size 432x288 with 2 Axes>"
            ]
          },
          "metadata": {
            "needs_background": "light"
          },
          "output_type": "display_data"
        },
        {
          "name": "stdout",
          "output_type": "stream",
          "text": [
            "String = 0010010111100000011101111011111010000110110000001111011100100001101111100110000111101110001000100011011001111001110011011111010011110100110110010101110010101000110011010101110101010111000010100101111100111101011010111010001010110101010010110011011101010101101111101110010110101001000010110011110010101111111111011111011100010000111101101010110111000101000000010010001000101010111000110011100110100110,\n",
            " accuracy = 0.8405, recall = 0.795 for 7th section of the data\n"
          ]
        },
        {
          "data": {
            "image/png": "[encoded data removed]",
            "text/plain": [
              "<Figure size 432x288 with 2 Axes>"
            ]
          },
          "metadata": {
            "needs_background": "light"
          },
          "output_type": "display_data"
        },
        {
          "name": "stdout",
          "output_type": "stream",
          "text": [
            "String = 0010010111100000011101111011111010000110110000001111011100100001101111100110000111101110001000100011011001111001110011011111010011110100110110010101110010101000110011010101110101010111000010100101111100111101011010111010001010110101010010110011011101010101101111101110010110101001000010110011110010101111111111011111011100010000111101101010110111000101000000010010001000101010111000110011100110100110,\n",
            " accuracy = 0.8588115794819705, recall = 0.8277268093781855 for 8th section of the data\n"
          ]
        }
      ],
      "source": [
        "featuremap_performance(iot_salidas.circ[0],nqubits)"
      ]
    },
    {
      "cell_type": "code",
      "execution_count": 14,
      "metadata": {
        "colab": {
          "base_uri": "https://localhost:8080/",
          "height": 297
        },
        "id": "1yEEN_udarsn",
        "outputId": "be5c161d-22e0-45c9-e0fc-bb7b8cd6c727"
      },
      "outputs": [
        {
          "data": {
            "image/png": "[encoded data removed]",
            "text/plain": [
              "<Figure size 432x288 with 1 Axes>"
            ]
          },
          "metadata": {
            "needs_background": "light"
          },
          "output_type": "display_data"
        },
        {
          "data": {
            "text/plain": [
              "<Figure size 600x400 with 0 Axes>"
            ]
          },
          "metadata": {},
          "output_type": "display_data"
        }
      ],
      "source": [
        "gen = logbook.select(\"gen\")\n",
        "acc = logbook.chapters[\"acc\"].select(\"media\")\n",
        "\n",
        "import matplotlib.pyplot as plt\n",
        "\n",
        "fig, ax2 = plt.subplots()\n",
        "plt.figure(dpi = 100)\n",
        "\n",
        "line2 = ax2.plot(gen, acc, \"r-\", label=\"Average Accuracy\")\n",
        "ax2.set_ylabel(\"Accuracy\", color=\"r\")\n",
        "for tl in ax2.get_yticklabels():\n",
        "    tl.set_color(\"r\")\n",
        "\n",
        "\n",
        "plt.show()"
      ]
    },
    {
      "cell_type": "code",
      "execution_count": 13,
      "metadata": {
        "id": "uQOMDMVIarsn"
      },
      "outputs": [],
      "source": [
        "    "
      ]
    }
  ],
  "metadata": {
    "accelerator": "GPU",
    "colab": {
      "provenance": []
    },
    "gpuClass": "standard",
    "kernelspec": {
      "display_name": "Python 3 (ipykernel)",
      "language": "python",
      "name": "python3"
    },
    "language_info": {
      "codemirror_mode": {
        "name": "ipython",
        "version": 3
      },
      "file_extension": ".py",
      "mimetype": "text/x-python",
      "name": "python",
      "nbconvert_exporter": "python",
      "pygments_lexer": "ipython3",
      "version": "3.9.7"
    },
    "vscode": {
      "interpreter": {
        "hash": "3dc53fd84ad5731d04d4fc36beb52296b89dd90b5123e6bc5399b8c2dcae883a"
      }
    }
  },
  "nbformat": 4,
  "nbformat_minor": 0
}
