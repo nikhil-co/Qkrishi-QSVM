{
  "cells": [
    {
      "cell_type": "code",
      "execution_count": 2,
      "metadata": {
        "id": "pb3tonW1arsh",
        "scrolled": true,
        "tags": []
      },
      "outputs": [],
      "source": [
        "import numpy as np\n",
        "import pandas as pd\n",
        "import time\n",
        "import matplotlib.pyplot as plt"
      ]
    },
    {
      "cell_type": "code",
      "execution_count": 3,
      "metadata": {
        "id": "0xV6joNSuqG-"
      },
      "outputs": [],
      "source": [
        "class Circuit: \n",
        "    '''\n",
        "\n",
        "    Class for that generates N-dimensional gates acting of arbitatry qubit.\n",
        "    Gates - Pauli Rotation, H, X, RY, RX, RZ and CNOT.\n",
        "    Also generates the zero N-dimensional state.\n",
        "\n",
        "    '''\n",
        "\n",
        "    def __init__(self, nqubits):\n",
        "        self.nqubits = nqubits\n",
        "        self.σx = np.array([[0.0,1.0],[1.0,0.0]]);\n",
        "        self.σz = np.array([[1.0,0.0],[0.0,-1.0]]);\n",
        "        self.σy = np.array([[0.0,-1j],[1.j,0.0]]);\n",
        "        self.σ = np.array([np.eye(2), self.σx, self.σy, self.σz]);\n",
        "        self.d = 2**nqubits\n",
        "        self.H = np.array([[1,1],[1,-1]])/np.sqrt(2.0)\n",
        "\n",
        "    def zero_state(self):\n",
        "        ψ = np.zeros((self.d,))\n",
        "        ψ[0] = 1.0\n",
        "        return ψ\n",
        "\n",
        "    def pauli_rotation(self, state, σ, θ, qubit):\n",
        "        θ = np.asarray(θ).reshape(-1,1,1)/2.0\n",
        "        M = θ.shape[0]\n",
        "        U = np.cos(θ) * np.eye(2) - 1j * np.sin(θ) * σ\n",
        "        Usame = U[:,[0,1],[0,1]].reshape(-1,2)\n",
        "        Uoppo = U[:,[0,1],[1,0]].reshape(-1,2)\n",
        "        di = 2**qubit\n",
        "        dj = 2**(self.nqubits - qubit - 1)\n",
        "        state = state.reshape(-1, dj, 2, di)\n",
        "        state = Usame.reshape(M, 1, 2, 1) * state \\\n",
        "              + Uoppo.reshape(M, 1, 2, 1) * state[:, :, [1,0], :]\n",
        "        if state.shape[0] == 1:\n",
        "            return state.flatten()\n",
        "        else:\n",
        "            return state.reshape(-1, self.d)\n",
        "\n",
        "    def h(self, state, qubit):\n",
        "        di = 2**qubit\n",
        "        s = state.shape\n",
        "        state = state.reshape(-1, 2, di)\n",
        "        return np.einsum('mjl,ji->mil', state, self.H).reshape(s)\n",
        "\n",
        "    def x(self, state, qubit):\n",
        "        di = 2**qubit\n",
        "        s = state.shape\n",
        "        state = state.reshape(-1, 2, di)\n",
        "        return state[:,[1,0],:].reshape(s)\n",
        "\n",
        "    def ry(self, state, θ, qubit):\n",
        "        return self.pauli_rotation(state, self.σy, θ, qubit)\n",
        "\n",
        "    def rx(self, state, θ, qubit):\n",
        "        return self.pauli_rotation(state, self.σx, θ, qubit)\n",
        "\n",
        "    def rz(self, state, θ, qubit):\n",
        "        return self.pauli_rotation(state, self.σz, θ, qubit)\n",
        "\n",
        "    def cx(self, state, qubit, target):\n",
        "        assert self.nqubits >= 2\n",
        "        assert 0 <= qubit <= self.nqubits\n",
        "        assert 0 <= target <= self.nqubits\n",
        "        assert target != qubit\n",
        "        i = min(qubit, target)\n",
        "        j = max(qubit, target)\n",
        "        di = 2**i\n",
        "        dj = 2**(j-i-1)\n",
        "        dk = 2**(self.nqubits - j - 1)\n",
        "        s = state.shape\n",
        "        state = state.reshape(-1, 2, dj, 2, di).copy()\n",
        "        if qubit > target:\n",
        "            state[:,1,:,[1,0],:] = state[:,1,:,[0,1],:]\n",
        "        else:\n",
        "            state[:,[1,0],:,1,:] = state[:,[0,1],:,1,:]\n",
        "        return state.reshape(s)\n"
      ]
    },
    {
      "cell_type": "code",
      "execution_count": 4,
      "metadata": {
        "id": "ZXLCwP-ruu34"
      },
      "outputs": [],
      "source": [
        "from numpy import pi as π\n",
        "def coding_bits(b):\n",
        "    c = [b[n:n+5] for n,i in enumerate(b) if n%5==0]\n",
        "    c_p=[]\n",
        "    coding_0=[]\n",
        "    for i in range(len(c)):\n",
        "        for j in c[i]:\n",
        "            c_p.append(str(j))\n",
        "    np.asarray(c_p)\n",
        "    c = [c_p[n:n+5] for n,i in enumerate(c_p) if n%5==0]\n",
        "    for i in c:\n",
        "        coding_0.append(''.join(i))\n",
        "    return coding_0\n",
        "\n",
        "class CircuitConversor:\n",
        "    \n",
        "    '''\n",
        "    ## Decodes strings of bits into a an array representating the state.\n",
        "    __call__ function takes in a string of bits and returns the state and the cost to apply operations.\n",
        "    '''\n",
        "\n",
        "    def __init__(self, nqubits, nparameters):\n",
        "        self.gates = gates = {}\n",
        "        for n, suffix in enumerate(['00','01','10','11']):\n",
        "            angle = π / (2**n)\n",
        "            gates['000'+suffix] = (self.make_h(), 1.0)\n",
        "            gates['001'+suffix] = (self.make_cx(), 2.0)\n",
        "            gates['010'+suffix] = (self.make_id(), 0.0)\n",
        "            gates['011'+suffix] = (self.make_rx(angle), 1.0)\n",
        "            gates['100'+suffix] = (self.make_rz(angle), 1.0)\n",
        "            gates['101'+suffix] = (self.make_id(), 0.0)\n",
        "            gates['110'+suffix] = (self.make_id(), 0.0)\n",
        "            gates['111'+suffix] = (self.make_ry(angle), 1.0)\n",
        "        self.nqubits = nqubits\n",
        "        self.nparameters = nparameters\n",
        "        self.circuit = Circuit(nqubits)\n",
        "\n",
        "    def __call__(self, coding_0, parameters):\n",
        "        k = 0\n",
        "        cost = 0\n",
        "        state = self.circuit.zero_state()\n",
        "        for ndx, z in enumerate(coding_bits(coding_0)):\n",
        "            qubit = ndx % self.nqubits\n",
        "            target = (ndx + 1) % self.nqubits\n",
        "            fn, weight = self.gates[z]\n",
        "            state, k = fn(state, parameters, k, qubit, target)\n",
        "            cost += weight\n",
        "        if k == 0 and parameters.ndim == 2:\n",
        "            state = np.ones((parameters.shape[1],1)) * state.reshape(1,-1)\n",
        "        return state, cost\n",
        "\n",
        "    def make_id(self):\n",
        "        def operation(state, parameters, k, qubit, target):\n",
        "            return state, k\n",
        "        return operation\n",
        "\n",
        "    def make_h(self):\n",
        "        def operation(state, parameters, k, qubit, target):\n",
        "            return self.circuit.h(state, qubit), k\n",
        "        return operation\n",
        "\n",
        "    def make_cx(self):\n",
        "        def operation(state, parameters, k, qubit, target):\n",
        "            return self.circuit.cx(state, qubit, target), k\n",
        "        return operation\n",
        "\n",
        "    def make_rx(self, angle):\n",
        "        def operation(state, parameters, k, qubit, target):\n",
        "            ndx = k % self.nparameters\n",
        "            return self.circuit.rx(state, parameters[ndx,:]*angle, qubit), k+1\n",
        "        return operation\n",
        "\n",
        "    def make_ry(self, angle):\n",
        "        def operation(state, parameters, k, qubit, target):\n",
        "            ndx = k % self.nparameters\n",
        "            return self.circuit.ry(state, parameters[ndx,:]*angle, qubit), k+1\n",
        "        return operation\n",
        "\n",
        "    def make_rz(self, angle):\n",
        "        def operation(state, parameters, k, qubit, target):\n",
        "            ndx = k % self.nparameters\n",
        "            return self.circuit.rz(state, parameters[ndx,:]*angle, qubit), k+1\n",
        "        return operation\n"
      ]
    },
    {
      "cell_type": "code",
      "execution_count": 10,
      "metadata": {
        "id": "D9AJVX0Ju2U8"
      },
      "outputs": [],
      "source": [
        "from sklearn.svm import SVC\n",
        "\n",
        "class QSVM:\n",
        "    '''\n",
        "    Takes in the feature map we generated and outputs a classifier model and its fit.\n",
        "    '''\n",
        "    def __init__(self, feature_map, train_features, train_label):\n",
        "        def kernel(x1, x2):\n",
        "            ψ1 = feature_map(x1.T)\n",
        "            ψ2 = feature_map(x2.T)\n",
        "            gram = ψ1.real @ ψ2.real.T + ψ1.imag @ ψ2.imag.T\n",
        "            # print(f'psi1 shape = {ψ1.shape}')\n",
        "            # print(f'psi2 shape = {ψ2.shape}')\n",
        "            # print(f'psi1 = {ψ1[1,1]}')\n",
        "            # print(f'psi2 = {ψ2[1,1]}')\n",
        "            # print(f'gram matrix shape of element = {gram.shape}')\n",
        "            # print(gram)\n",
        "            return gram\n",
        "        self.svc = SVC(kernel=kernel,cache_size=5000)\n",
        "        self.svc.fit(train_features, train_label)\n",
        "\n",
        "    def run(self):\n",
        "        pass\n",
        "\n",
        "    def predict(self, dataset_features):\n",
        "        return self.svc.predict(dataset_features)\n"
      ]
    },
    {
      "cell_type": "code",
      "execution_count": 28,
      "metadata": {
        "id": "LTDTYmfLu-89"
      },
      "outputs": [],
      "source": [
        "import os\n",
        "import psutil\n",
        "from sklearn.model_selection import train_test_split\n",
        "from sklearn.preprocessing import StandardScaler, MinMaxScaler\n",
        "from sklearn.metrics import accuracy_score\n",
        "\n",
        "def metricas_modelos(y_true, y_pred): \n",
        "    from sklearn.metrics import accuracy_score\n",
        "    accuracy = accuracy_score(y_true, y_pred)\n",
        "    return(accuracy)\n",
        "\n",
        "def reca(y_true, y_pred):\n",
        "    from sklearn.metrics import recall_score\n",
        "    recall = recall_score(y_true,y_pred,average='binary')\n",
        "    return(recall)\n",
        "\n",
        "def Dataset(X, y, test_size_split=0.2):\n",
        "    class_labels = [r'0', r'1']\n",
        "\n",
        "    n_samples = np.shape(X)[0]\n",
        "    training_size = int(n_samples-(n_samples*test_size_split))\n",
        "    test_size =int(n_samples-training_size)\n",
        "    train_sample, test_sample, train_label, test_label = \\\n",
        "        train_test_split(X, y, stratify=y, test_size=test_size_split, random_state=12)\n",
        "\n",
        "    std_scale = StandardScaler().fit(train_sample)\n",
        "    train_sample = std_scale.transform(train_sample)\n",
        "    test_sample = std_scale.transform(test_sample)\n",
        "\n",
        "    samples = np.append(train_sample, test_sample, axis=0)\n",
        "    minmax_scale = MinMaxScaler((-1, 1)).fit(samples)\n",
        "    train_sample = minmax_scale.transform(train_sample)\n",
        "    test_sample = minmax_scale.transform(test_sample)\n",
        "\n",
        "    return train_sample, train_label, test_sample, test_label\n",
        "\n",
        "class Fitness:\n",
        "    '''\n",
        "    This class calculates the fitness of a single bit string and return its cost and accuracy \n",
        "    '''\n",
        "\n",
        "    def __init__(self, nqubits, nparameters, X, y, debug=False):\n",
        "        self.nqubits = nqubits\n",
        "        self.nparameters = nparameters\n",
        "        self.cc = CircuitConversor(nqubits, nparameters)\n",
        "        self.X = X\n",
        "        self.y = y\n",
        "        self.debug = debug\n",
        "\n",
        "    def __call__(self, POP):\n",
        "        return self.fitness(POP)\n",
        "\n",
        "    def fitness(self, POP):\n",
        "        #Convertimos el individuo en el fenotipo (ansatz)\n",
        "        training_features, training_labels, test_features, test_labels = \\\n",
        "            Dataset(self.X, self.y)\n",
        "        \n",
        "        model = QSVM(lambda parameters: self.cc(POP, parameters)[0],\n",
        "                          training_features, training_labels)\n",
        "        y_pred = model.predict(test_features) # 22% del computo (ver abajo line-profiler)\n",
        "        acc = metricas_modelos(test_labels, y_pred) # sklearn\n",
        "        rec = reca(test_labels,y_pred)\n",
        "        POP=''.join(str(i) for i in POP)\n",
        "        # _, gates = self.cc(POP, training_features[:,[0,1]])\n",
        "        if self.debug:\n",
        "            print(f'String: {POP}\\n -> accuracy = {acc},recall = {rec}')\n",
        "        # gate = gates/self.nqubits\n",
        "        # wc = gate + (gate*(acc**2))\n",
        "        return [acc]\n"
      ]
    },
    {
      "cell_type": "code",
      "execution_count": 36,
      "metadata": {
        "id": "HB9RrEqJvHpd"
      },
      "outputs": [],
      "source": [
        "from deap import base, creator, tools, algorithms\n",
        "import random\n",
        "def gsvm(nqubits, depth, nparameters, X, y,\n",
        "         mu=100, lambda_=150, cxpb=0.7, mutpb=0.3, ngen=2000,\n",
        "         use_pareto=True, verbose=True, weights=[1.0],\n",
        "         debug=True):\n",
        "    bits_puerta = 5\n",
        "    long_cadena = depth * nqubits * bits_puerta\n",
        "    creator.create(\"FitnessMulti\", base.Fitness, weights=weights)\n",
        "    creator.create(\"Individual\", list, fitness = creator.FitnessMulti, statistics=dict)\n",
        "\n",
        "    toolbox = base.Toolbox()\n",
        "    toolbox.register(\"attr_bool\", random.randint, 0, 1)\n",
        "    toolbox.register(\"Individual\", tools.initRepeat, creator.Individual,\n",
        "                     toolbox.attr_bool, long_cadena)\n",
        "    toolbox.register(\"Population\", tools.initRepeat, list, toolbox.Individual)\n",
        "    toolbox.register('mate', tools.cxTwoPoint)\n",
        "    toolbox.register('mutate', tools.mutFlipBit, indpb=0.2)\n",
        "    toolbox.register('select', tools.selNSGA2)\n",
        "    toolbox.register(\"evaluate\", Fitness(nqubits, nparameters, X, y, debug=debug))\n",
        "\n",
        "    pop = toolbox.Population(n=mu)\n",
        "\n",
        "#     stats_wc = tools.Statistics(key=lambda ind: ind.fitness.values[0])\n",
        "#     stats_wc.register('media',np.mean)\n",
        "#     stats_wc.register('std',np.std)\n",
        "#     stats_wc.register('max',np.max)\n",
        "#     stats_wc.register('min',np.min)\n",
        "    stats_acc = tools.Statistics(key=lambda ind: ind.fitness.values)\n",
        "    stats_acc.register('media',np.mean)\n",
        "    stats_acc.register('std',np.std)\n",
        "    stats_acc.register('max',np.max)\n",
        "    stats_acc.register('min',np.min)\n",
        "#     mstats = tools.MultiStatistics(wc=stats_wc, acc=stats_acc)\n",
        "    mstats = tools.MultiStatistics(acc=stats_acc)\n",
        "\n",
        "    logbook = tools.Logbook()\n",
        "    pareto = tools.ParetoFront()\n",
        "    pop, logbook = algorithms.eaMuPlusLambda(pop, toolbox,\n",
        "                                             mu, lambda_, cxpb, mutpb, ngen,\n",
        "                                             stats=mstats,\n",
        "                                             halloffame=pareto, verbose=verbose)\n",
        "    pareto.update(pop)\n",
        "    return pop, pareto, logbook\n"
      ]
    },
    {
      "cell_type": "code",
      "execution_count": 30,
      "metadata": {
        "id": "q4J669fRP1Q1"
      },
      "outputs": [],
      "source": [
        "output=\"bank_testdata_note.csv\"\n",
        "df = pd.read_csv('bank_cleaned.csv')  \n",
        "\n",
        "bank_data = df.sample(n=2000)"
      ]
    },
    {
      "attachments": {},
      "cell_type": "markdown",
      "metadata": {},
      "source": [
        "This Code has only one objective i.e. to increase the accuracy. I wrote this code to check how much can the code maximize accuracy while not caring about the gate cost."
      ]
    },
    {
      "cell_type": "code",
      "execution_count": 70,
      "metadata": {
        "colab": {
          "base_uri": "https://localhost:8080/"
        },
        "id": "CogQReNdarsi",
        "outputId": "7356e663-4856-44df-f297-b5740cbe50ed"
      },
      "outputs": [
        {
          "name": "stderr",
          "output_type": "stream",
          "text": [
            "d:\\Anaconda\\envs\\qc\\lib\\site-packages\\deap\\creator.py:138: RuntimeWarning: A class named 'FitnessMulti' has already been created and it will be overwritten. Consider deleting previous creation of that class or rename it.\n",
            "  warnings.warn(\"A class named '{0}' has already been created and it \"\n",
            "d:\\Anaconda\\envs\\qc\\lib\\site-packages\\deap\\creator.py:138: RuntimeWarning: A class named 'Individual' has already been created and it will be overwritten. Consider deleting previous creation of that class or rename it.\n",
            "  warnings.warn(\"A class named '{0}' has already been created and it \"\n"
          ]
        },
        {
          "name": "stdout",
          "output_type": "stream",
          "text": [
            "String: 111010010010000011110110111001011101011011011000111111101110110001010110111101000000011011\n",
            " -> accuracy = 0.65,recall = 0.5612244897959183\n",
            "String: 000100101001001111110011101000001001101010000001001000101110010000011110010111100001010011\n",
            " -> accuracy = 0.615,recall = 0.6530612244897959\n",
            "String: 001000100001000110100011001111101001101011011100100110101101101011111010101010000010101001\n",
            " -> accuracy = 0.545,recall = 0.7959183673469388\n",
            "String: 010111011011000010100100001000011111111011011010111000111100010110000000101001110110110000\n",
            " -> accuracy = 0.615,recall = 0.6224489795918368\n",
            "String: 010111111111111000011000001111100101110000110101100001011001100111110001010111001001111010\n",
            " -> accuracy = 0.61,recall = 0.5408163265306123\n",
            "String: 010100010010110001010011001100001111011010111011111100010001010000001001111000010100001101\n",
            " -> accuracy = 0.53,recall = 0.6326530612244898\n",
            "String: 111000001101111101001011100010100100110111101100010110001000000101011100100100000001111000\n",
            " -> accuracy = 0.645,recall = 0.5918367346938775\n",
            "String: 101101101001000111110100011101111101011000000011010101001000100011000100101011010101001010\n",
            " -> accuracy = 0.715,recall = 0.7040816326530612\n",
            "String: 011110110110110001100111000110111101011010011010001111100100001101111010011101101110100001\n",
            " -> accuracy = 0.68,recall = 0.6938775510204082\n",
            "String: 110000000101101111100001001100010011100101101110111011000011110011000001010111000011010011\n",
            " -> accuracy = 0.605,recall = 0.5408163265306123\n",
            "   \t      \t                       acc                       \n",
            "   \t      \t-------------------------------------------------\n",
            "gen\tnevals\tgen\tmax  \tmedia\tmin \tnevals\tstd      \n",
            "0  \t10    \t0  \t0.715\t0.621\t0.53\t10    \t0.0531413\n",
            "String: 111000001101111111110011101000001001100111101100010110001000000101011100100100000001111000\n",
            " -> accuracy = 0.655,recall = 0.5612244897959183\n",
            "String: 110100010010110001111011001100001101011010111111111101010001000000001001111000010100000101\n",
            " -> accuracy = 0.53,recall = 0.41836734693877553\n",
            "String: 000100101001001111110011101000001001101011011010111000111100010100011110010111100001010011\n",
            " -> accuracy = 0.57,recall = 0.7346938775510204\n",
            "String: 011110110110110001100111001100111101011010011010001111100100001101111010011101101110100001\n",
            " -> accuracy = 0.65,recall = 0.7244897959183674\n",
            "String: 101001100011000111101011001111101001111011001010100110110101101011111110111010000000001001\n",
            " -> accuracy = 0.535,recall = 0.7857142857142857\n",
            "1  \t5     \t1  \t0.715\t0.644\t0.605\t5     \t0.033    \n",
            "String: 011101000111011001100111011110101101011000011010001111100100011100111110011101101110101101\n",
            " -> accuracy = 0.59,recall = 0.6530612244897959\n",
            "String: 111010010010000011110110111001011101011011101100010110001000000101011110111101000000011011\n",
            " -> accuracy = 0.645,recall = 0.46938775510204084\n",
            "String: 010111011011000011110011101000001001111011011010111000111100010110000000101001110110110000\n",
            " -> accuracy = 0.615,recall = 0.6224489795918368\n",
            "String: 010111111111110001100111000110111101011010011010000001011001100111110001010111001001111010\n",
            " -> accuracy = 0.635,recall = 0.7448979591836735\n",
            "String: 000000011001001011110011011000001000100010000001101100101110010111011111110110100001011001\n",
            " -> accuracy = 0.635,recall = 0.7040816326530612\n",
            "2  \t5     \t2  \t0.715\t0.6525\t0.615\t5     \t0.0261008\n",
            "String: 011101101001000111110100011101111101011010011010000001011001100111110001010111001001111010\n",
            " -> accuracy = 0.63,recall = 0.7346938775510204\n",
            "String: 000110101000111111100010101100100011101010000001001000000010000000010110010111110011011000\n",
            " -> accuracy = 0.695,recall = 0.6020408163265306\n",
            "String: 000000011001001011110011100010100100110111101100010110001000000111011111110110100001011001\n",
            " -> accuracy = 0.6,recall = 0.46938775510204084\n",
            "String: 000100101001001111110011101000111101011010011010001100101110010000011110010111100001010011\n",
            " -> accuracy = 0.625,recall = 0.7040816326530612\n",
            "String: 011110010010000011110110111001011101011010011010001111100100001101111010011101101110100001\n",
            " -> accuracy = 0.66,recall = 0.6938775510204082\n",
            "3  \t5     \t3  \t0.715\t0.663 \t0.635\t5     \t0.0242074\n",
            "String: 011111111111110011110110111001011101011010011010001111100100001101111010011101101110100001\n",
            " -> accuracy = 0.575,recall = 0.6632653061224489\n",
            "String: 111010010010000111110100011001011101011011011000111111101110110001010110111101000000011011\n",
            " -> accuracy = 0.64,recall = 0.7040816326530612\n",
            "String: 011111100010100111010110111100011010010010011010001101111110001001111010011111101010110011\n",
            " -> accuracy = 0.625,recall = 0.6530612244897959\n",
            "String: 101100000011001101101100111101111110011001101011010010001000100010010100001110010101001011\n",
            " -> accuracy = 0.555,recall = 0.8469387755102041\n",
            "String: 111010010010000011110110111001011101011010011000010110001000000101011110111101000000011011\n",
            " -> accuracy = 0.71,recall = 0.7346938775510204\n",
            "4  \t5     \t4  \t0.715\t0.6705\t0.645\t5     \t0.0259278\n",
            "String: 111010010010000011110110111001011101011010011010001111100100001101110110111101000000011011\n",
            " -> accuracy = 0.68,recall = 0.6938775510204082\n",
            "String: 111010010010000011110110111001011101011011101100010110001000000101010110111101000000011011\n",
            " -> accuracy = 0.645,recall = 0.46938775510204084\n",
            "String: 011110110110110001110110111001011101011010011010001111100100001101111010011101101110100001\n",
            " -> accuracy = 0.665,recall = 0.673469387755102\n",
            "String: 111010010010111111100010101100100011101010000001001000000010000000010110010111110000011011\n",
            " -> accuracy = 0.55,recall = 0.6122448979591837\n",
            "String: 101101101001000111110100011101011101011000000011010101001000100011000100101011010101001010\n",
            " -> accuracy = 0.68,recall = 0.6836734693877551\n",
            "5  \t5     \t5  \t0.715\t0.679 \t0.65 \t5     \t0.0211896\n",
            "String: 101100101000000111010110010101111111011000110011010000001010110011001000100011011101001000\n",
            " -> accuracy = 0.655,recall = 0.6836734693877551\n",
            "String: 011110110110110001110110111001011101011010011010010110001000000101011110111101101110100001\n",
            " -> accuracy = 0.595,recall = 0.4489795918367347\n",
            "String: 101101101010110001100111000110111101011010011010001111100100001101111010011011010101001010\n",
            " -> accuracy = 0.68,recall = 0.7755102040816326\n",
            "String: 111010010010000011110110111001011101011010011010001101001000100011000100101011010101001010\n",
            " -> accuracy = 0.59,recall = 0.7448979591836735\n",
            "String: 111010010010000011110110111001011101011011011010001111101110110001010110111101000000011011\n",
            " -> accuracy = 0.65,recall = 0.5612244897959183\n",
            "6  \t5     \t6  \t0.715\t0.682 \t0.655\t5     \t0.018868 \n",
            "String: 001110011100110100100011110110110001011010110010010111000000001000101110010101111110100001\n",
            " -> accuracy = 0.53,recall = 0.7959183673469388\n",
            "String: 001100110011011000101111010100111111010010000010010011110000001100111111011111101111011001\n",
            " -> accuracy = 0.63,recall = 0.5714285714285714\n",
            "String: 111000001101111111110011101000001001100111101100010110001000000101000100101011010101001010\n",
            " -> accuracy = 0.64,recall = 0.6020408163265306\n",
            "String: 101101101011110001100111110110001101011000011110001110100100001100111010010011010001001010\n",
            " -> accuracy = 0.565,recall = 0.6224489795918368\n",
            "String: 111110010110000001110110101001011101111011001010111101100101001101001010101100000000011011\n",
            " -> accuracy = 0.645,recall = 0.6836734693877551\n",
            "7  \t5     \t7  \t0.715\t0.682 \t0.655\t5     \t0.018868 \n",
            "String: 111000001101111111110011101000001001101010000001001000000010000000010110010111110001111000\n",
            " -> accuracy = 0.6,recall = 0.5102040816326531\n",
            "String: 000110101000111111100010101001011101011010011010001000000010000000010110010111110011011000\n",
            " -> accuracy = 0.545,recall = 0.8775510204081632\n",
            "String: 101101101001000111110100011101111101011000000011010101001000100011000100101011010101001010\n",
            " -> accuracy = 0.715,recall = 0.7040816326530612\n",
            "String: 111010010010000011110110111001011001100111101100010110001000001101110110111101000000011011\n",
            " -> accuracy = 0.635,recall = 0.47959183673469385\n",
            "String: 111010010010000011110110111001011101011010011010001111100100001101110110111101000000011011\n",
            " -> accuracy = 0.68,recall = 0.6938775510204082\n",
            "8  \t5     \t8  \t0.715\t0.69  \t0.665\t5     \t0.0167332\n",
            "String: 010111100100111001100111000110101100011010101011111110100100001001011000011000101110100010\n",
            " -> accuracy = 0.535,recall = 0.8061224489795918\n",
            "String: 101101101001000111110100011101111101011010011010001111100100001101111010011101100101001010\n",
            " -> accuracy = 0.635,recall = 0.6836734693877551\n",
            "String: 000101110000000111010001010111111011011000000000000001001000101011011100100011010101001110\n",
            " -> accuracy = 0.54,recall = 0.6428571428571429\n",
            "String: 111010010010000011110110111001100011011010011010001111100100001101110110111101000000011011\n",
            " -> accuracy = 0.68,recall = 0.7040816326530612\n",
            "String: 101101101000111111100010101100100011101010000001001000000010000000010100101011010101001010\n",
            " -> accuracy = 0.65,recall = 0.6530612244897959\n",
            "9  \t5     \t9  \t0.715\t0.6915\t0.68 \t5     \t0.0150083\n",
            "String: 101101110010000011110110111001100011011010011010001111100100001101110100101011010101001010\n",
            " -> accuracy = 0.655,recall = 0.6632653061224489\n",
            "String: 100100111010100001100011101111101101010010010010101011100100011100111111111011010101001010\n",
            " -> accuracy = 0.63,recall = 0.6530612244897959\n",
            "String: 101010010000010010110010110001111100011010011001001111110000001011110110111101001000011101\n",
            " -> accuracy = 0.665,recall = 0.7142857142857143\n",
            "String: 111010010010000011110110111001011101011010011010001111100100001101110110111101000000011011\n",
            " -> accuracy = 0.68,recall = 0.6938775510204082\n",
            "String: 101101101001000111110100011101111101011010011011010101001000100011000100101011010101001010\n",
            " -> accuracy = 0.7,recall = 0.7755102040816326\n",
            "10 \t5     \t10 \t0.715\t0.6935\t0.68 \t5     \t0.0146714\n",
            "Simulation finished after 37.90178823471069 seconds\n"
          ]
        }
      ],
      "source": [
        "nqubits = 9\n",
        "depth = 2\n",
        "y = bank_data['y'].values\n",
        "X = bank_data[['age','job','marital','education','default','balance','housing','loan','contact',\n",
        "                'day','month','duration','campaign','pdays','previous','poutcome']].values\n",
        "start = time.time()\n",
        "\n",
        "pop, pareto, logbook = gsvm(nqubits=nqubits, depth=depth, nparameters=16,\n",
        "                                    X=X, y=y, weights=[1.0],\n",
        "                                    mu=30,lambda_=9,ngen=50,mutpb=.3,cxpb=.7,debug=True)\n",
        "\n",
        "print(f'Simulation finished after {time.time()-start} seconds')\n",
        "\n",
        "with open(output, \"w\") as f:\n",
        "    for ide, ind in enumerate(pareto):\n",
        "        genes=''.join(str(i) for i in list(ind))\n",
        "        acc = ind.fitness.values[0]\n",
        "        line = f'{ide},\"{genes}\",{acc}'\n",
        "        f.write(line)\n",
        "        f.write('\\n')"
      ]
    },
    {
      "cell_type": "code",
      "execution_count": 71,
      "metadata": {
        "colab": {
          "base_uri": "https://localhost:8080/",
          "height": 363
        },
        "id": "AuDdp2NQarsk",
        "outputId": "200a387e-0257-4f92-ec42-6554faef16fa",
        "scrolled": true,
        "tags": []
      },
      "outputs": [
        {
          "data": {
            "text/html": [
              "<div>\n",
              "<style scoped>\n",
              "    .dataframe tbody tr th:only-of-type {\n",
              "        vertical-align: middle;\n",
              "    }\n",
              "\n",
              "    .dataframe tbody tr th {\n",
              "        vertical-align: top;\n",
              "    }\n",
              "\n",
              "    .dataframe thead th {\n",
              "        text-align: right;\n",
              "    }\n",
              "</style>\n",
              "<table border=\"1\" class=\"dataframe\">\n",
              "  <thead>\n",
              "    <tr style=\"text-align: right;\">\n",
              "      <th></th>\n",
              "      <th>ind</th>\n",
              "      <th>circ</th>\n",
              "      <th>accuracy</th>\n",
              "    </tr>\n",
              "  </thead>\n",
              "  <tbody>\n",
              "    <tr>\n",
              "      <th>0</th>\n",
              "      <td>0</td>\n",
              "      <td>1011011010010001111101000111011111010110000000...</td>\n",
              "      <td>0.715</td>\n",
              "    </tr>\n",
              "  </tbody>\n",
              "</table>\n",
              "</div>"
            ],
            "text/plain": [
              "   ind                                               circ  accuracy\n",
              "0    0  1011011010010001111101000111011111010110000000...     0.715"
            ]
          },
          "execution_count": 71,
          "metadata": {},
          "output_type": "execute_result"
        }
      ],
      "source": [
        "iot_result = pd.read_csv('bank_testdata_note.csv',header=None)\n",
        "\n",
        "def ordenar_salidas_pareto(dataframe):\n",
        "    dataframe.columns=['ind','circ','accuracy']\n",
        "    dataframe.sort_values(['accuracy'], ascending=[False],inplace=True)\n",
        "    dataframe.reset_index(inplace=True)\n",
        "    dataframe.pop('index')\n",
        "    return dataframe\n",
        "\n",
        "iot_salidas = ordenar_salidas_pareto(iot_result)\n",
        "iot_salidas # Queremos ver el primer circuito del dataframe yya ordenado por accuracy (mejor ind)"
      ]
    },
    {
      "cell_type": "code",
      "execution_count": 72,
      "metadata": {},
      "outputs": [
        {
          "name": "stdout",
          "output_type": "stream",
          "text": [
            "['10110', '11010', '01000', '11111', '01000', '11101', '11110', '10110', '00000', '01101', '01010', '01000', '10001', '10001', '00101', '01101', '01010', '01010']\n",
            "10.0\n"
          ]
        },
        {
          "data": {
            "image/png": "[encoded data removed]",
            "text/plain": [
              "<Figure size 688.597x565.88 with 1 Axes>"
            ]
          },
          "execution_count": 72,
          "metadata": {},
          "output_type": "execute_result"
        }
      ],
      "source": [
        "from qiskit.circuit import ParameterVector, QuantumCircuit\n",
        "from qiskit import QuantumRegister\n",
        "\n",
        "class CircuitConversor2:\n",
        "\n",
        "    def __init__(self, nqubits, nparameters):\n",
        "        gates = {}\n",
        "        for n, suffix in enumerate(['00','01','10','11']):\n",
        "            angle = np.pi / (2**n)\n",
        "            gates['000'+suffix] = (self.make_H(), 1.0)\n",
        "            gates['001'+suffix] = (self.make_cx(), 2.0)\n",
        "            gates['010'+suffix] = (self.make_id(), 0.0)\n",
        "            gates['011'+suffix] = (self.make_rx(angle), 1.0)\n",
        "            gates['100'+suffix] = (self.make_rz(angle), 1.0)\n",
        "            gates['101'+suffix] = (self.make_id(), 0.0)\n",
        "            gates['110'+suffix] = (self.make_id(), 0.0)\n",
        "            gates['111'+suffix] = (self.make_ry(angle), 1.0)\n",
        "        self.gates = gates\n",
        "        self.nqubits = nqubits\n",
        "        self.register = QuantumRegister(nqubits, 'q')\n",
        "        self.nparameters = nparameters\n",
        "        self.nqubits = nqubits\n",
        "        self.x = ParameterVector('x', nparameters)\n",
        "\n",
        "    def __call__(self, coding_0):\n",
        "        print(coding_0)\n",
        "        circuit = QuantumCircuit(self.register)\n",
        "        k = 0\n",
        "        cost = 0\n",
        "        for ndx, z in enumerate(coding_0):\n",
        "            qubit = ndx % self.nqubits\n",
        "            target = (ndx + 1) % self.nqubits\n",
        "            fn, weight = self.gates[z]\n",
        "            k = fn(circuit, k, qubit, target)\n",
        "            cost += weight\n",
        "        for i in range(k, self.nparameters):\n",
        "            circuit.rz(self.x[i]*0, self.register[0])\n",
        "        return circuit, cost\n",
        "\n",
        "    def make_id(self):\n",
        "        def operation(circuit, k, qubit, target):\n",
        "            return k\n",
        "        return operation\n",
        "\n",
        "    def make_H(self):\n",
        "        def operation(circuit, k, qubit, target):\n",
        "            circuit.h(self.register[qubit])\n",
        "            return k\n",
        "        return operation\n",
        "\n",
        "    def make_cx(self):\n",
        "        def operation(circuit, k, qubit, target):\n",
        "            circuit.cx(self.register[qubit], self.register[target])\n",
        "            return k\n",
        "        return operation\n",
        "\n",
        "    def make_rx(self, angle):\n",
        "        def operation(circuit, k, qubit, target):\n",
        "            circuit.rx(self.x[k%self.nparameters] * angle,\n",
        "                       self.register[qubit])\n",
        "            return k+1\n",
        "        return operation\n",
        "\n",
        "    def make_ry(self, angle):\n",
        "        def operation(circuit, k, qubit, target):\n",
        "            circuit.ry(self.x[k%self.nparameters] * angle,\n",
        "                       self.register[qubit])\n",
        "            return k+1\n",
        "        return operation\n",
        "\n",
        "    def make_rz(self, angle):\n",
        "        def operation(circuit, k, qubit, target):\n",
        "            circuit.rz(self.x[k%self.nparameters] * angle,\n",
        "                       self.register[qubit])\n",
        "            return k+1\n",
        "        return operation\n",
        "\n",
        "cc = CircuitConversor2(nqubits=nqubits, nparameters=16)\n",
        "fm, puertas = cc(coding_bits(iot_salidas.circ[0]))\n",
        "print(puertas)\n",
        "fm.draw(output='mpl')"
      ]
    },
    {
      "cell_type": "code",
      "execution_count": 58,
      "metadata": {
        "id": "vaiq4YQnarsm"
      },
      "outputs": [],
      "source": [
        "from sklearn.metrics import confusion_matrix, ConfusionMatrixDisplay, recall_score, accuracy_score\n",
        "import matplotlib.pyplot as plt"
      ]
    },
    {
      "cell_type": "code",
      "execution_count": 59,
      "metadata": {
        "id": "x7g9HThQarsm"
      },
      "outputs": [],
      "source": [
        "def featuremap_performance(pop:str,nqubits:int) -> None:\n",
        "    '''Returns the performance of a feature map on all of the dataset'''\n",
        "    df_1 = df.sample(frac=1)\n",
        "\n",
        "    for i in range(8):\n",
        "        if i == 7:\n",
        "            bank_data = df_1.iloc[60000:79844]\n",
        "        bank_data = df_1.iloc[i*10000:i*10000+10000]\n",
        "\n",
        "        y = bank_data['y'].values\n",
        "        X = bank_data[['age','job','marital','education','default','balance',\n",
        "                    'housing','loan','contact','day','month','duration','campaign','pdays','previous','poutcome']].values\n",
        "\n",
        "\n",
        "        fitness_obj = Fitness(nqubits,16,X,y,debug=True)\n",
        "\n",
        "        training_features, training_labels, test_features, test_labels = Dataset(X,y)\n",
        "\n",
        "        model = QSVM(lambda parameters: fitness_obj.cc(pop, parameters)[0],training_features,training_labels)#fitness_obj(pop)\n",
        "\n",
        "        y_pred = model.predict(test_features)\n",
        "\n",
        "        cm = confusion_matrix(test_labels, y_pred)\n",
        "\n",
        "        #cm_display = ConfusionMatrixDisplay(cm).plot()\n",
        "        ConfusionMatrixDisplay.from_predictions(test_labels, y_pred)\n",
        "        plt.show()\n",
        "        recall = recall_score(test_labels, y_pred)\n",
        "        acc  = accuracy_score(test_labels, y_pred)\n",
        "\n",
        "        print(f'String = {pop},\\n accuracy = {acc}, recall = {recall} for {i+1}th section of the data')\n",
        "        \n",
        "    return None\n"
      ]
    },
    {
      "cell_type": "code",
      "execution_count": 73,
      "metadata": {
        "colab": {
          "base_uri": "https://localhost:8080/",
          "height": 1000
        },
        "id": "PEitTdxlarsn",
        "outputId": "4fdcd6ac-2071-4ef1-d83a-ca6ceac99199"
      },
      "outputs": [
        {
          "data": {
            "image/png": "[encoded data removed]",
            "text/plain": [
              "<Figure size 432x288 with 2 Axes>"
            ]
          },
          "metadata": {
            "needs_background": "light"
          },
          "output_type": "display_data"
        },
        {
          "name": "stdout",
          "output_type": "stream",
          "text": [
            "String = 101101101001000111110100011101111101011000000011010101001000100011000100101011010101001010,\n",
            " accuracy = 0.6855, recall = 0.649 for 1th section of the data\n"
          ]
        },
        {
          "data": {
            "image/png": "[encoded data removed]",
            "text/plain": [
              "<Figure size 432x288 with 2 Axes>"
            ]
          },
          "metadata": {
            "needs_background": "light"
          },
          "output_type": "display_data"
        },
        {
          "name": "stdout",
          "output_type": "stream",
          "text": [
            "String = 101101101001000111110100011101111101011000000011010101001000100011000100101011010101001010,\n",
            " accuracy = 0.691, recall = 0.6395939086294417 for 2th section of the data\n"
          ]
        },
        {
          "ename": "KeyboardInterrupt",
          "evalue": "",
          "output_type": "error",
          "traceback": [
            "\u001b[1;31m---------------------------------------------------------------------------\u001b[0m",
            "\u001b[1;31mKeyboardInterrupt\u001b[0m                         Traceback (most recent call last)",
            "\u001b[1;32m~\\AppData\\Local\\Temp\\ipykernel_15536\\1651819294.py\u001b[0m in \u001b[0;36m<module>\u001b[1;34m\u001b[0m\n\u001b[1;32m----> 1\u001b[1;33m \u001b[0mfeaturemap_performance\u001b[0m\u001b[1;33m(\u001b[0m\u001b[0miot_salidas\u001b[0m\u001b[1;33m.\u001b[0m\u001b[0mcirc\u001b[0m\u001b[1;33m[\u001b[0m\u001b[1;36m0\u001b[0m\u001b[1;33m]\u001b[0m\u001b[1;33m,\u001b[0m\u001b[0mnqubits\u001b[0m\u001b[1;33m)\u001b[0m\u001b[1;33m\u001b[0m\u001b[1;33m\u001b[0m\u001b[0m\n\u001b[0m",
            "\u001b[1;32m~\\AppData\\Local\\Temp\\ipykernel_15536\\1893619314.py\u001b[0m in \u001b[0;36mfeaturemap_performance\u001b[1;34m(pop, nqubits)\u001b[0m\n\u001b[0;32m     18\u001b[0m         \u001b[0mtraining_features\u001b[0m\u001b[1;33m,\u001b[0m \u001b[0mtraining_labels\u001b[0m\u001b[1;33m,\u001b[0m \u001b[0mtest_features\u001b[0m\u001b[1;33m,\u001b[0m \u001b[0mtest_labels\u001b[0m \u001b[1;33m=\u001b[0m \u001b[0mDataset\u001b[0m\u001b[1;33m(\u001b[0m\u001b[0mX\u001b[0m\u001b[1;33m,\u001b[0m\u001b[0my\u001b[0m\u001b[1;33m)\u001b[0m\u001b[1;33m\u001b[0m\u001b[1;33m\u001b[0m\u001b[0m\n\u001b[0;32m     19\u001b[0m \u001b[1;33m\u001b[0m\u001b[0m\n\u001b[1;32m---> 20\u001b[1;33m         \u001b[0mmodel\u001b[0m \u001b[1;33m=\u001b[0m \u001b[0mQSVM\u001b[0m\u001b[1;33m(\u001b[0m\u001b[1;32mlambda\u001b[0m \u001b[0mparameters\u001b[0m\u001b[1;33m:\u001b[0m \u001b[0mfitness_obj\u001b[0m\u001b[1;33m.\u001b[0m\u001b[0mcc\u001b[0m\u001b[1;33m(\u001b[0m\u001b[0mpop\u001b[0m\u001b[1;33m,\u001b[0m \u001b[0mparameters\u001b[0m\u001b[1;33m)\u001b[0m\u001b[1;33m[\u001b[0m\u001b[1;36m0\u001b[0m\u001b[1;33m]\u001b[0m\u001b[1;33m,\u001b[0m\u001b[0mtraining_features\u001b[0m\u001b[1;33m,\u001b[0m\u001b[0mtraining_labels\u001b[0m\u001b[1;33m)\u001b[0m\u001b[1;31m#fitness_obj(pop)\u001b[0m\u001b[1;33m\u001b[0m\u001b[1;33m\u001b[0m\u001b[0m\n\u001b[0m\u001b[0;32m     21\u001b[0m \u001b[1;33m\u001b[0m\u001b[0m\n\u001b[0;32m     22\u001b[0m         \u001b[0my_pred\u001b[0m \u001b[1;33m=\u001b[0m \u001b[0mmodel\u001b[0m\u001b[1;33m.\u001b[0m\u001b[0mpredict\u001b[0m\u001b[1;33m(\u001b[0m\u001b[0mtest_features\u001b[0m\u001b[1;33m)\u001b[0m\u001b[1;33m\u001b[0m\u001b[1;33m\u001b[0m\u001b[0m\n",
            "\u001b[1;32m~\\AppData\\Local\\Temp\\ipykernel_15536\\1661033133.py\u001b[0m in \u001b[0;36m__init__\u001b[1;34m(self, feature_map, train_features, train_label)\u001b[0m\n\u001b[0;32m     18\u001b[0m             \u001b[1;32mreturn\u001b[0m \u001b[0mgram\u001b[0m\u001b[1;33m\u001b[0m\u001b[1;33m\u001b[0m\u001b[0m\n\u001b[0;32m     19\u001b[0m         \u001b[0mself\u001b[0m\u001b[1;33m.\u001b[0m\u001b[0msvc\u001b[0m \u001b[1;33m=\u001b[0m \u001b[0mSVC\u001b[0m\u001b[1;33m(\u001b[0m\u001b[0mkernel\u001b[0m\u001b[1;33m=\u001b[0m\u001b[0mkernel\u001b[0m\u001b[1;33m,\u001b[0m\u001b[0mcache_size\u001b[0m\u001b[1;33m=\u001b[0m\u001b[1;36m5000\u001b[0m\u001b[1;33m)\u001b[0m\u001b[1;33m\u001b[0m\u001b[1;33m\u001b[0m\u001b[0m\n\u001b[1;32m---> 20\u001b[1;33m         \u001b[0mself\u001b[0m\u001b[1;33m.\u001b[0m\u001b[0msvc\u001b[0m\u001b[1;33m.\u001b[0m\u001b[0mfit\u001b[0m\u001b[1;33m(\u001b[0m\u001b[0mtrain_features\u001b[0m\u001b[1;33m,\u001b[0m \u001b[0mtrain_label\u001b[0m\u001b[1;33m)\u001b[0m\u001b[1;33m\u001b[0m\u001b[1;33m\u001b[0m\u001b[0m\n\u001b[0m\u001b[0;32m     21\u001b[0m \u001b[1;33m\u001b[0m\u001b[0m\n\u001b[0;32m     22\u001b[0m     \u001b[1;32mdef\u001b[0m \u001b[0mrun\u001b[0m\u001b[1;33m(\u001b[0m\u001b[0mself\u001b[0m\u001b[1;33m)\u001b[0m\u001b[1;33m:\u001b[0m\u001b[1;33m\u001b[0m\u001b[1;33m\u001b[0m\u001b[0m\n",
            "\u001b[1;32md:\\Anaconda\\envs\\qc\\lib\\site-packages\\sklearn\\svm\\_base.py\u001b[0m in \u001b[0;36mfit\u001b[1;34m(self, X, y, sample_weight)\u001b[0m\n\u001b[0;32m    249\u001b[0m \u001b[1;33m\u001b[0m\u001b[0m\n\u001b[0;32m    250\u001b[0m         \u001b[0mseed\u001b[0m \u001b[1;33m=\u001b[0m \u001b[0mrnd\u001b[0m\u001b[1;33m.\u001b[0m\u001b[0mrandint\u001b[0m\u001b[1;33m(\u001b[0m\u001b[0mnp\u001b[0m\u001b[1;33m.\u001b[0m\u001b[0miinfo\u001b[0m\u001b[1;33m(\u001b[0m\u001b[1;34m\"i\"\u001b[0m\u001b[1;33m)\u001b[0m\u001b[1;33m.\u001b[0m\u001b[0mmax\u001b[0m\u001b[1;33m)\u001b[0m\u001b[1;33m\u001b[0m\u001b[1;33m\u001b[0m\u001b[0m\n\u001b[1;32m--> 251\u001b[1;33m         \u001b[0mfit\u001b[0m\u001b[1;33m(\u001b[0m\u001b[0mX\u001b[0m\u001b[1;33m,\u001b[0m \u001b[0my\u001b[0m\u001b[1;33m,\u001b[0m \u001b[0msample_weight\u001b[0m\u001b[1;33m,\u001b[0m \u001b[0msolver_type\u001b[0m\u001b[1;33m,\u001b[0m \u001b[0mkernel\u001b[0m\u001b[1;33m,\u001b[0m \u001b[0mrandom_seed\u001b[0m\u001b[1;33m=\u001b[0m\u001b[0mseed\u001b[0m\u001b[1;33m)\u001b[0m\u001b[1;33m\u001b[0m\u001b[1;33m\u001b[0m\u001b[0m\n\u001b[0m\u001b[0;32m    252\u001b[0m         \u001b[1;31m# see comment on the other call to np.iinfo in this file\u001b[0m\u001b[1;33m\u001b[0m\u001b[1;33m\u001b[0m\u001b[0m\n\u001b[0;32m    253\u001b[0m \u001b[1;33m\u001b[0m\u001b[0m\n",
            "\u001b[1;32md:\\Anaconda\\envs\\qc\\lib\\site-packages\\sklearn\\svm\\_base.py\u001b[0m in \u001b[0;36m_dense_fit\u001b[1;34m(self, X, y, sample_weight, solver_type, kernel, random_seed)\u001b[0m\n\u001b[0;32m    312\u001b[0m             \u001b[1;31m# TODO: add keyword copy to copy on demand\u001b[0m\u001b[1;33m\u001b[0m\u001b[1;33m\u001b[0m\u001b[0m\n\u001b[0;32m    313\u001b[0m             \u001b[0mself\u001b[0m\u001b[1;33m.\u001b[0m\u001b[0m__Xfit\u001b[0m \u001b[1;33m=\u001b[0m \u001b[0mX\u001b[0m\u001b[1;33m\u001b[0m\u001b[1;33m\u001b[0m\u001b[0m\n\u001b[1;32m--> 314\u001b[1;33m             \u001b[0mX\u001b[0m \u001b[1;33m=\u001b[0m \u001b[0mself\u001b[0m\u001b[1;33m.\u001b[0m\u001b[0m_compute_kernel\u001b[0m\u001b[1;33m(\u001b[0m\u001b[0mX\u001b[0m\u001b[1;33m)\u001b[0m\u001b[1;33m\u001b[0m\u001b[1;33m\u001b[0m\u001b[0m\n\u001b[0m\u001b[0;32m    315\u001b[0m \u001b[1;33m\u001b[0m\u001b[0m\n\u001b[0;32m    316\u001b[0m             \u001b[1;32mif\u001b[0m \u001b[0mX\u001b[0m\u001b[1;33m.\u001b[0m\u001b[0mshape\u001b[0m\u001b[1;33m[\u001b[0m\u001b[1;36m0\u001b[0m\u001b[1;33m]\u001b[0m \u001b[1;33m!=\u001b[0m \u001b[0mX\u001b[0m\u001b[1;33m.\u001b[0m\u001b[0mshape\u001b[0m\u001b[1;33m[\u001b[0m\u001b[1;36m1\u001b[0m\u001b[1;33m]\u001b[0m\u001b[1;33m:\u001b[0m\u001b[1;33m\u001b[0m\u001b[1;33m\u001b[0m\u001b[0m\n",
            "\u001b[1;32md:\\Anaconda\\envs\\qc\\lib\\site-packages\\sklearn\\svm\\_base.py\u001b[0m in \u001b[0;36m_compute_kernel\u001b[1;34m(self, X)\u001b[0m\n\u001b[0;32m    510\u001b[0m             \u001b[1;31m# in the case of precomputed kernel given as a function, we\u001b[0m\u001b[1;33m\u001b[0m\u001b[1;33m\u001b[0m\u001b[0m\n\u001b[0;32m    511\u001b[0m             \u001b[1;31m# have to compute explicitly the kernel matrix\u001b[0m\u001b[1;33m\u001b[0m\u001b[1;33m\u001b[0m\u001b[0m\n\u001b[1;32m--> 512\u001b[1;33m             \u001b[0mkernel\u001b[0m \u001b[1;33m=\u001b[0m \u001b[0mself\u001b[0m\u001b[1;33m.\u001b[0m\u001b[0mkernel\u001b[0m\u001b[1;33m(\u001b[0m\u001b[0mX\u001b[0m\u001b[1;33m,\u001b[0m \u001b[0mself\u001b[0m\u001b[1;33m.\u001b[0m\u001b[0m__Xfit\u001b[0m\u001b[1;33m)\u001b[0m\u001b[1;33m\u001b[0m\u001b[1;33m\u001b[0m\u001b[0m\n\u001b[0m\u001b[0;32m    513\u001b[0m             \u001b[1;32mif\u001b[0m \u001b[0msp\u001b[0m\u001b[1;33m.\u001b[0m\u001b[0missparse\u001b[0m\u001b[1;33m(\u001b[0m\u001b[0mkernel\u001b[0m\u001b[1;33m)\u001b[0m\u001b[1;33m:\u001b[0m\u001b[1;33m\u001b[0m\u001b[1;33m\u001b[0m\u001b[0m\n\u001b[0;32m    514\u001b[0m                 \u001b[0mkernel\u001b[0m \u001b[1;33m=\u001b[0m \u001b[0mkernel\u001b[0m\u001b[1;33m.\u001b[0m\u001b[0mtoarray\u001b[0m\u001b[1;33m(\u001b[0m\u001b[1;33m)\u001b[0m\u001b[1;33m\u001b[0m\u001b[1;33m\u001b[0m\u001b[0m\n",
            "\u001b[1;32m~\\AppData\\Local\\Temp\\ipykernel_15536\\1661033133.py\u001b[0m in \u001b[0;36mkernel\u001b[1;34m(x1, x2)\u001b[0m\n\u001b[0;32m      9\u001b[0m             \u001b[0mψ1\u001b[0m \u001b[1;33m=\u001b[0m \u001b[0mfeature_map\u001b[0m\u001b[1;33m(\u001b[0m\u001b[0mx1\u001b[0m\u001b[1;33m.\u001b[0m\u001b[0mT\u001b[0m\u001b[1;33m)\u001b[0m\u001b[1;33m\u001b[0m\u001b[1;33m\u001b[0m\u001b[0m\n\u001b[0;32m     10\u001b[0m             \u001b[0mψ2\u001b[0m \u001b[1;33m=\u001b[0m \u001b[0mfeature_map\u001b[0m\u001b[1;33m(\u001b[0m\u001b[0mx2\u001b[0m\u001b[1;33m.\u001b[0m\u001b[0mT\u001b[0m\u001b[1;33m)\u001b[0m\u001b[1;33m\u001b[0m\u001b[1;33m\u001b[0m\u001b[0m\n\u001b[1;32m---> 11\u001b[1;33m             \u001b[0mgram\u001b[0m \u001b[1;33m=\u001b[0m \u001b[0mψ1\u001b[0m\u001b[1;33m.\u001b[0m\u001b[0mreal\u001b[0m \u001b[1;33m@\u001b[0m \u001b[0mψ2\u001b[0m\u001b[1;33m.\u001b[0m\u001b[0mreal\u001b[0m\u001b[1;33m.\u001b[0m\u001b[0mT\u001b[0m \u001b[1;33m+\u001b[0m \u001b[0mψ1\u001b[0m\u001b[1;33m.\u001b[0m\u001b[0mimag\u001b[0m \u001b[1;33m@\u001b[0m \u001b[0mψ2\u001b[0m\u001b[1;33m.\u001b[0m\u001b[0mimag\u001b[0m\u001b[1;33m.\u001b[0m\u001b[0mT\u001b[0m\u001b[1;33m\u001b[0m\u001b[1;33m\u001b[0m\u001b[0m\n\u001b[0m\u001b[0;32m     12\u001b[0m             \u001b[1;31m# print(f'psi1 shape = {ψ1.shape}')\u001b[0m\u001b[1;33m\u001b[0m\u001b[1;33m\u001b[0m\u001b[0m\n\u001b[0;32m     13\u001b[0m             \u001b[1;31m# print(f'psi2 shape = {ψ2.shape}')\u001b[0m\u001b[1;33m\u001b[0m\u001b[1;33m\u001b[0m\u001b[0m\n",
            "\u001b[1;31mKeyboardInterrupt\u001b[0m: "
          ]
        }
      ],
      "source": [
        "featuremap_performance(iot_salidas.circ[0],nqubits)"
      ]
    },
    {
      "cell_type": "code",
      "execution_count": 74,
      "metadata": {
        "colab": {
          "base_uri": "https://localhost:8080/",
          "height": 297
        },
        "id": "1yEEN_udarsn",
        "outputId": "be5c161d-22e0-45c9-e0fc-bb7b8cd6c727"
      },
      "outputs": [
        {
          "data": {
            "image/png": "[encoded data removed]",
            "text/plain": [
              "<Figure size 432x288 with 1 Axes>"
            ]
          },
          "metadata": {
            "needs_background": "light"
          },
          "output_type": "display_data"
        },
        {
          "data": {
            "text/plain": [
              "<Figure size 600x400 with 0 Axes>"
            ]
          },
          "metadata": {},
          "output_type": "display_data"
        }
      ],
      "source": [
        "gen = logbook.select(\"gen\")\n",
        "acc = logbook.chapters[\"acc\"].select(\"media\")\n",
        "\n",
        "import matplotlib.pyplot as plt\n",
        "\n",
        "fig, ax2 = plt.subplots()\n",
        "plt.figure(dpi = 100)\n",
        "\n",
        "line2 = ax2.plot(gen, acc, \"r-\", label=\"Average Accuracy\")\n",
        "ax2.set_ylabel(\"Accuracy\", color=\"r\")\n",
        "for tl in ax2.get_yticklabels():\n",
        "    tl.set_color(\"r\")\n",
        "\n",
        "\n",
        "plt.show()"
      ]
    },
    {
      "cell_type": "code",
      "execution_count": 13,
      "metadata": {
        "id": "uQOMDMVIarsn"
      },
      "outputs": [],
      "source": [
        "    "
      ]
    }
  ],
  "metadata": {
    "accelerator": "GPU",
    "colab": {
      "provenance": []
    },
    "gpuClass": "standard",
    "kernelspec": {
      "display_name": "Python 3 (ipykernel)",
      "language": "python",
      "name": "python3"
    },
    "language_info": {
      "codemirror_mode": {
        "name": "ipython",
        "version": 3
      },
      "file_extension": ".py",
      "mimetype": "text/x-python",
      "name": "python",
      "nbconvert_exporter": "python",
      "pygments_lexer": "ipython3",
      "version": "3.9.7"
    },
    "vscode": {
      "interpreter": {
        "hash": "3dc53fd84ad5731d04d4fc36beb52296b89dd90b5123e6bc5399b8c2dcae883a"
      }
    }
  },
  "nbformat": 4,
  "nbformat_minor": 0
}
